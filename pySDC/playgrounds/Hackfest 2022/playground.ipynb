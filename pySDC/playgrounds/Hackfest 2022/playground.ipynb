{
 "cells": [
  {
   "cell_type": "markdown",
   "metadata": {
    "pycharm": {
     "name": "#%% md\n"
    }
   },
   "source": [
    "An Allen-Cahn playground\n",
    "========================"
   ]
  },
  {
   "cell_type": "markdown",
   "metadata": {
    "pycharm": {
     "name": "#%% md\n"
    }
   },
   "source": [
    "A first SDC run\n",
    "---------------"
   ]
  },
  {
   "cell_type": "markdown",
   "metadata": {
    "pycharm": {
     "name": "#%% md\n"
    }
   },
   "source": [
    "We will start by setting up our spatial problem:"
   ]
  },
  {
   "cell_type": "code",
   "execution_count": 1,
   "metadata": {
    "pycharm": {
     "name": "#%%\n"
    }
   },
   "outputs": [],
   "source": [
    "from pySDC.implementations.problem_classes.AllenCahn_2D_FD import allencahn_fullyimplicit\n",
    "\n",
    "# initialize problem parameters\n",
    "\n",
    "problem_params = dict()\n",
    "problem_params['nu'] = 2\n",
    "problem_params['eps'] = 0.04\n",
    "problem_params['radius'] = 0.25\n",
    "problem_params['nvars'] = [(128, 128)]\n",
    "problem_params['newton_maxiter'] = 100\n",
    "problem_params['newton_tol'] = 1E-08\n",
    "problem_params['lin_tol'] = 1E-09\n",
    "problem_params['lin_maxiter'] = 100"
   ]
  },
  {
   "cell_type": "markdown",
   "metadata": {
    "pycharm": {
     "name": "#%% md\n"
    }
   },
   "source": [
    "Then, the temporal setup for pySDC:"
   ]
  },
  {
   "cell_type": "code",
   "execution_count": 4,
   "metadata": {
    "pycharm": {
     "name": "#%%\n"
    }
   },
   "outputs": [],
   "source": [
    "
    "from pySDC.implementations.sweeper_classes.generic_implicit import generic_implicit\n",
    "\n",
    "# initialize level parameters\n",
    "level_params = dict()\n",
    "level_params['restol'] = 1E-07\n",
    "level_params['dt'] = 1E-03 / 2\n",
    "level_params['nsweeps'] = 1\n",
    "\n",
    "# initialize sweeper parameters\n",
    "sweeper_params = dict()\n",
sweeper_params['quad_type'] = 'RADAU-RIGHT'\n",
    "sweeper_params['QI'] = ['LU']\n",
    "sweeper_params['num_nodes'] = 4\n",
    "sweeper_params['initial_guess'] = 'zero'\n",
    "\n",
    "# initialize step parameters\n",
    "step_params = dict()\n",
    "step_params['maxiter'] = 50\n",
    "\n",
    "# setup parameters \"in time\"\n",
    "t0 = 0\n",
    "Tend = 0.016"
   ]
  },
  {
   "cell_type": "markdown",
   "metadata": {
    "pycharm": {
     "name": "#%% md\n"
    }
   },
   "source": [
    "Finally, the controller:"
   ]
  },
  {
   "cell_type": "code",
   "execution_count": 5,
   "metadata": {
    "pycharm": {
     "name": "#%%\n"
    }
   },
   "outputs": [
    {
     "name": "stdout",
     "output_type": "stream",
     "text": [
      "controller - INFO: Setup overview (--> user-defined) -- BEGIN\n",
      "controller - INFO: ----------------------------------------------------------------------------------------------------\n",
      "\n",
      "Controller: <class 'pySDC.implementations.controller_classes.controller_nonMPI.controller_nonMPI'>\n",
      "    mssdc_jac = True\n",
      "    predict_type = None\n",
      "    all_to_done = False\n",
      "--> logger_level = 20\n",
      "    log_to_file = False\n",
      "    dump_setup = True\n",
      "    fname = run_pid62065.log\n",
      "    use_iteration_estimator = False\n",
      "--> hook_class = <class 'pySDC.core.Hooks.hooks'>\n",
      "\n",
      "Step: <class 'pySDC.core.Step.step'>\n",
      "--> maxiter = 50\n",
      "    Level: <class 'pySDC.core.Level.level'>\n",
      "        Level  0\n",
      "-->         dt = 0.0005\n",
      "-->         restol = 1e-07\n",
      "-->         nsweeps = 1\n",
      "            residual_type = full_abs\n",
      "-->         Problem: <class 'pySDC.implementations.problem_classes.AllenCahn_2D_FD.allencahn_fullyimplicit'>\n",
      "-->             nu = 2\n",
      "-->             eps = 0.04\n",
      "-->             radius = 0.25\n",
      "-->             nvars = (128, 128)\n",
      "-->             newton_maxiter = 100\n",
      "-->             newton_tol = 1e-08\n",
      "-->             lin_tol = 1e-09\n",
      "-->             lin_maxiter = 100\n",
      "-->             Data type u: <class 'pySDC.implementations.datatype_classes.mesh.mesh'>\n",
      "-->             Data type f: <class 'pySDC.implementations.datatype_classes.mesh.mesh'>\n",
      "-->             Sweeper: <class 'pySDC.implementations.sweeper_classes.generic_implicit.generic_implicit'>\n",
      "                    do_coll_update = False\n",
      "-->                 initial_guess = zero\n",
      "-->                 QI = LU\n",
      "-->                 num_nodes = 4\n",
      "-->                 Collocation: <class 'pySDC.implementations.collocation_classes.gauss_radau_right.CollGaussRadau_Right'>\n",
      "\n",
      "controller - INFO: ----------------------------------------------------------------------------------------------------\n",
      "controller - INFO: Setup overview (--> user-defined) -- END\n",
      "\n"
     ]
    }
   ],
   "source": [
    "from pySDC.implementations.controller_classes.controller_nonMPI import controller_nonMPI\n",
    "\n",
    "# initialize controller parameters\n",
    "controller_params = dict()\n",
    "controller_params['logger_level'] = 20\n",
    "\n",
    "# fill description dictionary for easy step instantiation\n",
    "description = dict()\n",
    "description['problem_class'] = allencahn_fullyimplicit\n",
    "description['problem_params'] = problem_params  # pass problem parameters\n",
    "description['sweeper_class'] = generic_implicit  # pass sweeper\n",
    "description['sweeper_params'] = sweeper_params  # pass sweeper parameters\n",
    "description['level_params'] = level_params  # pass level parameters\n",
    "description['step_params'] = step_params  # pass step parameters\n",
    "\n",
    "# instantiate controller\n",
    "\n",
    "controller = controller_nonMPI(num_procs=1, controller_params=controller_params, description=description)"
   ]
  },
  {
   "cell_type": "markdown",
   "metadata": {
    "pycharm": {
     "name": "#%% md\n"
    }
   },
   "source": [
    "We're now setting up the initial conditions. Note that we could have done this earlier, but now the data structure is in place and we can rely on our problem class without having to deal with it directly:"
   ]
  },
  {
   "cell_type": "code",
   "execution_count": 6,
   "metadata": {
    "pycharm": {
     "name": "#%%\n"
    }
   },
   "outputs": [],
   "source": [
    "# get initial values on finest level\n",
    "P = controller.MS[0].levels[0].prob\n",
    "uinit = P.u_exact(t0)"
   ]
  },
  {
   "cell_type": "markdown",
   "metadata": {
    "pycharm": {
     "name": "#%% md\n"
    }
   },
   "source": [
    "Now everything is in place to run the simulation:"
   ]
  },
  {
   "cell_type": "code",
   "execution_count": 7,
   "metadata": {
    "pycharm": {
     "name": "#%%\n"
    }
   },
   "outputs": [
    {
     "name": "stdout",
     "output_type": "stream",
     "text": [
      "hooks - INFO: Process  0 on time 0.000000 at stage         IT_FINE: Level: 0 -- Iteration:  1 -- Sweep:  1 -- residual: 8.83633397e-03\n",
      "hooks - INFO: Process  0 on time 0.000000 at stage         IT_FINE: Level: 0 -- Iteration:  2 -- Sweep:  1 -- residual: 1.61011700e-05\n",
      "hooks - INFO: Process  0 on time 0.000000 at stage         IT_FINE: Level: 0 -- Iteration:  3 -- Sweep:  1 -- residual: 1.84328884e-06\n",
      "hooks - INFO: Process  0 on time 0.000000 at stage         IT_FINE: Level: 0 -- Iteration:  4 -- Sweep:  1 -- residual: 2.20525763e-07\n",
      "hooks - INFO: Process  0 on time 0.000000 at stage         IT_FINE: Level: 0 -- Iteration:  5 -- Sweep:  1 -- residual: 3.44135767e-08\n",
      "hooks - INFO: Process  0 on time 0.000500 at stage         IT_FINE: Level: 0 -- Iteration:  1 -- Sweep:  1 -- residual: 8.90892942e-03\n",
      "hooks - INFO: Process  0 on time 0.000500 at stage         IT_FINE: Level: 0 -- Iteration:  2 -- Sweep:  1 -- residual: 2.36963780e-05\n",
      "hooks - INFO: Process  0 on time 0.000500 at stage         IT_FINE: Level: 0 -- Iteration:  3 -- Sweep:  1 -- residual: 1.67701261e-06\n",
      "hooks - INFO: Process  0 on time 0.000500 at stage         IT_FINE: Level: 0 -- Iteration:  4 -- Sweep:  1 -- residual: 1.97666128e-07\n",
      "hooks - INFO: Process  0 on time 0.000500 at stage         IT_FINE: Level: 0 -- Iteration:  5 -- Sweep:  1 -- residual: 2.63388844e-08\n",
      "hooks - INFO: Process  0 on time 0.001000 at stage         IT_FINE: Level: 0 -- Iteration:  1 -- Sweep:  1 -- residual: 8.97796844e-03\n",
      "hooks - INFO: Process  0 on time 0.001000 at stage         IT_FINE: Level: 0 -- Iteration:  2 -- Sweep:  1 -- residual: 3.27542614e-05\n",
      "hooks - INFO: Process  0 on time 0.001000 at stage         IT_FINE: Level: 0 -- Iteration:  3 -- Sweep:  1 -- residual: 2.16930426e-06\n",
      "hooks - INFO: Process  0 on time 0.001000 at stage         IT_FINE: Level: 0 -- Iteration:  4 -- Sweep:  1 -- residual: 2.25730466e-07\n",
      "hooks - INFO: Process  0 on time 0.001000 at stage         IT_FINE: Level: 0 -- Iteration:  5 -- Sweep:  1 -- residual: 2.76056497e-08\n",
      "hooks - INFO: Process  0 on time 0.001500 at stage         IT_FINE: Level: 0 -- Iteration:  1 -- Sweep:  1 -- residual: 9.04579543e-03\n",
      "hooks - INFO: Process  0 on time 0.001500 at stage         IT_FINE: Level: 0 -- Iteration:  2 -- Sweep:  1 -- residual: 3.91259713e-05\n",
      "hooks - INFO: Process  0 on time 0.001500 at stage         IT_FINE: Level: 0 -- Iteration:  3 -- Sweep:  1 -- residual: 2.54309291e-06\n",
      "hooks - INFO: Process  0 on time 0.001500 at stage         IT_FINE: Level: 0 -- Iteration:  4 -- Sweep:  1 -- residual: 2.47610869e-07\n",
      "hooks - INFO: Process  0 on time 0.001500 at stage         IT_FINE: Level: 0 -- Iteration:  5 -- Sweep:  1 -- residual: 2.91508780e-08\n",
      "hooks - INFO: Process  0 on time 0.002000 at stage         IT_FINE: Level: 0 -- Iteration:  1 -- Sweep:  1 -- residual: 9.11858254e-03\n",
      "hooks - INFO: Process  0 on time 0.002000 at stage         IT_FINE: Level: 0 -- Iteration:  2 -- Sweep:  1 -- residual: 4.36418446e-05\n",
      "hooks - INFO: Process  0 on time 0.002000 at stage         IT_FINE: Level: 0 -- Iteration:  3 -- Sweep:  1 -- residual: 2.79212425e-06\n",
      "hooks - INFO: Process  0 on time 0.002000 at stage         IT_FINE: Level: 0 -- Iteration:  4 -- Sweep:  1 -- residual: 2.64912131e-07\n",
      "hooks - INFO: Process  0 on time 0.002000 at stage         IT_FINE: Level: 0 -- Iteration:  5 -- Sweep:  1 -- residual: 3.02969004e-08\n",
      "hooks - INFO: Process  0 on time 0.002500 at stage         IT_FINE: Level: 0 -- Iteration:  1 -- Sweep:  1 -- residual: 9.19794893e-03\n",
      "hooks - INFO: Process  0 on time 0.002500 at stage         IT_FINE: Level: 0 -- Iteration:  2 -- Sweep:  1 -- residual: 4.68684988e-05\n",
      "hooks - INFO: Process  0 on time 0.002500 at stage         IT_FINE: Level: 0 -- Iteration:  3 -- Sweep:  1 -- residual: 2.97878851e-06\n",
      "hooks - INFO: Process  0 on time 0.002500 at stage         IT_FINE: Level: 0 -- Iteration:  4 -- Sweep:  1 -- residual: 2.77757342e-07\n",
      "hooks - INFO: Process  0 on time 0.002500 at stage         IT_FINE: Level: 0 -- Iteration:  5 -- Sweep:  1 -- residual: 3.13503956e-08\n",
      "hooks - INFO: Process  0 on time 0.003000 at stage         IT_FINE: Level: 0 -- Iteration:  1 -- Sweep:  1 -- residual: 9.28104675e-03\n",
      "hooks - INFO: Process  0 on time 0.003000 at stage         IT_FINE: Level: 0 -- Iteration:  2 -- Sweep:  1 -- residual: 4.93221701e-05\n",
      "hooks - INFO: Process  0 on time 0.003000 at stage         IT_FINE: Level: 0 -- Iteration:  3 -- Sweep:  1 -- residual: 3.11866377e-06\n",
      "hooks - INFO: Process  0 on time 0.003000 at stage         IT_FINE: Level: 0 -- Iteration:  4 -- Sweep:  1 -- residual: 2.87165893e-07\n",
      "hooks - INFO: Process  0 on time 0.003000 at stage         IT_FINE: Level: 0 -- Iteration:  5 -- Sweep:  1 -- residual: 3.22343329e-08\n",
      "hooks - INFO: Process  0 on time 0.003500 at stage         IT_FINE: Level: 0 -- Iteration:  1 -- Sweep:  1 -- residual: 9.36256973e-03\n",
      "hooks - INFO: Process  0 on time 0.003500 at stage         IT_FINE: Level: 0 -- Iteration:  2 -- Sweep:  1 -- residual: 5.13195209e-05\n",
      "hooks - INFO: Process  0 on time 0.003500 at stage         IT_FINE: Level: 0 -- Iteration:  3 -- Sweep:  1 -- residual: 3.22480099e-06\n",
      "hooks - INFO: Process  0 on time 0.003500 at stage         IT_FINE: Level: 0 -- Iteration:  4 -- Sweep:  1 -- residual: 2.95723242e-07\n",
      "hooks - INFO: Process  0 on time 0.003500 at stage         IT_FINE: Level: 0 -- Iteration:  5 -- Sweep:  1 -- residual: 3.30150656e-08\n",
      "hooks - INFO: Process  0 on time 0.004000 at stage         IT_FINE: Level: 0 -- Iteration:  1 -- Sweep:  1 -- residual: 9.45015073e-03\n",
      "hooks - INFO: Process  0 on time 0.004000 at stage         IT_FINE: Level: 0 -- Iteration:  2 -- Sweep:  1 -- residual: 5.30310659e-05\n",
      "hooks - INFO: Process  0 on time 0.004000 at stage         IT_FINE: Level: 0 -- Iteration:  3 -- Sweep:  1 -- residual: 3.31940963e-06\n",
      "hooks - INFO: Process  0 on time 0.004000 at stage         IT_FINE: Level: 0 -- Iteration:  4 -- Sweep:  1 -- residual: 3.03437959e-07\n",
      "hooks - INFO: Process  0 on time 0.004000 at stage         IT_FINE: Level: 0 -- Iteration:  5 -- Sweep:  1 -- residual: 3.37155897e-08\n",
      "hooks - INFO: Process  0 on time 0.004500 at stage         IT_FINE: Level: 0 -- Iteration:  1 -- Sweep:  1 -- residual: 9.54253506e-03\n",
      "hooks - INFO: Process  0 on time 0.004500 at stage         IT_FINE: Level: 0 -- Iteration:  2 -- Sweep:  1 -- residual: 5.45779052e-05\n",
      "hooks - INFO: Process  0 on time 0.004500 at stage         IT_FINE: Level: 0 -- Iteration:  3 -- Sweep:  1 -- residual: 3.40674304e-06\n",
      "hooks - INFO: Process  0 on time 0.004500 at stage         IT_FINE: Level: 0 -- Iteration:  4 -- Sweep:  1 -- residual: 3.10259373e-07\n",
      "hooks - INFO: Process  0 on time 0.004500 at stage         IT_FINE: Level: 0 -- Iteration:  5 -- Sweep:  1 -- residual: 3.44374894e-08\n",
      "hooks - INFO: Process  0 on time 0.005000 at stage         IT_FINE: Level: 0 -- Iteration:  1 -- Sweep:  1 -- residual: 9.63751843e-03\n",
      "hooks - INFO: Process  0 on time 0.005000 at stage         IT_FINE: Level: 0 -- Iteration:  2 -- Sweep:  1 -- residual: 5.60536365e-05\n",
      "hooks - INFO: Process  0 on time 0.005000 at stage         IT_FINE: Level: 0 -- Iteration:  3 -- Sweep:  1 -- residual: 3.48378698e-06\n",
      "hooks - INFO: Process  0 on time 0.005000 at stage         IT_FINE: Level: 0 -- Iteration:  4 -- Sweep:  1 -- residual: 3.16840649e-07\n",
      "hooks - INFO: Process  0 on time 0.005000 at stage         IT_FINE: Level: 0 -- Iteration:  5 -- Sweep:  1 -- residual: 3.51851506e-08\n",
      "hooks - INFO: Process  0 on time 0.005500 at stage         IT_FINE: Level: 0 -- Iteration:  1 -- Sweep:  1 -- residual: 9.72976969e-03\n",
      "hooks - INFO: Process  0 on time 0.005500 at stage         IT_FINE: Level: 0 -- Iteration:  2 -- Sweep:  1 -- residual: 5.75148087e-05\n",
      "hooks - INFO: Process  0 on time 0.005500 at stage         IT_FINE: Level: 0 -- Iteration:  3 -- Sweep:  1 -- residual: 3.56308529e-06\n",
      "hooks - INFO: Process  0 on time 0.005500 at stage         IT_FINE: Level: 0 -- Iteration:  4 -- Sweep:  1 -- residual: 3.23989094e-07\n",
      "hooks - INFO: Process  0 on time 0.005500 at stage         IT_FINE: Level: 0 -- Iteration:  5 -- Sweep:  1 -- residual: 3.58375523e-08\n",
      "hooks - INFO: Process  0 on time 0.006000 at stage         IT_FINE: Level: 0 -- Iteration:  1 -- Sweep:  1 -- residual: 9.83210100e-03\n"
     ]
    },
    {
     "name": "stdout",
     "output_type": "stream",
     "text": [
      "hooks - INFO: Process  0 on time 0.006000 at stage         IT_FINE: Level: 0 -- Iteration:  2 -- Sweep:  1 -- residual: 5.89563470e-05\n",
      "hooks - INFO: Process  0 on time 0.006000 at stage         IT_FINE: Level: 0 -- Iteration:  3 -- Sweep:  1 -- residual: 3.64219988e-06\n",
      "hooks - INFO: Process  0 on time 0.006000 at stage         IT_FINE: Level: 0 -- Iteration:  4 -- Sweep:  1 -- residual: 3.31043273e-07\n",
      "hooks - INFO: Process  0 on time 0.006000 at stage         IT_FINE: Level: 0 -- Iteration:  5 -- Sweep:  1 -- residual: 3.66295965e-08\n",
      "hooks - INFO: Process  0 on time 0.006500 at stage         IT_FINE: Level: 0 -- Iteration:  1 -- Sweep:  1 -- residual: 9.93648317e-03\n",
      "hooks - INFO: Process  0 on time 0.006500 at stage         IT_FINE: Level: 0 -- Iteration:  2 -- Sweep:  1 -- residual: 6.04568634e-05\n",
      "hooks - INFO: Process  0 on time 0.006500 at stage         IT_FINE: Level: 0 -- Iteration:  3 -- Sweep:  1 -- residual: 3.72352553e-06\n",
      "hooks - INFO: Process  0 on time 0.006500 at stage         IT_FINE: Level: 0 -- Iteration:  4 -- Sweep:  1 -- residual: 3.37713241e-07\n",
      "hooks - INFO: Process  0 on time 0.006500 at stage         IT_FINE: Level: 0 -- Iteration:  5 -- Sweep:  1 -- residual: 3.74084240e-08\n",
      "hooks - INFO: Process  0 on time 0.007000 at stage         IT_FINE: Level: 0 -- Iteration:  1 -- Sweep:  1 -- residual: 1.00401820e-02\n",
      "hooks - INFO: Process  0 on time 0.007000 at stage         IT_FINE: Level: 0 -- Iteration:  2 -- Sweep:  1 -- residual: 6.20040856e-05\n",
      "hooks - INFO: Process  0 on time 0.007000 at stage         IT_FINE: Level: 0 -- Iteration:  3 -- Sweep:  1 -- residual: 3.79980613e-06\n",
      "hooks - INFO: Process  0 on time 0.007000 at stage         IT_FINE: Level: 0 -- Iteration:  4 -- Sweep:  1 -- residual: 3.44948534e-07\n",
      "hooks - INFO: Process  0 on time 0.007000 at stage         IT_FINE: Level: 0 -- Iteration:  5 -- Sweep:  1 -- residual: 3.82093450e-08\n",
      "hooks - INFO: Process  0 on time 0.007500 at stage         IT_FINE: Level: 0 -- Iteration:  1 -- Sweep:  1 -- residual: 1.01515149e-02\n",
      "hooks - INFO: Process  0 on time 0.007500 at stage         IT_FINE: Level: 0 -- Iteration:  2 -- Sweep:  1 -- residual: 6.36217080e-05\n",
      "hooks - INFO: Process  0 on time 0.007500 at stage         IT_FINE: Level: 0 -- Iteration:  3 -- Sweep:  1 -- residual: 3.88788316e-06\n",
      "hooks - INFO: Process  0 on time 0.007500 at stage         IT_FINE: Level: 0 -- Iteration:  4 -- Sweep:  1 -- residual: 3.52836148e-07\n",
      "hooks - INFO: Process  0 on time 0.007500 at stage         IT_FINE: Level: 0 -- Iteration:  5 -- Sweep:  1 -- residual: 3.89725521e-08\n",
      "hooks - INFO: Process  0 on time 0.008000 at stage         IT_FINE: Level: 0 -- Iteration:  1 -- Sweep:  1 -- residual: 1.02673298e-02\n",
      "hooks - INFO: Process  0 on time 0.008000 at stage         IT_FINE: Level: 0 -- Iteration:  2 -- Sweep:  1 -- residual: 6.52525932e-05\n",
      "hooks - INFO: Process  0 on time 0.008000 at stage         IT_FINE: Level: 0 -- Iteration:  3 -- Sweep:  1 -- residual: 3.97698319e-06\n",
      "hooks - INFO: Process  0 on time 0.008000 at stage         IT_FINE: Level: 0 -- Iteration:  4 -- Sweep:  1 -- residual: 3.60320914e-07\n",
      "hooks - INFO: Process  0 on time 0.008000 at stage         IT_FINE: Level: 0 -- Iteration:  5 -- Sweep:  1 -- residual: 3.99016305e-08\n",
      "hooks - INFO: Process  0 on time 0.008500 at stage         IT_FINE: Level: 0 -- Iteration:  1 -- Sweep:  1 -- residual: 1.03860052e-02\n",
      "hooks - INFO: Process  0 on time 0.008500 at stage         IT_FINE: Level: 0 -- Iteration:  2 -- Sweep:  1 -- residual: 6.70453695e-05\n",
      "hooks - INFO: Process  0 on time 0.008500 at stage         IT_FINE: Level: 0 -- Iteration:  3 -- Sweep:  1 -- residual: 4.06441262e-06\n",
      "hooks - INFO: Process  0 on time 0.008500 at stage         IT_FINE: Level: 0 -- Iteration:  4 -- Sweep:  1 -- residual: 3.68733505e-07\n",
      "hooks - INFO: Process  0 on time 0.008500 at stage         IT_FINE: Level: 0 -- Iteration:  5 -- Sweep:  1 -- residual: 4.08219931e-08\n",
      "hooks - INFO: Process  0 on time 0.009000 at stage         IT_FINE: Level: 0 -- Iteration:  1 -- Sweep:  1 -- residual: 1.05067562e-02\n",
      "hooks - INFO: Process  0 on time 0.009000 at stage         IT_FINE: Level: 0 -- Iteration:  2 -- Sweep:  1 -- residual: 6.89043550e-05\n",
      "hooks - INFO: Process  0 on time 0.009000 at stage         IT_FINE: Level: 0 -- Iteration:  3 -- Sweep:  1 -- residual: 4.16118010e-06\n",
      "hooks - INFO: Process  0 on time 0.009000 at stage         IT_FINE: Level: 0 -- Iteration:  4 -- Sweep:  1 -- residual: 3.77496226e-07\n",
      "hooks - INFO: Process  0 on time 0.009000 at stage         IT_FINE: Level: 0 -- Iteration:  5 -- Sweep:  1 -- residual: 4.17155216e-08\n",
      "hooks - INFO: Process  0 on time 0.009500 at stage         IT_FINE: Level: 0 -- Iteration:  1 -- Sweep:  1 -- residual: 1.06364144e-02\n",
      "hooks - INFO: Process  0 on time 0.009500 at stage         IT_FINE: Level: 0 -- Iteration:  2 -- Sweep:  1 -- residual: 7.08163971e-05\n",
      "hooks - INFO: Process  0 on time 0.009500 at stage         IT_FINE: Level: 0 -- Iteration:  3 -- Sweep:  1 -- residual: 4.26357643e-06\n",
      "hooks - INFO: Process  0 on time 0.009500 at stage         IT_FINE: Level: 0 -- Iteration:  4 -- Sweep:  1 -- residual: 3.86310086e-07\n",
      "hooks - INFO: Process  0 on time 0.009500 at stage         IT_FINE: Level: 0 -- Iteration:  5 -- Sweep:  1 -- residual: 4.27253064e-08\n",
      "hooks - INFO: Process  0 on time 0.010000 at stage         IT_FINE: Level: 0 -- Iteration:  1 -- Sweep:  1 -- residual: 1.07695992e-02\n",
      "hooks - INFO: Process  0 on time 0.010000 at stage         IT_FINE: Level: 0 -- Iteration:  2 -- Sweep:  1 -- residual: 7.28950455e-05\n",
      "hooks - INFO: Process  0 on time 0.010000 at stage         IT_FINE: Level: 0 -- Iteration:  3 -- Sweep:  1 -- residual: 4.36453711e-06\n",
      "hooks - INFO: Process  0 on time 0.010000 at stage         IT_FINE: Level: 0 -- Iteration:  4 -- Sweep:  1 -- residual: 3.95723266e-07\n",
      "hooks - INFO: Process  0 on time 0.010000 at stage         IT_FINE: Level: 0 -- Iteration:  5 -- Sweep:  1 -- residual: 4.37928330e-08\n",
      "hooks - INFO: Process  0 on time 0.010500 at stage         IT_FINE: Level: 0 -- Iteration:  1 -- Sweep:  1 -- residual: 1.09044201e-02\n",
      "hooks - INFO: Process  0 on time 0.010500 at stage         IT_FINE: Level: 0 -- Iteration:  2 -- Sweep:  1 -- residual: 7.50931273e-05\n",
      "hooks - INFO: Process  0 on time 0.010500 at stage         IT_FINE: Level: 0 -- Iteration:  3 -- Sweep:  1 -- residual: 4.47500670e-06\n",
      "hooks - INFO: Process  0 on time 0.010500 at stage         IT_FINE: Level: 0 -- Iteration:  4 -- Sweep:  1 -- residual: 4.05750048e-07\n",
      "hooks - INFO: Process  0 on time 0.010500 at stage         IT_FINE: Level: 0 -- Iteration:  5 -- Sweep:  1 -- residual: 4.48371201e-08\n",
      "hooks - INFO: Process  0 on time 0.011000 at stage         IT_FINE: Level: 0 -- Iteration:  1 -- Sweep:  1 -- residual: 1.10496134e-02\n",
      "hooks - INFO: Process  0 on time 0.011000 at stage         IT_FINE: Level: 0 -- Iteration:  2 -- Sweep:  1 -- residual: 7.73566607e-05\n",
      "hooks - INFO: Process  0 on time 0.011000 at stage         IT_FINE: Level: 0 -- Iteration:  3 -- Sweep:  1 -- residual: 4.59379299e-06\n",
      "hooks - INFO: Process  0 on time 0.011000 at stage         IT_FINE: Level: 0 -- Iteration:  4 -- Sweep:  1 -- residual: 4.16224628e-07\n",
      "hooks - INFO: Process  0 on time 0.011000 at stage         IT_FINE: Level: 0 -- Iteration:  5 -- Sweep:  1 -- residual: 4.59886551e-08\n",
      "hooks - INFO: Process  0 on time 0.011500 at stage         IT_FINE: Level: 0 -- Iteration:  1 -- Sweep:  1 -- residual: 1.11996231e-02\n",
      "hooks - INFO: Process  0 on time 0.011500 at stage         IT_FINE: Level: 0 -- Iteration:  2 -- Sweep:  1 -- residual: 7.98388134e-05\n",
      "hooks - INFO: Process  0 on time 0.011500 at stage         IT_FINE: Level: 0 -- Iteration:  3 -- Sweep:  1 -- residual: 4.71101159e-06\n",
      "hooks - INFO: Process  0 on time 0.011500 at stage         IT_FINE: Level: 0 -- Iteration:  4 -- Sweep:  1 -- residual: 4.27002918e-07\n",
      "hooks - INFO: Process  0 on time 0.011500 at stage         IT_FINE: Level: 0 -- Iteration:  5 -- Sweep:  1 -- residual: 4.72387647e-08\n",
      "hooks - INFO: Process  0 on time 0.012000 at stage         IT_FINE: Level: 0 -- Iteration:  1 -- Sweep:  1 -- residual: 1.13511420e-02\n",
      "hooks - INFO: Process  0 on time 0.012000 at stage         IT_FINE: Level: 0 -- Iteration:  2 -- Sweep:  1 -- residual: 8.24733893e-05\n"
     ]
    },
    {
     "name": "stdout",
     "output_type": "stream",
     "text": [
      "hooks - INFO: Process  0 on time 0.012000 at stage         IT_FINE: Level: 0 -- Iteration:  3 -- Sweep:  1 -- residual: 4.84163312e-06\n",
      "hooks - INFO: Process  0 on time 0.012000 at stage         IT_FINE: Level: 0 -- Iteration:  4 -- Sweep:  1 -- residual: 4.38721628e-07\n",
      "hooks - INFO: Process  0 on time 0.012000 at stage         IT_FINE: Level: 0 -- Iteration:  5 -- Sweep:  1 -- residual: 4.84445288e-08\n",
      "hooks - INFO: Process  0 on time 0.012500 at stage         IT_FINE: Level: 0 -- Iteration:  1 -- Sweep:  1 -- residual: 1.15165044e-02\n",
      "hooks - INFO: Process  0 on time 0.012500 at stage         IT_FINE: Level: 0 -- Iteration:  2 -- Sweep:  1 -- residual: 8.51941819e-05\n",
      "hooks - INFO: Process  0 on time 0.012500 at stage         IT_FINE: Level: 0 -- Iteration:  3 -- Sweep:  1 -- residual: 4.98029044e-06\n",
      "hooks - INFO: Process  0 on time 0.012500 at stage         IT_FINE: Level: 0 -- Iteration:  4 -- Sweep:  1 -- residual: 4.50955565e-07\n",
      "hooks - INFO: Process  0 on time 0.012500 at stage         IT_FINE: Level: 0 -- Iteration:  5 -- Sweep:  1 -- residual: 4.98279087e-08\n",
      "hooks - INFO: Process  0 on time 0.013000 at stage         IT_FINE: Level: 0 -- Iteration:  1 -- Sweep:  1 -- residual: 1.16868893e-02\n",
      "hooks - INFO: Process  0 on time 0.013000 at stage         IT_FINE: Level: 0 -- Iteration:  2 -- Sweep:  1 -- residual: 8.82270238e-05\n",
      "hooks - INFO: Process  0 on time 0.013000 at stage         IT_FINE: Level: 0 -- Iteration:  3 -- Sweep:  1 -- residual: 5.11649976e-06\n",
      "hooks - INFO: Process  0 on time 0.013000 at stage         IT_FINE: Level: 0 -- Iteration:  4 -- Sweep:  1 -- residual: 4.63642701e-07\n",
      "hooks - INFO: Process  0 on time 0.013000 at stage         IT_FINE: Level: 0 -- Iteration:  5 -- Sweep:  1 -- residual: 5.12826203e-08\n",
      "hooks - INFO: Process  0 on time 0.013500 at stage         IT_FINE: Level: 0 -- Iteration:  1 -- Sweep:  1 -- residual: 1.18636258e-02\n",
      "hooks - INFO: Process  0 on time 0.013500 at stage         IT_FINE: Level: 0 -- Iteration:  2 -- Sweep:  1 -- residual: 9.14346760e-05\n",
      "hooks - INFO: Process  0 on time 0.013500 at stage         IT_FINE: Level: 0 -- Iteration:  3 -- Sweep:  1 -- residual: 5.27404534e-06\n",
      "hooks - INFO: Process  0 on time 0.013500 at stage         IT_FINE: Level: 0 -- Iteration:  4 -- Sweep:  1 -- residual: 4.77656435e-07\n",
      "hooks - INFO: Process  0 on time 0.013500 at stage         IT_FINE: Level: 0 -- Iteration:  5 -- Sweep:  1 -- residual: 5.26820701e-08\n",
      "hooks - INFO: Process  0 on time 0.014000 at stage         IT_FINE: Level: 0 -- Iteration:  1 -- Sweep:  1 -- residual: 1.20514837e-02\n",
      "hooks - INFO: Process  0 on time 0.014000 at stage         IT_FINE: Level: 0 -- Iteration:  2 -- Sweep:  1 -- residual: 9.48349990e-05\n",
      "hooks - INFO: Process  0 on time 0.014000 at stage         IT_FINE: Level: 0 -- Iteration:  3 -- Sweep:  1 -- residual: 5.43769073e-06\n",
      "hooks - INFO: Process  0 on time 0.014000 at stage         IT_FINE: Level: 0 -- Iteration:  4 -- Sweep:  1 -- residual: 4.91708337e-07\n",
      "hooks - INFO: Process  0 on time 0.014000 at stage         IT_FINE: Level: 0 -- Iteration:  5 -- Sweep:  1 -- residual: 5.43674824e-08\n",
      "hooks - INFO: Process  0 on time 0.014500 at stage         IT_FINE: Level: 0 -- Iteration:  1 -- Sweep:  1 -- residual: 1.22454882e-02\n",
      "hooks - INFO: Process  0 on time 0.014500 at stage         IT_FINE: Level: 0 -- Iteration:  2 -- Sweep:  1 -- residual: 9.85255957e-05\n",
      "hooks - INFO: Process  0 on time 0.014500 at stage         IT_FINE: Level: 0 -- Iteration:  3 -- Sweep:  1 -- residual: 5.60504863e-06\n",
      "hooks - INFO: Process  0 on time 0.014500 at stage         IT_FINE: Level: 0 -- Iteration:  4 -- Sweep:  1 -- residual: 5.07267437e-07\n",
      "hooks - INFO: Process  0 on time 0.014500 at stage         IT_FINE: Level: 0 -- Iteration:  5 -- Sweep:  1 -- residual: 5.61007431e-08\n",
      "hooks - INFO: Process  0 on time 0.015000 at stage         IT_FINE: Level: 0 -- Iteration:  1 -- Sweep:  1 -- residual: 1.24513980e-02\n",
      "hooks - INFO: Process  0 on time 0.015000 at stage         IT_FINE: Level: 0 -- Iteration:  2 -- Sweep:  1 -- residual: 1.02562449e-04\n",
      "hooks - INFO: Process  0 on time 0.015000 at stage         IT_FINE: Level: 0 -- Iteration:  3 -- Sweep:  1 -- residual: 5.78922149e-06\n",
      "hooks - INFO: Process  0 on time 0.015000 at stage         IT_FINE: Level: 0 -- Iteration:  4 -- Sweep:  1 -- residual: 5.24235668e-07\n",
      "hooks - INFO: Process  0 on time 0.015000 at stage         IT_FINE: Level: 0 -- Iteration:  5 -- Sweep:  1 -- residual: 5.78629981e-08\n",
      "hooks - INFO: Process  0 on time 0.015500 at stage         IT_FINE: Level: 0 -- Iteration:  1 -- Sweep:  1 -- residual: 1.26716916e-02\n",
      "hooks - INFO: Process  0 on time 0.015500 at stage         IT_FINE: Level: 0 -- Iteration:  2 -- Sweep:  1 -- residual: 1.06808960e-04\n",
      "hooks - INFO: Process  0 on time 0.015500 at stage         IT_FINE: Level: 0 -- Iteration:  3 -- Sweep:  1 -- residual: 5.98643089e-06\n",
      "hooks - INFO: Process  0 on time 0.015500 at stage         IT_FINE: Level: 0 -- Iteration:  4 -- Sweep:  1 -- residual: 5.41195837e-07\n",
      "hooks - INFO: Process  0 on time 0.015500 at stage         IT_FINE: Level: 0 -- Iteration:  5 -- Sweep:  1 -- residual: 5.98232827e-08\n"
     ]
    }
   ],
   "source": [
    "# call main function to get things done...\n",
    "uend, stats = controller.run(u0=uinit, t0=t0, Tend=Tend)"
   ]
  },
  {
   "cell_type": "markdown",
   "metadata": {
    "pycharm": {
     "name": "#%% md\n"
    }
   },
   "source": [
    "What did it do? Let's have a look at the solution ``uend`` and compare it to the initial condition ``uinit`` to see if things moved:"
   ]
  },
  {
   "cell_type": "code",
   "execution_count": 8,
   "metadata": {
    "pycharm": {
     "name": "#%%\n"
    }
   },
   "outputs": [
    {
     "data": {
      "text/plain": [
       "<matplotlib.image.AxesImage at 0x10e04d280>"
      ]
     },
     "execution_count": 8,
     "metadata": {},
     "output_type": "execute_result"
    },
    {
     "data": {
      "image/png": "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\n",
      "text/plain": [
       "<Figure size 432x288 with 2 Axes>"
      ]
     },
     "metadata": {
      "needs_background": "light"
     },
     "output_type": "display_data"
    }
   ],
   "source": [
    "import matplotlib.pylab as plt\n",
    "\n",
    "plt.subplot(1, 2, 1)\n",
    "plt.title(\"u(t0)\")\n",
    "plt.imshow(uinit,extent=[-0.5,0.5,-0.5,0.5])\n",
    "\n",
    "plt.subplot(1, 2, 2)\n",
    "plt.title(\"u(Tend)\")\n",
    "plt.imshow(uend,extent=[-0.5,0.5,-0.5,0.5])"
   ]
  },
  {
   "cell_type": "markdown",
   "metadata": {
    "pycharm": {
     "name": "#%% md\n"
    }
   },
   "source": [
    "Now let's have a look at the iteration counts. For that the ``run`` method also returned a ``stats`` object. It is not really straightforward to extract information from that (unless you happen to know how), but there are helpers around:\n"
   ]
  },
  {
   "cell_type": "code",
   "execution_count": 9,
   "metadata": {
    "pycharm": {
     "name": "#%%\n"
    }
   },
   "outputs": [],
   "source": [
    "from pySDC.helpers.stats_helper import get_sorted\n",
    "import numpy as np\n",
    "\n",
    "# convert filtered statistics to list of iterations count, sorted by time-step\n",
    "iter_counts = get_sorted(stats, type='niter', sortby='time')\n",
    "\n",
    "# compute and print statistics\n",
    "niters = np.array([item[1] for item in iter_counts])"
   ]
  },
  {
   "cell_type": "code",
   "execution_count": 10,
   "metadata": {
    "pycharm": {
     "name": "#%%\n"
    }
   },
   "outputs": [
    {
     "name": "stdout",
     "output_type": "stream",
     "text": [
      "Mean number of iterations: 5.00\n",
      "Range of values for number of iterations: 0\n",
      "Position of max/min number of iterations: 0 / 0\n",
      "Iteration count nonlinear solver (sum/mean per call): 1057 / 1.6515625\n"
     ]
    }
   ],
   "source": [
    "print(f'Mean number of iterations: {np.mean(niters):4.2f}')\n",
    "print(f'Range of values for number of iterations: {np.ptp(niters)}')\n",
    "print(f'Position of max/min number of iterations: {int(np.argmax(niters))} / {int(np.argmax(niters))}')\n",
    "print(f'Iteration count nonlinear solver (sum/mean per call): {P.newton_itercount} / {P.newton_itercount / max(P.newton_ncalls, 1)}')"
   ]
  },
  {
   "cell_type": "markdown",
   "metadata": {
    "pycharm": {
     "name": "#%% md\n"
    }
   },
   "source": [
    "We also get the time-to-solution back:"
   ]
  },
  {
   "cell_type": "code",
   "execution_count": 11,
   "metadata": {
    "pycharm": {
     "name": "#%%\n"
    }
   },
   "outputs": [
    {
     "name": "stdout",
     "output_type": "stream",
     "text": [
      "Time to solution: 24.2035 sec.\n"
     ]
    }
   ],
   "source": [
    "timing = get_sorted(stats, type='timing_run', sortby='time')\n",
    "\n",
    "print('Time to solution: %6.4f sec.' % timing[0][1])"
   ]
  },
  {
   "cell_type": "markdown",
   "metadata": {
    "pycharm": {
     "name": "#%% md\n"
    }
   },
   "source": [
    "More user output - using hooks\n",
    "------------------------------"
   ]
  },
  {
   "cell_type": "markdown",
   "metadata": {
    "pycharm": {
     "name": "#%% md\n"
    }
   },
   "source": [
    "The default output can be controlled using the ``logger_level`` in the ``controller_params``: ``30`` is silent, ``20`` gives runtime information and ``10`` is for debugging. Note that when changing any of these parameters, it is required to set up the controller again, because only then the parameters will be correctly applied everywhere. We will do that later."
   ]
  },
  {
   "cell_type": "code",
   "execution_count": 12,
   "metadata": {
    "pycharm": {
     "name": "#%%\n"
    }
   },
   "outputs": [],
   "source": [
    "controller_params['logger_level'] = 30"
   ]
  },
  {
   "cell_type": "markdown",
   "metadata": {
    "pycharm": {
     "name": "#%% md\n"
    }
   },
   "source": [
    "Without further specification, `pySDC` gathers information on iterations, residuals, runtimes and so on. In order to get problem-specific, custom data in there, hook-classes can be added to the controller, which contain functions that are then called whenever certain parts of the algorithm are started or completed. A list of possible functions can be found in ``core/Hooks.py``, which is the class all custom hook-classes should inherit from. We show here an example, where after each step the current radius is calculated:"
   ]
  },
  {
   "cell_type": "code",
   "execution_count": 13,
   "metadata": {
    "pycharm": {
     "name": "#%%\n"
    }
   },
   "outputs": [],
   "source": [
    "from pySDC.core.Hooks import hooks\n",
    "\n",
    "class monitor(hooks):\n",
    "\n",
    "    def post_step(self, step, level_number):\n",
    "\n",
    "        super(monitor, self).post_step(step, level_number)\n",
    "\n",
    "        # get current\n",
    "        L = step.levels[0]\n",
    "\n",
    "        c = np.count_nonzero(L.uend >= 0.0)\n",
    "        radius = np.sqrt(c / np.pi) * L.prob.dx\n",
    "\n",
    "        self.add_to_stats(process=step.status.slot, time=L.time + L.dt, level=-1, iter=step.status.iter,\n",
    "                          sweep=L.status.sweep, type='computed_radius', value=radius)"
   ]
  },
  {
   "cell_type": "markdown",
   "metadata": {
    "pycharm": {
     "name": "#%% md\n"
    }
   },
   "source": [
    "Besides some computation, the key functionality is the call to ``self.add_to_stats`` which is the function to add information to the ``stats``-object. Using ``type``, this can later be accessed as we have seen above with ``timing_run`` and ``niter``. The name ``post_step`` of the class function indicates that this will be called after each time-step is completed."
   ]
  },
  {
   "cell_type": "markdown",
   "metadata": {
    "pycharm": {
     "name": "#%% md\n"
    }
   },
   "source": [
    "This class can now be added to the controller:"
   ]
  },
  {
   "cell_type": "code",
   "execution_count": 14,
   "metadata": {
    "pycharm": {
     "name": "#%%\n"
    }
   },
   "outputs": [],
   "source": [
    "controller_params['hook_class'] = monitor\n",
    "controller = controller_nonMPI(num_procs=1, controller_params=controller_params, description=description)"
   ]
  },
  {
   "cell_type": "markdown",
   "metadata": {
    "pycharm": {
     "name": "#%% md\n"
    }
   },
   "source": [
    "We now re-run the simulation, obtain the radius after each step and plot it:"
   ]
  },
  {
   "cell_type": "code",
   "execution_count": 15,
   "metadata": {
    "pycharm": {
     "name": "#%%\n"
    }
   },
   "outputs": [],
   "source": [
    "uend, stats = controller.run(u0=uinit, t0=t0, Tend=Tend)"
   ]
  },
  {
   "cell_type": "code",
   "execution_count": 16,
   "metadata": {
    "pycharm": {
     "name": "#%%\n"
    }
   },
   "outputs": [
    {
     "data": {
      "text/plain": [
       "[<matplotlib.lines.Line2D at 0x10e1b05b0>]"
      ]
     },
     "execution_count": 16,
     "metadata": {},
     "output_type": "execute_result"
    },
    {
     "data": {
      "image/png": "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\n",
      "text/plain": [
       "<Figure size 432x288 with 1 Axes>"
      ]
     },
     "metadata": {
      "needs_background": "light"
     },
     "output_type": "display_data"
    }
   ],
   "source": [
    "radii = get_sorted(stats, type='computed_radius', sortby='time')\n",
    "\n",
    "plt.subplot()\n",
    "plt.plot([t[0] for t in radii], [t[1] for t in radii])"
   ]
  },
  {
   "cell_type": "markdown",
   "metadata": {
    "pycharm": {
     "name": "#%% md\n"
    }
   },
   "source": [
    "Building your own sweeper\n",
    "-------------------------"
   ]
  },
  {
   "cell_type": "markdown",
   "metadata": {
    "pycharm": {
     "name": "#%% md\n"
    }
   },
   "source": [
    "While pySDC comes with a lot of functionality, it's purpose is to be extendable and (in a sense) modular. User are able to replace nearly all key functionality with their own approaches. One particular aspect of this are custom sweepers. In this example, we will look at sweepers that enable parallelism across the nodes."
   ]
  },
  {
   "cell_type": "markdown",
   "metadata": {
    "pycharm": {
     "name": "#%% md\n"
    }
   },
   "source": [
    "A sweeper in pySDC takes values $u_m$ at the nodes and updates them using the SDC iteration rule to get $u_{m+1}$, using the particular type of $Q_\\Delta$ (and of course the scheme itself, be it IMEX, implicit, verlocity-verlet and so on). The sweeper is also responsible for computing the residual on a time-step, for getting the final value $u_{\\textrm{end}}$ and the right boundary of the intervall. It also provides the mechanism to integrate over the nodes using the $Q$-matrix and it can set initial guess for each node."
   ]
  },
  {
   "cell_type": "markdown",
   "metadata": {
    "pycharm": {
     "name": "#%% md\n"
    }
   },
   "source": [
    "All of these things can be overwritten from users, if needed. For replacing a serial sweeper with a parallel one, this is indeed needed. The idea is that if $Q_\\Delta$ is a diagonal one, each update of the $M$ nodes can be done using $M$ processes. For computing the residual or for integrating over the nodes, communication over the nodes is needed. We will thus write a new sweeper, which can work with $M$ MPI processes. Note that we will not deal with all the details here, no error checking, no ideal memory layout etc. to keep the example short."
   ]
  },
  {
   "cell_type": "markdown",
   "metadata": {
    "pycharm": {
     "name": "#%% md\n"
    }
   },
   "source": [
    "Before we start, however, let's make sure MPI jobs can be run. We connect to our ``ipcluster`` and check if all looks good:"
   ]
  },
  {
   "cell_type": "code",
   "execution_count": 17,
   "metadata": {
    "pycharm": {
     "is_executing": true,
     "name": "#%%\n"
    }
   },
   "outputs": [],
   "source": [
    "import ipyparallel as ipp\n",
    "rc = ipp.Client()\n",
    "view = rc[:]"
   ]
  },
  {
   "cell_type": "code",
   "execution_count": 18,
   "metadata": {
    "pycharm": {
     "is_executing": true,
     "name": "#%%\n"
    }
   },
   "outputs": [
    {
     "data": {
      "text/plain": [
       "[stdout:0] 4\n"
      ]
     },
     "metadata": {},
     "output_type": "display_data"
    },
    {
     "data": {
      "text/plain": [
       "[stdout:2] 4\n"
      ]
     },
     "metadata": {},
     "output_type": "display_data"
    },
    {
     "data": {
      "text/plain": [
       "[stdout:1] 4\n"
      ]
     },
     "metadata": {},
     "output_type": "display_data"
    },
    {
     "data": {
      "text/plain": [
       "[stdout:3] 4\n"
      ]
     },
     "metadata": {},
     "output_type": "display_data"
    }
   ],
   "source": [
    "%%px\n",
    "from mpi4py import MPI\n",
    "\n",
    "print(MPI.COMM_WORLD.Get_size())"
   ]
  },
  {
   "cell_type": "markdown",
   "metadata": {
    "pycharm": {
     "name": "#%% md\n"
    }
   },
   "source": [
    "We then start with the initialization of our new sweeper, nothing fancy here:"
   ]
  },
  {
   "cell_type": "code",
   "execution_count": 20,
   "metadata": {
    "pycharm": {
     "name": "#%%\n"
    }
   },
   "outputs": [],
   "source": [
    "%%px\n",
    "import jdc  # required to split the class definition into multiple cells..\n",
    "from pySDC.core.Sweeper import sweeper\n",
    "\n",
    "class generic_implicit_MPI(sweeper):\n",
    "\n",
    "    def __init__(self, params):\n",
    "\n",
    "        # call parent's initialization routine\n",
    "        super(generic_implicit_MPI, self).__init__(params)\n",
    "        # set Q_Delta matrix and store MPI rank\n",
    "        self.QI = self.get_Qdelta_implicit(self.coll, qd_type=self.params.QI)\n",
    "        self.rank = self.params.comm.Get_rank()"
   ]
  },
  {
   "cell_type": "markdown",
   "metadata": {
    "pycharm": {
     "name": "#%% md\n"
    }
   },
   "source": [
    "The next thing our sweeper should be able to do is to integrate over the nodes using $Q$. As in the serial case this is just evaluating $Qu$, but now each process has only a single entry of $u$ (i.e. process $m$ has $u_m$). That's a standard use case for ``MPI Reduce``, but each process has to participate in $M$ of those reductions to get all availabe data. Note that there's an easier way to do that if you accept to store not 1 but all $M$ values."
   ]
  },
  {
   "cell_type": "code",
   "execution_count": 21,
   "metadata": {
    "pycharm": {
     "name": "#%%\n"
    }
   },
   "outputs": [],
   "source": [
    "%%px\n",
    "%%add_to generic_implicit_MPI\n",
    "def integrate(self):\n",
    "    # get current level and problem description\n",
    "    L = self.level\n",
    "    P = L.prob\n",
    "\n",
    "    me = P.dtype_u(P.init, val=0.0)\n",
    "    for m in range(self.coll.num_nodes):\n",
    "        if m == self.rank:\n",
    "            # if it's my turn, add to result the incoming data\n",
    "            self.params.comm.Reduce(L.dt * self.coll.Qmat[m + 1, self.rank + 1] * L.f[self.rank + 1],\n",
    "                                    me, root=m, op=MPI.SUM)\n",
    "        else:\n",
    "            # if it's not my turn, contribute to global sum\n",
    "            self.params.comm.Reduce(L.dt * self.coll.Qmat[m + 1, self.rank + 1] * L.f[self.rank + 1],\n",
    "                                    None, root=m, op=MPI.SUM)\n",
    "    return me"
   ]
  },
  {
   "cell_type": "markdown",
   "metadata": {
    "pycharm": {
     "name": "#%% md\n"
    }
   },
   "source": [
    "We end up with the $m$th part of the integral over nodes on process $m$. The next step now is to add the actual sweep mechanics. This is actually very simple: build the right-hand side of SDC and apply the preconditioner. Since $Q_\\Delta$ is diagonal and the nodes are distributed, there is no loop involved (which indicates that we're going to get speeeeeeeedup)."
   ]
  },
  {
   "cell_type": "code",
   "execution_count": 22,
   "metadata": {
    "pycharm": {
     "name": "#%%\n"
    }
   },
   "outputs": [],
   "source": [
    "%%px\n",
    "%%add_to generic_implicit_MPI\n",
    "def update_nodes(self):\n",
    "    # get current level and problem description\n",
    "    L = self.level\n",
    "    P = L.prob\n",
    "\n",
    "     # start building the right-hand side of for the SDC sweep\n",
    "    # get Q F(u^k)\n",
    "    rhs = self.integrate()\n",
    "    # substract Q_Delta F(u^k)\n",
    "    rhs -= L.dt * self.QI[self.rank + 1, self.rank + 1] * L.f[self.rank + 1]\n",
    "    # add initial value\n",
    "    rhs += L.u[0]\n",
    "\n",
    "    # implicit solve with prefactor stemming from the diagonal of Qd\n",
    "    L.u[self.rank + 1] = P.solve_system(rhs, L.dt * self.QI[self.rank + 1, self.rank + 1], L.u[self.rank + 1],\n",
    "                                        L.time + L.dt * self.coll.nodes[self.rank])\n",
    "    # update function values\n",
    "    L.f[self.rank + 1] = P.eval_f(L.u[self.rank + 1], L.time + L.dt * self.coll.nodes[self.rank])\n",
    "\n",
    "    # indicate presence of new values at this level (pySDC internal thing, should always do this in your sweeper)\n",
    "    L.status.updated = True"
   ]
  },
  {
   "cell_type": "markdown",
   "metadata": {
    "pycharm": {
     "name": "#%% md\n"
    }
   },
   "source": [
    "Now that there's a way how to get from $u^k$ to $u^{k+1}$, we need to do some bookkeeping: compute the residual, compute the end point, define initial guesses. Nothing fancy here, but necessary nonetheless:"
   ]
  },
  {
   "cell_type": "code",
   "execution_count": 23,
   "metadata": {
    "pycharm": {
     "name": "#%%\n"
    }
   },
   "outputs": [],
   "source": [
    "%%px\n",
    "%%add_to generic_implicit_MPI\n",
    "def compute_end_point(self):\n",
    "    # get current level and problem description\n",
    "    L = self.level\n",
    "    L.uend[:] = self.params.comm.bcast(L.u[self.rank + 1], root=self.params.comm.Get_size() - 1)\n",
    "\n",
    "def compute_residual(self):\n",
    "    # get current level and problem description\n",
    "    L = self.level\n",
    "\n",
    "    # compute the residual for each node\n",
    "    res = self.integrate()\n",
    "    res += L.u[0] - L.u[self.rank + 1]\n",
    "    # use abs function from data type here\n",
    "    res_norm = abs(res)\n",
    "    # find maximal residual over the nodes\n",
    "    L.status.residual = self.params.comm.allreduce(res_norm, op=MPI.MAX)\n",
    "\n",
    "    # indicate that the residual has seen the new values\n",
    "    L.status.updated = False\n",
    "\n",
    "def predict(self):\n",
    "    # get current level and problem description\n",
    "    L = self.level\n",
    "    P = L.prob\n",
    "\n",
    "    # evaluate RHS at left point\n",
    "    L.f[0] = P.eval_f(L.u[0], L.time)\n",
    "    # we just implement 'spread' here for simplicity\n",
    "    L.u[self.rank + 1] = P.dtype_u(L.u[0])\n",
    "    L.f[self.rank + 1] = P.eval_f(L.u[self.rank + 1], L.time + L.dt * self.coll.nodes[self.rank])\n",
    "\n",
    "    L.uend = P.dtype_u(L.u[0])\n",
    "\n",
    "    # indicate that this level is now ready for sweeps\n",
    "    L.status.unlocked = True\n",
    "    L.status.updated = True"
   ]
  },
  {
   "cell_type": "markdown",
   "metadata": {
    "pycharm": {
     "name": "#%% md\n"
    }
   },
   "source": [
    "Now we have a full new sweeper which allows us to run in parallel over $M$ nodes (since we did not spend much thought on this, note that it HAS to be exactly $M$ processes.. much room for optimization here!). In order to use all this, we have to pass the new sweeper to the controller and include the MPI communicator as parameter for the sweeper."
   ]
  },
  {
   "cell_type": "markdown",
   "metadata": {
    "pycharm": {
     "name": "#%% md\n"
    }
   },
   "source": [
    "Now, due to limitations of how to run MPI stuff in Jupyter notebooks, we have to set up our whole run again. Re-using data from above won't work because we need to change context with the cell magic ``%%px``."
   ]
  },
  {
   "cell_type": "code",
   "execution_count": 24,
   "metadata": {
    "pycharm": {
     "name": "#%%\n"
    }
   },
   "outputs": [],
   "source": [
    "%%px\n",
    "from pySDC.implementations.problem_classes.AllenCahn_2D_FD import allencahn_fullyimplicit\n",
    "
    "\n",
    "# initialize problem parameters\n",
    "problem_params = dict()\n",
    "problem_params['nu'] = 2\n",
    "problem_params['eps'] = 0.04\n",
    "problem_params['radius'] = 0.25\n",
    "problem_params['nvars'] = [(128, 128)]\n",
    "problem_params['newton_maxiter'] = 100\n",
    "problem_params['newton_tol'] = 1E-08\n",
    "problem_params['lin_tol'] = 1E-09\n",
    "problem_params['lin_maxiter'] = 100\n",
    "\n",
    "# initialize level parameters\n",
    "level_params = dict()\n",
    "level_params['restol'] = 1E-07\n",
    "level_params['dt'] = 1E-03 / 2\n",
    "level_params['nsweeps'] = 1\n",
    "\n",
    "# initialize sweeper parameters\n",
    "sweeper_params = dict()\n",
    "sweeper_params['node_type'] = 'LEGENDRE'
sweeper_params['quad_type'] = 'RADAU-RIGHT'\n",
    "sweeper_params['num_nodes'] = 4\n",
    "sweeper_params['initial_guess'] = 'zero'\n",
    "\n",
    "# initialize step parameters\n",
    "step_params = dict()\n",
    "step_params['maxiter'] = 50\n",
    "\n",
    "# setup parameters \"in time\"\n",
    "t0 = 0\n",
    "Tend = 0.016\n",
    "\n",
    "# initialize controller parameters\n",
    "controller_params = dict()\n",
    "controller_params['logger_level'] = 30\n",
    "\n",
    "# fill description dictionary for easy step instantiation\n",
    "description = dict()\n",
    "description['problem_class'] = allencahn_fullyimplicit\n",
    "description['problem_params'] = problem_params  # pass problem parameters\n",
    "description['level_params'] = level_params  # pass level parameters\n",
    "description['step_params'] = step_params  # pass step parameters\n"
   ]
  },
  {
   "cell_type": "markdown",
   "metadata": {
    "pycharm": {
     "name": "#%% md\n"
    }
   },
   "source": [
    "Now we need to put in our new sweeper. Note that we also have to choose a different $Q_\\Delta$. We'll use a pre-defined one from the base sweeper class, pass the MPI communicator to the sweeper and put all this into the description of the problem to finally instantiate our controller:"
   ]
  },
  {
   "cell_type": "code",
   "execution_count": 25,
   "metadata": {
    "pycharm": {
     "name": "#%%\n"
    }
   },
   "outputs": [],
   "source": [
    "%%px\n",
    "from pySDC.implementations.controller_classes.controller_nonMPI import controller_nonMPI\n",
    "\n",
    "sweeper_params['QI'] = ['MIN3']\n",
    "sweeper_params['comm'] = MPI.COMM_WORLD\n",
    "\n",
    "description['sweeper_class'] = generic_implicit_MPI  # pass sweeper class\n",
    "description['sweeper_params'] = sweeper_params  # pass sweeper parameters\n",
    "\n",
    "controller = controller_nonMPI(num_procs=1, controller_params=controller_params, description=description)"
   ]
  },
  {
   "cell_type": "markdown",
   "metadata": {
    "pycharm": {
     "name": "#%% md\n"
    }
   },
   "source": [
    "Looks good so far, so we'll set up the initial conditions and run this:"
   ]
  },
  {
   "cell_type": "code",
   "execution_count": 28,
   "metadata": {
    "pycharm": {
     "name": "#%%\n"
    }
   },
   "outputs": [
    {
     "data": {
      "application/vnd.jupyter.widget-view+json": {
       "model_id": "3518b79590b6488c80c6a657525d5a1e",
       "version_major": 2,
       "version_minor": 0
      },
      "text/plain": [
       "%px:   0%|          | 0/4 [00:00<?, ?tasks/s]"
      ]
     },
     "metadata": {},
     "output_type": "display_data"
    }
   ],
   "source": [
    "%%px\n",
    "P = controller.MS[0].levels[0].prob\n",
    "uinit = P.u_exact(t0)\n",
    "\n",
    "uend_par, stats_par = controller.run(u0=uinit, t0=t0, Tend=Tend)"
   ]
  },
  {
   "cell_type": "markdown",
   "metadata": {
    "pycharm": {
     "name": "#%% md\n"
    }
   },
   "source": [
    "OK, no message so far (which is good, logger level is set to silent). All participating processes now have the results and stats, so let's see:"
   ]
  },
  {
   "cell_type": "code",
   "execution_count": 31,
   "metadata": {
    "pycharm": {
     "is_executing": true,
     "name": "#%%\n"
    }
   },
   "outputs": [
    {
     "data": {
      "text/plain": [
       "[stdout:1] Time to solution on rank 1: 27.8967 sec.\n"
      ]
     },
     "metadata": {},
     "output_type": "display_data"
    },
    {
     "data": {
      "text/plain": [
       "[stdout:2] Time to solution on rank 2: 27.8981 sec.\n"
      ]
     },
     "metadata": {},
     "output_type": "display_data"
    },
    {
     "data": {
      "text/plain": [
       "[stdout:3] Time to solution on rank 3: 27.8993 sec.\n"
      ]
     },
     "metadata": {},
     "output_type": "display_data"
    },
    {
     "data": {
      "text/plain": [
       "[stdout:0] Time to solution on rank 0: 27.8904 sec.\n"
      ]
     },
     "metadata": {},
     "output_type": "display_data"
    },
    {
     "data": {
      "application/vnd.jupyter.widget-view+json": {
       "model_id": "9e803b449c1f42cfb3edd2b5546253bc",
       "version_major": 2,
       "version_minor": 0
      },
      "text/plain": [
       "%px:   0%|          | 0/4 [00:00<?, ?tasks/s]"
      ]
     },
     "metadata": {},
     "output_type": "display_data"
    }
   ],
   "source": [
    "%%px\n",
    "rank = MPI.COMM_WORLD.Get_rank()\n",
    "\n",
    "from pySDC.helpers.stats_helper import get_sorted\n",
    "\n",
    "timing = get_sorted(stats_par, type='timing_run', sortby='time')\n",
    "print(f'Time to solution on rank {rank}: {timing[0][1]:6.4f} sec.' )\n",
    "\n",
    "if rank == 0:\n",
    "    import matplotlib.pylab as plt\n",
    "\n",
    "    plt.subplot(1, 2, 1)\n",
    "    plt.title(\"u(t0)\")\n",
    "    plt.imshow(uinit,extent=[-0.5,0.5,-0.5,0.5])\n",
    "\n",
    "    plt.subplot(1, 2, 2)\n",
    "    plt.title(\"u(Tend)\")\n",
    "    plt.imshow(uend_par,extent=[-0.5,0.5,-0.5,0.5])\n",
    "    plt.show()"
   ]
  },
  {
   "cell_type": "markdown",
   "metadata": {
    "pycharm": {
     "name": "#%% md\n"
    }
   },
   "source": []
  },
  {
   "cell_type": "markdown",
   "metadata": {
    "pycharm": {
     "name": "#%% md\n"
    }
   },
   "source": [
    "Anyway, this is how you can use a custom sweeper. And in a very similar manner you can replace everything, from controllers (e.g. for adaptivity or fault tolerance) and the transfer module (e.g. if you need mass matrices) to the step and level classes (e.g. if you need more data available)."
   ]
  },
  {
   "cell_type": "markdown",
   "metadata": {
    "pycharm": {
     "name": "#%% md\n"
    }
   },
   "source": [
    "As a user, your default entry are problem implementations, though. For that, don't start from scratch but use existing examples and copy from there."
   ]
  }
 ],
 "metadata": {
  "kernelspec": {
   "display_name": "Python 3 (ipykernel)",
   "language": "python",
   "name": "python3"
  },
  "language_info": {
   "codemirror_mode": {
    "name": "ipython",
    "version": 3
   },
   "file_extension": ".py",
   "mimetype": "text/x-python",
   "name": "python",
   "nbconvert_exporter": "python",
   "pygments_lexer": "ipython3",
   "version": "3.9.12"
  }
 },
 "nbformat": 4,
 "nbformat_minor": 1
}