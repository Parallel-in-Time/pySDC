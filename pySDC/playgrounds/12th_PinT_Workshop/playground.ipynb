{
 "cells": [
  {
   "cell_type": "markdown",
   "metadata": {
    "pycharm": {
     "name": "#%% md\n"
    }
   },
   "source": [
    "An Allen-Cahn playground\n",
    "========================"
   ]
  },
  {
   "cell_type": "markdown",
   "metadata": {
    "pycharm": {
     "name": "#%% md\n"
    }
   },
   "source": [
    "A first SDC run\n",
    "---------------"
   ]
  },
  {
   "cell_type": "markdown",
   "metadata": {
    "pycharm": {
     "name": "#%% md\n"
    }
   },
   "source": [
    "We will start by setting up our spatial problem:"
   ]
  },
  {
   "cell_type": "code",
   "execution_count": 1,
   "metadata": {
    "ExecuteTime": {
     "end_time": "2023-06-08T08:09:47.817544Z",
     "start_time": "2023-06-08T08:09:46.616308Z"
    },
    "pycharm": {
     "name": "#%%\n"
    }
   },
   "outputs": [],
   "source": [
    "from pySDC.implementations.problem_classes.AllenCahn_2D_FD import allencahn_fullyimplicit\n",
    "\n",
    "# initialize problem parameters\n",
    "\n",
    "problem_params = dict()\n",
    "problem_params['nu'] = 2\n",
    "problem_params['eps'] = 0.04\n",
    "problem_params['radius'] = 0.25\n",
    "problem_params['nvars'] = [(128, 128)]\n",
    "problem_params['newton_maxiter'] = 100\n",
    "problem_params['newton_tol'] = 1E-08\n",
    "problem_params['lin_tol'] = 1E-09\n",
    "problem_params['lin_maxiter'] = 100"
   ]
  },
  {
   "cell_type": "markdown",
   "metadata": {
    "pycharm": {
     "name": "#%% md\n"
    }
   },
   "source": [
    "Then, the temporal setup for pySDC:"
   ]
  },
  {
   "cell_type": "code",
   "execution_count": 2,
   "metadata": {
    "ExecuteTime": {
     "end_time": "2023-06-08T08:09:49.898106Z",
     "start_time": "2023-06-08T08:09:49.332338Z"
    },
    "pycharm": {
     "name": "#%%\n"
    }
   },
   "outputs": [],
   "source": [
    "from pySDC.implementations.sweeper_classes.generic_implicit import generic_implicit\n",
    "\n",
    "# initialize level parameters\n",
    "level_params = dict()\n",
    "level_params['restol'] = 1E-07\n",
    "level_params['dt'] = 1E-03 / 2\n",
    "level_params['nsweeps'] = 1\n",
    "\n",
    "# initialize sweeper parameters\n",
    "sweeper_params = dict()\n",
    "sweeper_params['quad_type'] = 'RADAU-RIGHT'\n",
    "sweeper_params['QI'] = ['LU']\n",
    "sweeper_params['num_nodes'] = 4\n",
    "sweeper_params['initial_guess'] = 'zero'\n",
    "\n",
    "# initialize step parameters\n",
    "step_params = dict()\n",
    "step_params['maxiter'] = 50\n",
    "\n",
    "# setup parameters \"in time\"\n",
    "t0 = 0\n",
    "Tend = 0.016"
   ]
  },
  {
   "cell_type": "markdown",
   "metadata": {
    "pycharm": {
     "name": "#%% md\n"
    }
   },
   "source": [
    "Finally, the controller:"
   ]
  },
  {
   "cell_type": "code",
   "execution_count": 3,
   "metadata": {
    "ExecuteTime": {
     "end_time": "2023-06-08T08:09:52.653307Z",
     "start_time": "2023-06-08T08:09:52.601482Z"
    },
    "pycharm": {
     "name": "#%%\n"
    }
   },
   "outputs": [
    {
     "name": "stdout",
     "output_type": "stream",
     "text": [
      "controller - INFO: Welcome to the one and only, really very astonishing and 87.3% bug free\n",
      "                                 _____ _____   _____ \n",
      "                                / ____|  __ \\ / ____|\n",
      "                    _ __  _   _| (___ | |  | | |     \n",
      "                   | '_ \\| | | |\\___ \\| |  | | |     \n",
      "                   | |_) | |_| |____) | |__| | |____ \n",
      "                   | .__/ \\__, |_____/|_____/ \\_____|\n",
      "                   | |     __/ |                     \n",
      "                   |_|    |___/                      \n",
      "                                                     \n",
      "controller - INFO: Setup overview (--> user-defined, -> dependency) -- BEGIN\n",
      "controller - INFO: ----------------------------------------------------------------------------------------------------\n",
      "\n",
      "Controller: <class 'pySDC.implementations.controller_classes.controller_nonMPI.controller_nonMPI'>\n",
      "    mssdc_jac = True\n",
      "    predict_type = None\n",
      "    all_to_done = False\n",
      "--> logger_level = 20\n",
      "    log_to_file = False\n",
      "    dump_setup = True\n",
      "    fname = run_pid30352.log\n",
      "    use_iteration_estimator = False\n",
      "--> hook_class = [<class 'pySDC.implementations.hooks.default_hook.DefaultHooks'>]\n",
      "\n",
      "Step: <class 'pySDC.core.Step.step'>\n",
      "--> maxiter = 50\n",
      "    Level: <class 'pySDC.core.Level.level'>\n",
      "        Level  0\n",
      "-->         dt = 0.0005\n",
      "            dt_initial = 0.0005\n",
      "-->         restol = 1e-07\n",
      "-->         nsweeps = 1\n",
      "            residual_type = full_abs\n",
      "-->         Problem: <class 'pySDC.implementations.problem_classes.AllenCahn_2D_FD.allencahn_fullyimplicit'>\n",
      "-->             eps = 0.04\n",
      "-->             nu = 2\n",
      "                order = 2\n",
      "-->             lin_maxiter = 100\n",
      "-->             newton_tol = 1e-08\n",
      "-->             newton_maxiter = 100\n",
      "-->             lin_tol = 1e-09\n",
      "-->             radius = 0.25\n",
      "-->             nvars = (128, 128)\n",
      "-->             Data type u: <class 'pySDC.implementations.datatype_classes.mesh.mesh'>\n",
      "-->             Data type f: <class 'pySDC.implementations.datatype_classes.mesh.mesh'>\n",
      "-->             Sweeper: <class 'pySDC.implementations.sweeper_classes.generic_implicit.generic_implicit'>\n",
      "                    do_coll_update = False\n",
      "-->                 initial_guess = zero\n",
      "                    skip_residual_computation = ()\n",
      "-->                 quad_type = RADAU-RIGHT\n",
      "-->                 QI = LU\n",
      "-->                 num_nodes = 4\n",
      "-->                 Collocation: <class 'pySDC.core.Collocation.CollBase'>\n",
      "\n",
      "Active convergence controllers:\n",
      "    |  # | order | convergence controller\n",
      "----+----+-------+---------------------------------------------------------------------------------------\n",
      "    |  0 |    95 | BasicRestartingNonMPI\n",
      " -> |  1 |   100 | SpreadStepSizesBlockwiseNonMPI\n",
      "    |  2 |   200 | CheckConvergence\n",
      "\n",
      "controller - INFO: ----------------------------------------------------------------------------------------------------\n",
      "controller - INFO: Setup overview (--> user-defined, -> dependency) -- END\n",
      "\n"
     ]
    }
   ],
   "source": [
    "from pySDC.implementations.controller_classes.controller_nonMPI import controller_nonMPI\n",
    "\n",
    "# initialize controller parameters\n",
    "controller_params = dict()\n",
    "controller_params['logger_level'] = 20\n",
    "\n",
    "# fill description dictionary for easy step instantiation\n",
    "description = dict()\n",
    "description['problem_class'] = allencahn_fullyimplicit\n",
    "description['problem_params'] = problem_params  # pass problem parameters\n",
    "description['sweeper_class'] = generic_implicit  # pass sweeper\n",
    "description['sweeper_params'] = sweeper_params  # pass sweeper parameters\n",
    "description['level_params'] = level_params  # pass level parameters\n",
    "description['step_params'] = step_params  # pass step parameters\n",
    "\n",
    "# instantiate controller\n",
    "\n",
    "controller = controller_nonMPI(num_procs=1, controller_params=controller_params, description=description)"
   ]
  },
  {
   "cell_type": "markdown",
   "metadata": {
    "pycharm": {
     "name": "#%% md\n"
    }
   },
   "source": [
    "We're now setting up the initial conditions. Note that we could have done this earlier, but now the data structure is in place and we can rely on our problem class without having to deal with it directly:"
   ]
  },
  {
   "cell_type": "code",
   "execution_count": 4,
   "metadata": {
    "ExecuteTime": {
     "end_time": "2023-06-08T08:09:56.416885Z",
     "start_time": "2023-06-08T08:09:56.378139Z"
    },
    "pycharm": {
     "name": "#%%\n"
    }
   },
   "outputs": [],
   "source": [
    "# get initial values on finest level\n",
    "P = controller.MS[0].levels[0].prob\n",
    "uinit = P.u_exact(t0)"
   ]
  },
  {
   "cell_type": "markdown",
   "metadata": {
    "pycharm": {
     "name": "#%% md\n"
    }
   },
   "source": [
    "Now everything is in place to run the simulation:"
   ]
  },
  {
   "cell_type": "code",
   "execution_count": 5,
   "metadata": {
    "ExecuteTime": {
     "end_time": "2023-06-08T08:10:08.559890Z",
     "start_time": "2023-06-08T08:09:59.138135Z"
    },
    "pycharm": {
     "name": "#%%\n"
    }
   },
   "outputs": [
    {
     "name": "stdout",
     "output_type": "stream",
     "text": [
      "hooks - INFO: Process  0 on time 0.000000 at stage         IT_FINE: Level: 0 -- Iteration:  1 -- Sweep:  1 -- residual: 8.83633397e-03\n",
      "hooks - INFO: Process  0 on time 0.000000 at stage         IT_FINE: Level: 0 -- Iteration:  2 -- Sweep:  1 -- residual: 1.61011700e-05\n",
      "hooks - INFO: Process  0 on time 0.000000 at stage         IT_FINE: Level: 0 -- Iteration:  3 -- Sweep:  1 -- residual: 1.84328884e-06\n",
      "hooks - INFO: Process  0 on time 0.000000 at stage         IT_FINE: Level: 0 -- Iteration:  4 -- Sweep:  1 -- residual: 2.20525763e-07\n",
      "hooks - INFO: Process  0 on time 0.000000 at stage         IT_FINE: Level: 0 -- Iteration:  5 -- Sweep:  1 -- residual: 3.44135767e-08\n",
      "hooks - INFO: Process  0 on time 0.000500 at stage         IT_FINE: Level: 0 -- Iteration:  1 -- Sweep:  1 -- residual: 8.90892942e-03\n",
      "hooks - INFO: Process  0 on time 0.000500 at stage         IT_FINE: Level: 0 -- Iteration:  2 -- Sweep:  1 -- residual: 2.36963780e-05\n",
      "hooks - INFO: Process  0 on time 0.000500 at stage         IT_FINE: Level: 0 -- Iteration:  3 -- Sweep:  1 -- residual: 1.67701261e-06\n",
      "hooks - INFO: Process  0 on time 0.000500 at stage         IT_FINE: Level: 0 -- Iteration:  4 -- Sweep:  1 -- residual: 1.97666128e-07\n",
      "hooks - INFO: Process  0 on time 0.000500 at stage         IT_FINE: Level: 0 -- Iteration:  5 -- Sweep:  1 -- residual: 2.63388844e-08\n",
      "hooks - INFO: Process  0 on time 0.001000 at stage         IT_FINE: Level: 0 -- Iteration:  1 -- Sweep:  1 -- residual: 8.97796844e-03\n",
      "hooks - INFO: Process  0 on time 0.001000 at stage         IT_FINE: Level: 0 -- Iteration:  2 -- Sweep:  1 -- residual: 3.27542614e-05\n",
      "hooks - INFO: Process  0 on time 0.001000 at stage         IT_FINE: Level: 0 -- Iteration:  3 -- Sweep:  1 -- residual: 2.16930426e-06\n",
      "hooks - INFO: Process  0 on time 0.001000 at stage         IT_FINE: Level: 0 -- Iteration:  4 -- Sweep:  1 -- residual: 2.25730466e-07\n",
      "hooks - INFO: Process  0 on time 0.001000 at stage         IT_FINE: Level: 0 -- Iteration:  5 -- Sweep:  1 -- residual: 2.76056497e-08\n",
      "hooks - INFO: Process  0 on time 0.001500 at stage         IT_FINE: Level: 0 -- Iteration:  1 -- Sweep:  1 -- residual: 9.04579543e-03\n",
      "hooks - INFO: Process  0 on time 0.001500 at stage         IT_FINE: Level: 0 -- Iteration:  2 -- Sweep:  1 -- residual: 3.91259713e-05\n",
      "hooks - INFO: Process  0 on time 0.001500 at stage         IT_FINE: Level: 0 -- Iteration:  3 -- Sweep:  1 -- residual: 2.54309291e-06\n",
      "hooks - INFO: Process  0 on time 0.001500 at stage         IT_FINE: Level: 0 -- Iteration:  4 -- Sweep:  1 -- residual: 2.47610868e-07\n",
      "hooks - INFO: Process  0 on time 0.001500 at stage         IT_FINE: Level: 0 -- Iteration:  5 -- Sweep:  1 -- residual: 2.91508780e-08\n",
      "hooks - INFO: Process  0 on time 0.002000 at stage         IT_FINE: Level: 0 -- Iteration:  1 -- Sweep:  1 -- residual: 9.11858254e-03\n",
      "hooks - INFO: Process  0 on time 0.002000 at stage         IT_FINE: Level: 0 -- Iteration:  2 -- Sweep:  1 -- residual: 4.36418446e-05\n",
      "hooks - INFO: Process  0 on time 0.002000 at stage         IT_FINE: Level: 0 -- Iteration:  3 -- Sweep:  1 -- residual: 2.79212425e-06\n",
      "hooks - INFO: Process  0 on time 0.002000 at stage         IT_FINE: Level: 0 -- Iteration:  4 -- Sweep:  1 -- residual: 2.64912131e-07\n",
      "hooks - INFO: Process  0 on time 0.002000 at stage         IT_FINE: Level: 0 -- Iteration:  5 -- Sweep:  1 -- residual: 3.02969003e-08\n",
      "hooks - INFO: Process  0 on time 0.002500 at stage         IT_FINE: Level: 0 -- Iteration:  1 -- Sweep:  1 -- residual: 9.19794893e-03\n",
      "hooks - INFO: Process  0 on time 0.002500 at stage         IT_FINE: Level: 0 -- Iteration:  2 -- Sweep:  1 -- residual: 4.68684988e-05\n",
      "hooks - INFO: Process  0 on time 0.002500 at stage         IT_FINE: Level: 0 -- Iteration:  3 -- Sweep:  1 -- residual: 2.97878851e-06\n",
      "hooks - INFO: Process  0 on time 0.002500 at stage         IT_FINE: Level: 0 -- Iteration:  4 -- Sweep:  1 -- residual: 2.77757342e-07\n",
      "hooks - INFO: Process  0 on time 0.002500 at stage         IT_FINE: Level: 0 -- Iteration:  5 -- Sweep:  1 -- residual: 3.13503955e-08\n",
      "hooks - INFO: Process  0 on time 0.003000 at stage         IT_FINE: Level: 0 -- Iteration:  1 -- Sweep:  1 -- residual: 9.28104675e-03\n",
      "hooks - INFO: Process  0 on time 0.003000 at stage         IT_FINE: Level: 0 -- Iteration:  2 -- Sweep:  1 -- residual: 4.93221701e-05\n",
      "hooks - INFO: Process  0 on time 0.003000 at stage         IT_FINE: Level: 0 -- Iteration:  3 -- Sweep:  1 -- residual: 3.11866377e-06\n",
      "hooks - INFO: Process  0 on time 0.003000 at stage         IT_FINE: Level: 0 -- Iteration:  4 -- Sweep:  1 -- residual: 2.87165894e-07\n",
      "hooks - INFO: Process  0 on time 0.003000 at stage         IT_FINE: Level: 0 -- Iteration:  5 -- Sweep:  1 -- residual: 3.22343330e-08\n",
      "hooks - INFO: Process  0 on time 0.003500 at stage         IT_FINE: Level: 0 -- Iteration:  1 -- Sweep:  1 -- residual: 9.36256973e-03\n",
      "hooks - INFO: Process  0 on time 0.003500 at stage         IT_FINE: Level: 0 -- Iteration:  2 -- Sweep:  1 -- residual: 5.13195209e-05\n",
      "hooks - INFO: Process  0 on time 0.003500 at stage         IT_FINE: Level: 0 -- Iteration:  3 -- Sweep:  1 -- residual: 3.22480099e-06\n",
      "hooks - INFO: Process  0 on time 0.003500 at stage         IT_FINE: Level: 0 -- Iteration:  4 -- Sweep:  1 -- residual: 2.95723240e-07\n",
      "hooks - INFO: Process  0 on time 0.003500 at stage         IT_FINE: Level: 0 -- Iteration:  5 -- Sweep:  1 -- residual: 3.30150644e-08\n",
      "hooks - INFO: Process  0 on time 0.004000 at stage         IT_FINE: Level: 0 -- Iteration:  1 -- Sweep:  1 -- residual: 9.45015073e-03\n",
      "hooks - INFO: Process  0 on time 0.004000 at stage         IT_FINE: Level: 0 -- Iteration:  2 -- Sweep:  1 -- residual: 5.30310659e-05\n",
      "hooks - INFO: Process  0 on time 0.004000 at stage         IT_FINE: Level: 0 -- Iteration:  3 -- Sweep:  1 -- residual: 3.31940964e-06\n",
      "hooks - INFO: Process  0 on time 0.004000 at stage         IT_FINE: Level: 0 -- Iteration:  4 -- Sweep:  1 -- residual: 3.03437961e-07\n",
      "hooks - INFO: Process  0 on time 0.004000 at stage         IT_FINE: Level: 0 -- Iteration:  5 -- Sweep:  1 -- residual: 3.37155906e-08\n",
      "hooks - INFO: Process  0 on time 0.004500 at stage         IT_FINE: Level: 0 -- Iteration:  1 -- Sweep:  1 -- residual: 9.54253506e-03\n",
      "hooks - INFO: Process  0 on time 0.004500 at stage         IT_FINE: Level: 0 -- Iteration:  2 -- Sweep:  1 -- residual: 5.45779052e-05\n",
      "hooks - INFO: Process  0 on time 0.004500 at stage         IT_FINE: Level: 0 -- Iteration:  3 -- Sweep:  1 -- residual: 3.40674305e-06\n",
      "hooks - INFO: Process  0 on time 0.004500 at stage         IT_FINE: Level: 0 -- Iteration:  4 -- Sweep:  1 -- residual: 3.10259373e-07\n",
      "hooks - INFO: Process  0 on time 0.004500 at stage         IT_FINE: Level: 0 -- Iteration:  5 -- Sweep:  1 -- residual: 3.44374889e-08\n",
      "hooks - INFO: Process  0 on time 0.005000 at stage         IT_FINE: Level: 0 -- Iteration:  1 -- Sweep:  1 -- residual: 9.63751843e-03\n",
      "hooks - INFO: Process  0 on time 0.005000 at stage         IT_FINE: Level: 0 -- Iteration:  2 -- Sweep:  1 -- residual: 5.60536365e-05\n",
      "hooks - INFO: Process  0 on time 0.005000 at stage         IT_FINE: Level: 0 -- Iteration:  3 -- Sweep:  1 -- residual: 3.48378699e-06\n",
      "hooks - INFO: Process  0 on time 0.005000 at stage         IT_FINE: Level: 0 -- Iteration:  4 -- Sweep:  1 -- residual: 3.16840653e-07\n",
      "hooks - INFO: Process  0 on time 0.005000 at stage         IT_FINE: Level: 0 -- Iteration:  5 -- Sweep:  1 -- residual: 3.51851506e-08\n",
      "hooks - INFO: Process  0 on time 0.005500 at stage         IT_FINE: Level: 0 -- Iteration:  1 -- Sweep:  1 -- residual: 9.72976969e-03\n",
      "hooks - INFO: Process  0 on time 0.005500 at stage         IT_FINE: Level: 0 -- Iteration:  2 -- Sweep:  1 -- residual: 5.75148087e-05\n",
      "hooks - INFO: Process  0 on time 0.005500 at stage         IT_FINE: Level: 0 -- Iteration:  3 -- Sweep:  1 -- residual: 3.56308529e-06\n",
      "hooks - INFO: Process  0 on time 0.005500 at stage         IT_FINE: Level: 0 -- Iteration:  4 -- Sweep:  1 -- residual: 3.23989097e-07\n",
      "hooks - INFO: Process  0 on time 0.005500 at stage         IT_FINE: Level: 0 -- Iteration:  5 -- Sweep:  1 -- residual: 3.58375545e-08\n",
      "hooks - INFO: Process  0 on time 0.006000 at stage         IT_FINE: Level: 0 -- Iteration:  1 -- Sweep:  1 -- residual: 9.83210100e-03\n"
     ]
    },
    {
     "name": "stdout",
     "output_type": "stream",
     "text": [
      "hooks - INFO: Process  0 on time 0.006000 at stage         IT_FINE: Level: 0 -- Iteration:  2 -- Sweep:  1 -- residual: 5.89563470e-05\n",
      "hooks - INFO: Process  0 on time 0.006000 at stage         IT_FINE: Level: 0 -- Iteration:  3 -- Sweep:  1 -- residual: 3.64219988e-06\n",
      "hooks - INFO: Process  0 on time 0.006000 at stage         IT_FINE: Level: 0 -- Iteration:  4 -- Sweep:  1 -- residual: 3.31043271e-07\n",
      "hooks - INFO: Process  0 on time 0.006000 at stage         IT_FINE: Level: 0 -- Iteration:  5 -- Sweep:  1 -- residual: 3.66295971e-08\n",
      "hooks - INFO: Process  0 on time 0.006500 at stage         IT_FINE: Level: 0 -- Iteration:  1 -- Sweep:  1 -- residual: 9.93648317e-03\n",
      "hooks - INFO: Process  0 on time 0.006500 at stage         IT_FINE: Level: 0 -- Iteration:  2 -- Sweep:  1 -- residual: 6.04568634e-05\n",
      "hooks - INFO: Process  0 on time 0.006500 at stage         IT_FINE: Level: 0 -- Iteration:  3 -- Sweep:  1 -- residual: 3.72352553e-06\n",
      "hooks - INFO: Process  0 on time 0.006500 at stage         IT_FINE: Level: 0 -- Iteration:  4 -- Sweep:  1 -- residual: 3.37713243e-07\n",
      "hooks - INFO: Process  0 on time 0.006500 at stage         IT_FINE: Level: 0 -- Iteration:  5 -- Sweep:  1 -- residual: 3.74084231e-08\n",
      "hooks - INFO: Process  0 on time 0.007000 at stage         IT_FINE: Level: 0 -- Iteration:  1 -- Sweep:  1 -- residual: 1.00401820e-02\n",
      "hooks - INFO: Process  0 on time 0.007000 at stage         IT_FINE: Level: 0 -- Iteration:  2 -- Sweep:  1 -- residual: 6.20040857e-05\n",
      "hooks - INFO: Process  0 on time 0.007000 at stage         IT_FINE: Level: 0 -- Iteration:  3 -- Sweep:  1 -- residual: 3.79980613e-06\n",
      "hooks - INFO: Process  0 on time 0.007000 at stage         IT_FINE: Level: 0 -- Iteration:  4 -- Sweep:  1 -- residual: 3.44948532e-07\n",
      "hooks - INFO: Process  0 on time 0.007000 at stage         IT_FINE: Level: 0 -- Iteration:  5 -- Sweep:  1 -- residual: 3.82093457e-08\n",
      "hooks - INFO: Process  0 on time 0.007500 at stage         IT_FINE: Level: 0 -- Iteration:  1 -- Sweep:  1 -- residual: 1.01515149e-02\n",
      "hooks - INFO: Process  0 on time 0.007500 at stage         IT_FINE: Level: 0 -- Iteration:  2 -- Sweep:  1 -- residual: 6.36217080e-05\n",
      "hooks - INFO: Process  0 on time 0.007500 at stage         IT_FINE: Level: 0 -- Iteration:  3 -- Sweep:  1 -- residual: 3.88788316e-06\n",
      "hooks - INFO: Process  0 on time 0.007500 at stage         IT_FINE: Level: 0 -- Iteration:  4 -- Sweep:  1 -- residual: 3.52836154e-07\n",
      "hooks - INFO: Process  0 on time 0.007500 at stage         IT_FINE: Level: 0 -- Iteration:  5 -- Sweep:  1 -- residual: 3.89725519e-08\n",
      "hooks - INFO: Process  0 on time 0.008000 at stage         IT_FINE: Level: 0 -- Iteration:  1 -- Sweep:  1 -- residual: 1.02673298e-02\n",
      "hooks - INFO: Process  0 on time 0.008000 at stage         IT_FINE: Level: 0 -- Iteration:  2 -- Sweep:  1 -- residual: 6.52525932e-05\n",
      "hooks - INFO: Process  0 on time 0.008000 at stage         IT_FINE: Level: 0 -- Iteration:  3 -- Sweep:  1 -- residual: 3.97698319e-06\n",
      "hooks - INFO: Process  0 on time 0.008000 at stage         IT_FINE: Level: 0 -- Iteration:  4 -- Sweep:  1 -- residual: 3.60320917e-07\n",
      "hooks - INFO: Process  0 on time 0.008000 at stage         IT_FINE: Level: 0 -- Iteration:  5 -- Sweep:  1 -- residual: 3.99016320e-08\n",
      "hooks - INFO: Process  0 on time 0.008500 at stage         IT_FINE: Level: 0 -- Iteration:  1 -- Sweep:  1 -- residual: 1.03860052e-02\n",
      "hooks - INFO: Process  0 on time 0.008500 at stage         IT_FINE: Level: 0 -- Iteration:  2 -- Sweep:  1 -- residual: 6.70453694e-05\n",
      "hooks - INFO: Process  0 on time 0.008500 at stage         IT_FINE: Level: 0 -- Iteration:  3 -- Sweep:  1 -- residual: 4.06441262e-06\n",
      "hooks - INFO: Process  0 on time 0.008500 at stage         IT_FINE: Level: 0 -- Iteration:  4 -- Sweep:  1 -- residual: 3.68733503e-07\n",
      "hooks - INFO: Process  0 on time 0.008500 at stage         IT_FINE: Level: 0 -- Iteration:  5 -- Sweep:  1 -- residual: 4.08219928e-08\n",
      "hooks - INFO: Process  0 on time 0.009000 at stage         IT_FINE: Level: 0 -- Iteration:  1 -- Sweep:  1 -- residual: 1.05067562e-02\n",
      "hooks - INFO: Process  0 on time 0.009000 at stage         IT_FINE: Level: 0 -- Iteration:  2 -- Sweep:  1 -- residual: 6.89043550e-05\n",
      "hooks - INFO: Process  0 on time 0.009000 at stage         IT_FINE: Level: 0 -- Iteration:  3 -- Sweep:  1 -- residual: 4.16118010e-06\n",
      "hooks - INFO: Process  0 on time 0.009000 at stage         IT_FINE: Level: 0 -- Iteration:  4 -- Sweep:  1 -- residual: 3.77496227e-07\n",
      "hooks - INFO: Process  0 on time 0.009000 at stage         IT_FINE: Level: 0 -- Iteration:  5 -- Sweep:  1 -- residual: 4.17155212e-08\n",
      "hooks - INFO: Process  0 on time 0.009500 at stage         IT_FINE: Level: 0 -- Iteration:  1 -- Sweep:  1 -- residual: 1.06364144e-02\n",
      "hooks - INFO: Process  0 on time 0.009500 at stage         IT_FINE: Level: 0 -- Iteration:  2 -- Sweep:  1 -- residual: 7.08163972e-05\n",
      "hooks - INFO: Process  0 on time 0.009500 at stage         IT_FINE: Level: 0 -- Iteration:  3 -- Sweep:  1 -- residual: 4.26357643e-06\n",
      "hooks - INFO: Process  0 on time 0.009500 at stage         IT_FINE: Level: 0 -- Iteration:  4 -- Sweep:  1 -- residual: 3.86310086e-07\n",
      "hooks - INFO: Process  0 on time 0.009500 at stage         IT_FINE: Level: 0 -- Iteration:  5 -- Sweep:  1 -- residual: 4.27253062e-08\n",
      "hooks - INFO: Process  0 on time 0.010000 at stage         IT_FINE: Level: 0 -- Iteration:  1 -- Sweep:  1 -- residual: 1.07695992e-02\n",
      "hooks - INFO: Process  0 on time 0.010000 at stage         IT_FINE: Level: 0 -- Iteration:  2 -- Sweep:  1 -- residual: 7.28950455e-05\n",
      "hooks - INFO: Process  0 on time 0.010000 at stage         IT_FINE: Level: 0 -- Iteration:  3 -- Sweep:  1 -- residual: 4.36453711e-06\n",
      "hooks - INFO: Process  0 on time 0.010000 at stage         IT_FINE: Level: 0 -- Iteration:  4 -- Sweep:  1 -- residual: 3.95723264e-07\n",
      "hooks - INFO: Process  0 on time 0.010000 at stage         IT_FINE: Level: 0 -- Iteration:  5 -- Sweep:  1 -- residual: 4.37928336e-08\n",
      "hooks - INFO: Process  0 on time 0.010500 at stage         IT_FINE: Level: 0 -- Iteration:  1 -- Sweep:  1 -- residual: 1.09044201e-02\n",
      "hooks - INFO: Process  0 on time 0.010500 at stage         IT_FINE: Level: 0 -- Iteration:  2 -- Sweep:  1 -- residual: 7.50931273e-05\n",
      "hooks - INFO: Process  0 on time 0.010500 at stage         IT_FINE: Level: 0 -- Iteration:  3 -- Sweep:  1 -- residual: 4.47500671e-06\n",
      "hooks - INFO: Process  0 on time 0.010500 at stage         IT_FINE: Level: 0 -- Iteration:  4 -- Sweep:  1 -- residual: 4.05750055e-07\n",
      "hooks - INFO: Process  0 on time 0.010500 at stage         IT_FINE: Level: 0 -- Iteration:  5 -- Sweep:  1 -- residual: 4.48371203e-08\n",
      "hooks - INFO: Process  0 on time 0.011000 at stage         IT_FINE: Level: 0 -- Iteration:  1 -- Sweep:  1 -- residual: 1.10496134e-02\n",
      "hooks - INFO: Process  0 on time 0.011000 at stage         IT_FINE: Level: 0 -- Iteration:  2 -- Sweep:  1 -- residual: 7.73566607e-05\n",
      "hooks - INFO: Process  0 on time 0.011000 at stage         IT_FINE: Level: 0 -- Iteration:  3 -- Sweep:  1 -- residual: 4.59379299e-06\n",
      "hooks - INFO: Process  0 on time 0.011000 at stage         IT_FINE: Level: 0 -- Iteration:  4 -- Sweep:  1 -- residual: 4.16224630e-07\n",
      "hooks - INFO: Process  0 on time 0.011000 at stage         IT_FINE: Level: 0 -- Iteration:  5 -- Sweep:  1 -- residual: 4.59886553e-08\n",
      "hooks - INFO: Process  0 on time 0.011500 at stage         IT_FINE: Level: 0 -- Iteration:  1 -- Sweep:  1 -- residual: 1.11996231e-02\n",
      "hooks - INFO: Process  0 on time 0.011500 at stage         IT_FINE: Level: 0 -- Iteration:  2 -- Sweep:  1 -- residual: 7.98388134e-05\n",
      "hooks - INFO: Process  0 on time 0.011500 at stage         IT_FINE: Level: 0 -- Iteration:  3 -- Sweep:  1 -- residual: 4.71101160e-06\n",
      "hooks - INFO: Process  0 on time 0.011500 at stage         IT_FINE: Level: 0 -- Iteration:  4 -- Sweep:  1 -- residual: 4.27002915e-07\n",
      "hooks - INFO: Process  0 on time 0.011500 at stage         IT_FINE: Level: 0 -- Iteration:  5 -- Sweep:  1 -- residual: 4.72387637e-08\n",
      "hooks - INFO: Process  0 on time 0.012000 at stage         IT_FINE: Level: 0 -- Iteration:  1 -- Sweep:  1 -- residual: 1.13511420e-02\n",
      "hooks - INFO: Process  0 on time 0.012000 at stage         IT_FINE: Level: 0 -- Iteration:  2 -- Sweep:  1 -- residual: 8.24733893e-05\n"
     ]
    },
    {
     "name": "stdout",
     "output_type": "stream",
     "text": [
      "hooks - INFO: Process  0 on time 0.012000 at stage         IT_FINE: Level: 0 -- Iteration:  3 -- Sweep:  1 -- residual: 4.84163310e-06\n",
      "hooks - INFO: Process  0 on time 0.012000 at stage         IT_FINE: Level: 0 -- Iteration:  4 -- Sweep:  1 -- residual: 4.38721624e-07\n",
      "hooks - INFO: Process  0 on time 0.012000 at stage         IT_FINE: Level: 0 -- Iteration:  5 -- Sweep:  1 -- residual: 4.84445281e-08\n",
      "hooks - INFO: Process  0 on time 0.012500 at stage         IT_FINE: Level: 0 -- Iteration:  1 -- Sweep:  1 -- residual: 1.15165044e-02\n",
      "hooks - INFO: Process  0 on time 0.012500 at stage         IT_FINE: Level: 0 -- Iteration:  2 -- Sweep:  1 -- residual: 8.51941819e-05\n",
      "hooks - INFO: Process  0 on time 0.012500 at stage         IT_FINE: Level: 0 -- Iteration:  3 -- Sweep:  1 -- residual: 4.98029044e-06\n",
      "hooks - INFO: Process  0 on time 0.012500 at stage         IT_FINE: Level: 0 -- Iteration:  4 -- Sweep:  1 -- residual: 4.50955563e-07\n",
      "hooks - INFO: Process  0 on time 0.012500 at stage         IT_FINE: Level: 0 -- Iteration:  5 -- Sweep:  1 -- residual: 4.98279091e-08\n",
      "hooks - INFO: Process  0 on time 0.013000 at stage         IT_FINE: Level: 0 -- Iteration:  1 -- Sweep:  1 -- residual: 1.16868893e-02\n",
      "hooks - INFO: Process  0 on time 0.013000 at stage         IT_FINE: Level: 0 -- Iteration:  2 -- Sweep:  1 -- residual: 8.82270239e-05\n",
      "hooks - INFO: Process  0 on time 0.013000 at stage         IT_FINE: Level: 0 -- Iteration:  3 -- Sweep:  1 -- residual: 5.11649976e-06\n",
      "hooks - INFO: Process  0 on time 0.013000 at stage         IT_FINE: Level: 0 -- Iteration:  4 -- Sweep:  1 -- residual: 4.63642700e-07\n",
      "hooks - INFO: Process  0 on time 0.013000 at stage         IT_FINE: Level: 0 -- Iteration:  5 -- Sweep:  1 -- residual: 5.12826199e-08\n",
      "hooks - INFO: Process  0 on time 0.013500 at stage         IT_FINE: Level: 0 -- Iteration:  1 -- Sweep:  1 -- residual: 1.18636258e-02\n",
      "hooks - INFO: Process  0 on time 0.013500 at stage         IT_FINE: Level: 0 -- Iteration:  2 -- Sweep:  1 -- residual: 9.14346761e-05\n",
      "hooks - INFO: Process  0 on time 0.013500 at stage         IT_FINE: Level: 0 -- Iteration:  3 -- Sweep:  1 -- residual: 5.27404534e-06\n",
      "hooks - INFO: Process  0 on time 0.013500 at stage         IT_FINE: Level: 0 -- Iteration:  4 -- Sweep:  1 -- residual: 4.77656438e-07\n",
      "hooks - INFO: Process  0 on time 0.013500 at stage         IT_FINE: Level: 0 -- Iteration:  5 -- Sweep:  1 -- residual: 5.26820707e-08\n",
      "hooks - INFO: Process  0 on time 0.014000 at stage         IT_FINE: Level: 0 -- Iteration:  1 -- Sweep:  1 -- residual: 1.20514837e-02\n",
      "hooks - INFO: Process  0 on time 0.014000 at stage         IT_FINE: Level: 0 -- Iteration:  2 -- Sweep:  1 -- residual: 9.48349990e-05\n",
      "hooks - INFO: Process  0 on time 0.014000 at stage         IT_FINE: Level: 0 -- Iteration:  3 -- Sweep:  1 -- residual: 5.43769074e-06\n",
      "hooks - INFO: Process  0 on time 0.014000 at stage         IT_FINE: Level: 0 -- Iteration:  4 -- Sweep:  1 -- residual: 4.91708337e-07\n",
      "hooks - INFO: Process  0 on time 0.014000 at stage         IT_FINE: Level: 0 -- Iteration:  5 -- Sweep:  1 -- residual: 5.43674811e-08\n",
      "hooks - INFO: Process  0 on time 0.014500 at stage         IT_FINE: Level: 0 -- Iteration:  1 -- Sweep:  1 -- residual: 1.22454882e-02\n",
      "hooks - INFO: Process  0 on time 0.014500 at stage         IT_FINE: Level: 0 -- Iteration:  2 -- Sweep:  1 -- residual: 9.85255958e-05\n",
      "hooks - INFO: Process  0 on time 0.014500 at stage         IT_FINE: Level: 0 -- Iteration:  3 -- Sweep:  1 -- residual: 5.60504864e-06\n",
      "hooks - INFO: Process  0 on time 0.014500 at stage         IT_FINE: Level: 0 -- Iteration:  4 -- Sweep:  1 -- residual: 5.07267437e-07\n",
      "hooks - INFO: Process  0 on time 0.014500 at stage         IT_FINE: Level: 0 -- Iteration:  5 -- Sweep:  1 -- residual: 5.61007416e-08\n",
      "hooks - INFO: Process  0 on time 0.015000 at stage         IT_FINE: Level: 0 -- Iteration:  1 -- Sweep:  1 -- residual: 1.24513980e-02\n",
      "hooks - INFO: Process  0 on time 0.015000 at stage         IT_FINE: Level: 0 -- Iteration:  2 -- Sweep:  1 -- residual: 1.02562449e-04\n",
      "hooks - INFO: Process  0 on time 0.015000 at stage         IT_FINE: Level: 0 -- Iteration:  3 -- Sweep:  1 -- residual: 5.78922150e-06\n",
      "hooks - INFO: Process  0 on time 0.015000 at stage         IT_FINE: Level: 0 -- Iteration:  4 -- Sweep:  1 -- residual: 5.24235664e-07\n",
      "hooks - INFO: Process  0 on time 0.015000 at stage         IT_FINE: Level: 0 -- Iteration:  5 -- Sweep:  1 -- residual: 5.78629968e-08\n",
      "hooks - INFO: Process  0 on time 0.015500 at stage         IT_FINE: Level: 0 -- Iteration:  1 -- Sweep:  1 -- residual: 1.26716916e-02\n",
      "hooks - INFO: Process  0 on time 0.015500 at stage         IT_FINE: Level: 0 -- Iteration:  2 -- Sweep:  1 -- residual: 1.06808960e-04\n",
      "hooks - INFO: Process  0 on time 0.015500 at stage         IT_FINE: Level: 0 -- Iteration:  3 -- Sweep:  1 -- residual: 5.98643088e-06\n",
      "hooks - INFO: Process  0 on time 0.015500 at stage         IT_FINE: Level: 0 -- Iteration:  4 -- Sweep:  1 -- residual: 5.41195837e-07\n",
      "hooks - INFO: Process  0 on time 0.015500 at stage         IT_FINE: Level: 0 -- Iteration:  5 -- Sweep:  1 -- residual: 5.98232844e-08\n"
     ]
    }
   ],
   "source": [
    "# call main function to get things done...\n",
    "uend, stats = controller.run(u0=uinit, t0=t0, Tend=Tend)"
   ]
  },
  {
   "cell_type": "markdown",
   "metadata": {
    "pycharm": {
     "name": "#%% md\n"
    }
   },
   "source": [
    "What did it do? Let's have a look at the solution ``uend`` and compare it to the initial condition ``uinit`` to see if things moved:"
   ]
  },
  {
   "cell_type": "code",
   "execution_count": 6,
   "metadata": {
    "ExecuteTime": {
     "end_time": "2023-06-08T08:10:13.175587Z",
     "start_time": "2023-06-08T08:10:12.599877Z"
    },
    "pycharm": {
     "name": "#%%\n"
    }
   },
   "outputs": [
    {
     "data": {
      "text/plain": [
       "<matplotlib.image.AxesImage at 0x12cc566b0>"
      ]
     },
     "execution_count": 6,
     "metadata": {},
     "output_type": "execute_result"
    },
    {
     "data": {
      "image/png": "[encoded data removed]",
      "text/plain": [
       "<Figure size 640x480 with 2 Axes>"
      ]
     },
     "metadata": {},
     "output_type": "display_data"
    }
   ],
   "source": [
    "import matplotlib.pylab as plt\n",
    "\n",
    "plt.subplot(1, 2, 1)\n",
    "plt.title(\"u(t0)\")\n",
    "plt.imshow(uinit,extent=[-0.5,0.5,-0.5,0.5])\n",
    "\n",
    "plt.subplot(1, 2, 2)\n",
    "plt.title(\"u(Tend)\")\n",
    "plt.imshow(uend,extent=[-0.5,0.5,-0.5,0.5])"
   ]
  },
  {
   "cell_type": "markdown",
   "metadata": {
    "pycharm": {
     "name": "#%% md\n"
    }
   },
   "source": [
    "Now let's have a look at the iteration counts. For that the ``run`` method also returned a ``stats`` object. It is not really straightforward to extract information from that (unless you happen to know how), but there are helpers around:\n"
   ]
  },
  {
   "cell_type": "code",
   "execution_count": 7,
   "metadata": {
    "ExecuteTime": {
     "end_time": "2023-06-08T08:10:15.373506Z",
     "start_time": "2023-06-08T08:10:15.360557Z"
    },
    "pycharm": {
     "name": "#%%\n"
    }
   },
   "outputs": [],
   "source": [
    "from pySDC.helpers.stats_helper import get_sorted\n",
    "import numpy as np\n",
    "\n",
    "# convert filtered statistics to list of iterations count, sorted by time-step\n",
    "iter_counts = get_sorted(stats, type='niter', sortby='time')\n",
    "\n",
    "# compute and print statistics\n",
    "niters = np.array([item[1] for item in iter_counts])"
   ]
  },
  {
   "cell_type": "code",
   "execution_count": 8,
   "metadata": {
    "ExecuteTime": {
     "end_time": "2023-06-08T08:10:17.775718Z",
     "start_time": "2023-06-08T08:10:17.770951Z"
    },
    "pycharm": {
     "name": "#%%\n"
    }
   },
   "outputs": [
    {
     "name": "stdout",
     "output_type": "stream",
     "text": [
      "Mean number of iterations: 5.00\n",
      "Range of values for number of iterations: 0\n",
      "Position of max/min number of iterations: 0 / 0\n",
      "Iteration count nonlinear solver (sum/mean per call): 1057 / 1.6515625\n"
     ]
    }
   ],
   "source": [
    "print(f'Mean number of iterations: {np.mean(niters):4.2f}')\n",
    "print(f'Range of values for number of iterations: {np.ptp(niters)}')\n",
    "print(f'Position of max/min number of iterations: {int(np.argmax(niters))} / {int(np.argmax(niters))}')\n",
    "print(f'Iteration count nonlinear solver (sum/mean per call): {P.newton_itercount} / {P.newton_itercount / max(P.newton_ncalls, 1)}')"
   ]
  },
  {
   "cell_type": "markdown",
   "metadata": {
    "pycharm": {
     "name": "#%% md\n"
    }
   },
   "source": [
    "We also get the time-to-solution back:"
   ]
  },
  {
   "cell_type": "code",
   "execution_count": 9,
   "metadata": {
    "ExecuteTime": {
     "end_time": "2023-06-08T08:10:22.608771Z",
     "start_time": "2023-06-08T08:10:22.554396Z"
    },
    "pycharm": {
     "name": "#%%\n"
    }
   },
   "outputs": [
    {
     "name": "stdout",
     "output_type": "stream",
     "text": [
      "Time to solution: 8.8479 sec.\n"
     ]
    }
   ],
   "source": [
    "timing = get_sorted(stats, type='timing_run', sortby='time')\n",
    "\n",
    "print('Time to solution: %6.4f sec.' % timing[0][1])"
   ]
  },
  {
   "cell_type": "markdown",
   "metadata": {
    "pycharm": {
     "name": "#%% md\n"
    }
   },
   "source": [
    "More user output - using hooks\n",
    "------------------------------"
   ]
  },
  {
   "cell_type": "markdown",
   "metadata": {
    "pycharm": {
     "name": "#%% md\n"
    }
   },
   "source": [
    "The default output can be controlled using the ``logger_level`` in the ``controller_params``: ``30`` is silent, ``20`` gives runtime information and ``10`` is for debugging. Note that when changing any of these parameters, it is required to set up the controller again, because only then the parameters will be correctly applied everywhere. We will do that later."
   ]
  },
  {
   "cell_type": "code",
   "execution_count": 10,
   "metadata": {
    "ExecuteTime": {
     "end_time": "2023-06-08T08:10:29.932614Z",
     "start_time": "2023-06-08T08:10:29.927620Z"
    },
    "pycharm": {
     "name": "#%%\n"
    }
   },
   "outputs": [],
   "source": [
    "controller_params['logger_level'] = 30"
   ]
  },
  {
   "cell_type": "markdown",
   "metadata": {
    "pycharm": {
     "name": "#%% md\n"
    }
   },
   "source": [
    "Without further specification, `pySDC` gathers information on iterations, residuals, runtimes and so on. In order to get problem-specific, custom data in there, hook-classes can be added to the controller, which contain functions that are then called whenever certain parts of the algorithm are started or completed. A list of possible functions can be found in ``core/Hooks.py``, which is the class all custom hook-classes should inherit from. We show here an example, where after each step the current radius is calculated:"
   ]
  },
  {
   "cell_type": "code",
   "execution_count": 11,
   "metadata": {
    "ExecuteTime": {
     "end_time": "2023-06-08T08:10:33.701827Z",
     "start_time": "2023-06-08T08:10:33.690987Z"
    },
    "pycharm": {
     "name": "#%%\n"
    }
   },
   "outputs": [],
   "source": [
    "from pySDC.core.Hooks import hooks\n",
    "\n",
    "class monitor(hooks):\n",
    "\n",
    "    def post_step(self, step, level_number):\n",
    "\n",
    "        super(monitor, self).post_step(step, level_number)\n",
    "\n",
    "        # get current\n",
    "        L = step.levels[0]\n",
    "\n",
    "        c = np.count_nonzero(L.uend >= 0.0)\n",
    "        radius = np.sqrt(c / np.pi) * L.prob.dx\n",
    "\n",
    "        self.add_to_stats(process=step.status.slot, time=L.time + L.dt, level=-1, iter=step.status.iter,\n",
    "                          sweep=L.status.sweep, type='computed_radius', value=radius)"
   ]
  },
  {
   "cell_type": "markdown",
   "metadata": {
    "pycharm": {
     "name": "#%% md\n"
    }
   },
   "source": [
    "Besides some computation, the key functionality is the call to ``self.add_to_stats`` which is the function to add information to the ``stats``-object. Using ``type``, this can later be accessed as we have seen above with ``timing_run`` and ``niter``. The name ``post_step`` of the class function indicates that this will be called after each time-step is completed."
   ]
  },
  {
   "cell_type": "markdown",
   "metadata": {
    "pycharm": {
     "name": "#%% md\n"
    }
   },
   "source": [
    "This class can now be added to the controller:"
   ]
  },
  {
   "cell_type": "code",
   "execution_count": 12,
   "metadata": {
    "ExecuteTime": {
     "end_time": "2023-06-08T08:10:41.454124Z",
     "start_time": "2023-06-08T08:10:41.433872Z"
    },
    "pycharm": {
     "name": "#%%\n"
    }
   },
   "outputs": [],
   "source": [
    "controller_params['hook_class'] = monitor\n",
    "controller = controller_nonMPI(num_procs=1, controller_params=controller_params, description=description)"
   ]
  },
  {
   "cell_type": "markdown",
   "metadata": {
    "pycharm": {
     "name": "#%% md\n"
    }
   },
   "source": [
    "We now re-run the simulation, obtain the radius after each step and plot it:"
   ]
  },
  {
   "cell_type": "code",
   "execution_count": 13,
   "metadata": {
    "ExecuteTime": {
     "end_time": "2023-06-08T08:10:54.193332Z",
     "start_time": "2023-06-08T08:10:45.342455Z"
    },
    "pycharm": {
     "name": "#%%\n"
    }
   },
   "outputs": [],
   "source": [
    "uend, stats = controller.run(u0=uinit, t0=t0, Tend=Tend)"
   ]
  },
  {
   "cell_type": "code",
   "execution_count": 14,
   "metadata": {
    "ExecuteTime": {
     "end_time": "2023-06-08T08:10:56.147123Z",
     "start_time": "2023-06-08T08:10:56.068643Z"
    },
    "pycharm": {
     "name": "#%%\n"
    }
   },
   "outputs": [
    {
     "data": {
      "text/plain": [
       "[<matplotlib.lines.Line2D at 0x12cd92ad0>]"
      ]
     },
     "execution_count": 14,
     "metadata": {},
     "output_type": "execute_result"
    },
    {
     "data": {
      "image/png": "[encoded data removed]",
      "text/plain": [
       "<Figure size 640x480 with 1 Axes>"
      ]
     },
     "metadata": {},
     "output_type": "display_data"
    }
   ],
   "source": [
    "radii = get_sorted(stats, type='computed_radius', sortby='time')\n",
    "\n",
    "plt.subplot()\n",
    "plt.plot([t[0] for t in radii], [t[1] for t in radii])"
   ]
  },
  {
   "cell_type": "markdown",
   "metadata": {
    "pycharm": {
     "name": "#%% md\n"
    }
   },
   "source": [
    "Building your own sweeper\n",
    "-------------------------"
   ]
  },
  {
   "cell_type": "markdown",
   "metadata": {
    "pycharm": {
     "name": "#%% md\n"
    }
   },
   "source": [
    "While pySDC comes with a lot of functionality, it's purpose is to be extendable and (in a sense) modular. User are able to replace nearly all key functionality with their own approaches. One particular aspect of this are custom sweepers. In this example, we will look at sweepers that enable parallelism across the nodes."
   ]
  },
  {
   "cell_type": "markdown",
   "metadata": {
    "pycharm": {
     "name": "#%% md\n"
    }
   },
   "source": [
    "A sweeper in pySDC takes values $u_m$ at the nodes and updates them using the SDC iteration rule to get $u_{m+1}$, using the particular type of $Q_\\Delta$ (and of course the scheme itself, be it IMEX, implicit, verlocity-verlet and so on). The sweeper is also responsible for computing the residual on a time-step, for getting the final value $u_{\\textrm{end}}$ and the right boundary of the intervall. It also provides the mechanism to integrate over the nodes using the $Q$-matrix and it can set initial guess for each node."
   ]
  },
  {
   "cell_type": "markdown",
   "metadata": {
    "pycharm": {
     "name": "#%% md\n"
    }
   },
   "source": [
    "All of these things can be overwritten from users, if needed. For replacing a serial sweeper with a parallel one, this is indeed needed. The idea is that if $Q_\\Delta$ is a diagonal one, each update of the $M$ nodes can be done using $M$ processes. For computing the residual or for integrating over the nodes, communication over the nodes is needed. We will thus write a new sweeper, which can work with $M$ MPI processes. Note that we will not deal with all the details here, no error checking, no ideal memory layout etc. to keep the example short."
   ]
  },
  {
   "cell_type": "markdown",
   "metadata": {
    "pycharm": {
     "name": "#%% md\n"
    }
   },
   "source": [
    "Before we start, however, let's make sure MPI jobs can be run. We connect to our ``ipcluster`` and check if all looks good:"
   ]
  },
  {
   "cell_type": "code",
   "execution_count": 15,
   "metadata": {
    "ExecuteTime": {
     "end_time": "2023-06-08T08:11:07.151918Z",
     "start_time": "2023-06-08T08:11:07.063109Z"
    },
    "pycharm": {
     "is_executing": true,
     "name": "#%%\n"
    }
   },
   "outputs": [],
   "source": [
    "import ipyparallel as ipp\n",
    "rc = ipp.Client()\n",
    "view = rc[:]"
   ]
  },
  {
   "cell_type": "code",
   "execution_count": 16,
   "metadata": {
    "pycharm": {
     "is_executing": true,
     "name": "#%%\n"
    }
   },
   "outputs": [
    {
     "data": {
      "text/plain": [
       "[stdout:0] 4\n"
      ]
     },
     "metadata": {},
     "output_type": "display_data"
    },
    {
     "data": {
      "text/plain": [
       "[stdout:3] 4\n"
      ]
     },
     "metadata": {},
     "output_type": "display_data"
    },
    {
     "data": {
      "text/plain": [
       "[stdout:1] 4\n"
      ]
     },
     "metadata": {},
     "output_type": "display_data"
    },
    {
     "data": {
      "text/plain": [
       "[stdout:2] 4\n"
      ]
     },
     "metadata": {},
     "output_type": "display_data"
    }
   ],
   "source": [
    "%%px\n",
    "from mpi4py import MPI\n",
    "\n",
    "print(MPI.COMM_WORLD.Get_size())"
   ]
  },
  {
   "cell_type": "markdown",
   "metadata": {
    "pycharm": {
     "name": "#%% md\n"
    }
   },
   "source": [
    "We then start with the initialization of our new sweeper, nothing fancy here:"
   ]
  },
  {
   "cell_type": "code",
   "execution_count": 17,
   "metadata": {
    "pycharm": {
     "name": "#%%\n"
    }
   },
   "outputs": [],
   "source": [
    "%%px\n",
    "import jdc  # required to split the class definition into multiple cells..\n",
    "from pySDC.core.Sweeper import sweeper\n",
    "\n",
    "class generic_implicit_MPI(sweeper):\n",
    "\n",
    "    def __init__(self, params):\n",
    "\n",
    "        # call parent's initialization routine\n",
    "        super(generic_implicit_MPI, self).__init__(params)\n",
    "        # set Q_Delta matrix and store MPI rank\n",
    "        self.QI = self.get_Qdelta_implicit(self.coll, qd_type=self.params.QI)\n",
    "        self.rank = self.params.comm.Get_rank()"
   ]
  },
  {
   "cell_type": "markdown",
   "metadata": {
    "pycharm": {
     "name": "#%% md\n"
    }
   },
   "source": [
    "The next thing our sweeper should be able to do is to integrate over the nodes using $Q$. As in the serial case this is just evaluating $Qu$, but now each process has only a single entry of $u$ (i.e. process $m$ has $u_m$). That's a standard use case for ``MPI Reduce``, but each process has to participate in $M$ of those reductions to get all availabe data. Note that there's an easier way to do that if you accept to store not 1 but all $M$ values."
   ]
  },
  {
   "cell_type": "code",
   "execution_count": 18,
   "metadata": {
    "pycharm": {
     "name": "#%%\n"
    }
   },
   "outputs": [],
   "source": [
    "%%px\n",
    "%%add_to generic_implicit_MPI\n",
    "def integrate(self):\n",
    "    # get current level and problem description\n",
    "    L = self.level\n",
    "    P = L.prob\n",
    "\n",
    "    me = P.dtype_u(P.init, val=0.0)\n",
    "    for m in range(self.coll.num_nodes):\n",
    "        if m == self.rank:\n",
    "            # if it's my turn, add to result the incoming data\n",
    "            self.params.comm.Reduce(L.dt * self.coll.Qmat[m + 1, self.rank + 1] * L.f[self.rank + 1],\n",
    "                                    me, root=m, op=MPI.SUM)\n",
    "        else:\n",
    "            # if it's not my turn, contribute to global sum\n",
    "            self.params.comm.Reduce(L.dt * self.coll.Qmat[m + 1, self.rank + 1] * L.f[self.rank + 1],\n",
    "                                    None, root=m, op=MPI.SUM)\n",
    "    return me"
   ]
  },
  {
   "cell_type": "markdown",
   "metadata": {
    "pycharm": {
     "name": "#%% md\n"
    }
   },
   "source": [
    "We end up with the $m$th part of the integral over nodes on process $m$. The next step now is to add the actual sweep mechanics. This is actually very simple: build the right-hand side of SDC and apply the preconditioner. Since $Q_\\Delta$ is diagonal and the nodes are distributed, there is no loop involved (which indicates that we're going to get speeeeeeeedup)."
   ]
  },
  {
   "cell_type": "code",
   "execution_count": 19,
   "metadata": {
    "pycharm": {
     "name": "#%%\n"
    }
   },
   "outputs": [],
   "source": [
    "%%px\n",
    "%%add_to generic_implicit_MPI\n",
    "def update_nodes(self):\n",
    "    # get current level and problem description\n",
    "    L = self.level\n",
    "    P = L.prob\n",
    "\n",
    "     # start building the right-hand side of for the SDC sweep\n",
    "    # get Q F(u^k)\n",
    "    rhs = self.integrate()\n",
    "    # substract Q_Delta F(u^k)\n",
    "    rhs -= L.dt * self.QI[self.rank + 1, self.rank + 1] * L.f[self.rank + 1]\n",
    "    # add initial value\n",
    "    rhs += L.u[0]\n",
    "\n",
    "    # implicit solve with prefactor stemming from the diagonal of Qd\n",
    "    L.u[self.rank + 1] = P.solve_system(rhs, L.dt * self.QI[self.rank + 1, self.rank + 1], L.u[self.rank + 1],\n",
    "                                        L.time + L.dt * self.coll.nodes[self.rank])\n",
    "    # update function values\n",
    "    L.f[self.rank + 1] = P.eval_f(L.u[self.rank + 1], L.time + L.dt * self.coll.nodes[self.rank])\n",
    "\n",
    "    # indicate presence of new values at this level (pySDC internal thing, should always do this in your sweeper)\n",
    "    L.status.updated = True"
   ]
  },
  {
   "cell_type": "markdown",
   "metadata": {
    "pycharm": {
     "name": "#%% md\n"
    }
   },
   "source": [
    "Now that there's a way how to get from $u^k$ to $u^{k+1}$, we need to do some bookkeeping: compute the residual, compute the end point, define initial guesses. Nothing fancy here, but necessary nonetheless:"
   ]
  },
  {
   "cell_type": "code",
   "execution_count": 25,
   "metadata": {
    "pycharm": {
     "name": "#%%\n"
    }
   },
   "outputs": [],
   "source": [
    "%%px\n",
    "%%add_to generic_implicit_MPI\n",
    "def compute_end_point(self):\n",
    "    # get current level and problem description\n",
    "    L = self.level\n",
    "    L.uend[:] = self.params.comm.bcast(L.u[self.rank + 1], root=self.params.comm.Get_size() - 1)\n",
    "\n",
    "def compute_residual(self, stage=None):\n",
    "    # get current level and problem description\n",
    "    L = self.level\n",
    "\n",
    "    # compute the residual for each node\n",
    "    res = self.integrate()\n",
    "    res += L.u[0] - L.u[self.rank + 1]\n",
    "    # use abs function from data type here\n",
    "    res_norm = abs(res)\n",
    "    # find maximal residual over the nodes\n",
    "    L.status.residual = self.params.comm.allreduce(res_norm, op=MPI.MAX)\n",
    "\n",
    "    # indicate that the residual has seen the new values\n",
    "    L.status.updated = False\n",
    "\n",
    "def predict(self):\n",
    "    # get current level and problem description\n",
    "    L = self.level\n",
    "    P = L.prob\n",
    "\n",
    "    # evaluate RHS at left point\n",
    "    L.f[0] = P.eval_f(L.u[0], L.time)\n",
    "    # we just implement 'spread' here for simplicity\n",
    "    L.u[self.rank + 1] = P.dtype_u(L.u[0])\n",
    "    L.f[self.rank + 1] = P.eval_f(L.u[self.rank + 1], L.time + L.dt * self.coll.nodes[self.rank])\n",
    "\n",
    "    L.uend = P.dtype_u(L.u[0])\n",
    "\n",
    "    # indicate that this level is now ready for sweeps\n",
    "    L.status.unlocked = True\n",
    "    L.status.updated = True"
   ]
  },
  {
   "cell_type": "markdown",
   "metadata": {
    "pycharm": {
     "name": "#%% md\n"
    }
   },
   "source": [
    "Now we have a full new sweeper which allows us to run in parallel over $M$ nodes (since we did not spend much thought on this, note that it HAS to be exactly $M$ processes.. much room for optimization here!). In order to use all this, we have to pass the new sweeper to the controller and include the MPI communicator as parameter for the sweeper."
   ]
  },
  {
   "cell_type": "markdown",
   "metadata": {
    "pycharm": {
     "name": "#%% md\n"
    }
   },
   "source": [
    "Now, due to limitations of how to run MPI stuff in Jupyter notebooks, we have to set up our whole run again. Re-using data from above won't work because we need to change context with the cell magic ``%%px``."
   ]
  },
  {
   "cell_type": "code",
   "execution_count": 26,
   "metadata": {
    "pycharm": {
     "name": "#%%\n"
    }
   },
   "outputs": [],
   "source": [
    "%%px\n",
    "from pySDC.implementations.problem_classes.AllenCahn_2D_FD import allencahn_fullyimplicit\n",
    "\n",
    "# initialize problem parameters\n",
    "problem_params = dict()\n",
    "problem_params['nu'] = 2\n",
    "problem_params['eps'] = 0.04\n",
    "problem_params['radius'] = 0.25\n",
    "problem_params['nvars'] = [(128, 128)]\n",
    "problem_params['newton_maxiter'] = 100\n",
    "problem_params['newton_tol'] = 1E-08\n",
    "problem_params['lin_tol'] = 1E-09\n",
    "problem_params['lin_maxiter'] = 100\n",
    "\n",
    "# initialize level parameters\n",
    "level_params = dict()\n",
    "level_params['restol'] = 1E-07\n",
    "level_params['dt'] = 1E-03 / 2\n",
    "level_params['nsweeps'] = 1\n",
    "\n",
    "# initialize sweeper parameters\n",
    "sweeper_params = dict()\n",
    "sweeper_params['quad_type'] = 'RADAU-RIGHT'\n",
    "sweeper_params['num_nodes'] = 4\n",
    "sweeper_params['initial_guess'] = 'zero'\n",
    "\n",
    "# initialize step parameters\n",
    "step_params = dict()\n",
    "step_params['maxiter'] = 50\n",
    "\n",
    "# setup parameters \"in time\"\n",
    "t0 = 0\n",
    "Tend = 0.016\n",
    "\n",
    "# initialize controller parameters\n",
    "controller_params = dict()\n",
    "controller_params['logger_level'] = 30\n",
    "\n",
    "# fill description dictionary for easy step instantiation\n",
    "description = dict()\n",
    "description['problem_class'] = allencahn_fullyimplicit\n",
    "description['problem_params'] = problem_params  # pass problem parameters\n",
    "description['level_params'] = level_params  # pass level parameters\n",
    "description['step_params'] = step_params  # pass step parameters\n"
   ]
  },
  {
   "cell_type": "markdown",
   "metadata": {
    "pycharm": {
     "name": "#%% md\n"
    }
   },
   "source": [
    "Now we need to put in our new sweeper. Note that we also have to choose a different $Q_\\Delta$. We'll use a pre-defined one from the base sweeper class, pass the MPI communicator to the sweeper and put all this into the description of the problem to finally instantiate our controller:"
   ]
  },
  {
   "cell_type": "code",
   "execution_count": 27,
   "metadata": {
    "pycharm": {
     "name": "#%%\n"
    }
   },
   "outputs": [],
   "source": [
    "%%px\n",
    "from pySDC.implementations.controller_classes.controller_nonMPI import controller_nonMPI\n",
    "\n",
    "sweeper_params['QI'] = ['MIN3']\n",
    "sweeper_params['comm'] = MPI.COMM_WORLD\n",
    "\n",
    "description['sweeper_class'] = generic_implicit_MPI  # pass sweeper class\n",
    "description['sweeper_params'] = sweeper_params  # pass sweeper parameters\n",
    "\n",
    "controller = controller_nonMPI(num_procs=1, controller_params=controller_params, description=description)"
   ]
  },
  {
   "cell_type": "markdown",
   "metadata": {
    "pycharm": {
     "name": "#%% md\n"
    }
   },
   "source": [
    "Looks good so far, so we'll set up the initial conditions and run this:"
   ]
  },
  {
   "cell_type": "code",
   "execution_count": 28,
   "metadata": {
    "pycharm": {
     "name": "#%%\n"
    }
   },
   "outputs": [
    {
     "data": {
      "application/vnd.jupyter.widget-view+json": {
       "model_id": "4fa0da2fe15446989da1f43637a59f1b",
       "version_major": 2,
       "version_minor": 0
      },
      "text/plain": [
       "%px:   0%|          | 0/4 [00:00<?, ?tasks/s]"
      ]
     },
     "metadata": {},
     "output_type": "display_data"
    }
   ],
   "source": [
    "%%px\n",
    "P = controller.MS[0].levels[0].prob\n",
    "uinit = P.u_exact(t0)\n",
    "\n",
    "uend_par, stats_par = controller.run(u0=uinit, t0=t0, Tend=Tend)"
   ]
  },
  {
   "cell_type": "markdown",
   "metadata": {
    "pycharm": {
     "name": "#%% md\n"
    }
   },
   "source": [
    "OK, no message so far (which is good, logger level is set to silent). All participating processes now have the results and stats, so let's see:"
   ]
  },
  {
   "cell_type": "code",
   "execution_count": 29,
   "metadata": {
    "pycharm": {
     "is_executing": true,
     "name": "#%%\n"
    }
   },
   "outputs": [
    {
     "data": {
      "text/plain": [
       "[stdout:2] Time to solution on rank 2: 4.4338 sec.\n"
      ]
     },
     "metadata": {},
     "output_type": "display_data"
    },
    {
     "data": {
      "text/plain": [
       "[stdout:1] Time to solution on rank 1: 4.4348 sec.\n"
      ]
     },
     "metadata": {},
     "output_type": "display_data"
    },
    {
     "data": {
      "text/plain": [
       "[stdout:3] Time to solution on rank 3: 4.4345 sec.\n"
      ]
     },
     "metadata": {},
     "output_type": "display_data"
    },
    {
     "data": {
      "text/plain": [
       "[stdout:0] Time to solution on rank 0: 4.4282 sec.\n"
      ]
     },
     "metadata": {},
     "output_type": "display_data"
    },
    {
     "data": {
      "application/vnd.jupyter.widget-view+json": {
       "model_id": "529dce556af84b04b8d0be8d2e1068a5",
       "version_major": 2,
       "version_minor": 0
      },
      "text/plain": [
       "%px:   0%|          | 0/4 [00:00<?, ?tasks/s]"
      ]
     },
     "metadata": {},
     "output_type": "display_data"
    }
   ],
   "source": [
    "%%px\n",
    "rank = MPI.COMM_WORLD.Get_rank()\n",
    "\n",
    "from pySDC.helpers.stats_helper import get_sorted\n",
    "\n",
    "timing = get_sorted(stats_par, type='timing_run', sortby='time')\n",
    "print(f'Time to solution on rank {rank}: {timing[0][1]:6.4f} sec.' )\n",
    "\n",
    "if rank == 0:\n",
    "    import matplotlib.pylab as plt\n",
    "\n",
    "    plt.subplot(1, 2, 1)\n",
    "    plt.title(\"u(t0)\")\n",
    "    plt.imshow(uinit,extent=[-0.5,0.5,-0.5,0.5])\n",
    "\n",
    "    plt.subplot(1, 2, 2)\n",
    "    plt.title(\"u(Tend)\")\n",
    "    plt.imshow(uend_par,extent=[-0.5,0.5,-0.5,0.5])\n",
    "    plt.show()"
   ]
  },
  {
   "cell_type": "markdown",
   "metadata": {
    "pycharm": {
     "name": "#%% md\n"
    }
   },
   "source": [
    "Anyway, this is how you can use a custom sweeper. And in a very similar manner you can replace everything, from controllers (e.g. for adaptivity or fault tolerance) and the transfer module (e.g. if you need mass matrices) to the step and level classes (e.g. if you need more data available)."
   ]
  },
  {
   "cell_type": "markdown",
   "metadata": {
    "pycharm": {
     "name": "#%% md\n"
    }
   },
   "source": [
    "As a user, your default entry are problem implementations, though. For that, don't start from scratch but use existing examples and copy from there."
   ]
  },
  {
   "cell_type": "code",
   "execution_count": null,
   "metadata": {},
   "outputs": [],
   "source": []
  }
 ],
 "metadata": {
  "kernelspec": {
   "display_name": "Python 3 (ipykernel)",
   "language": "python",
   "name": "python3"
  },
  "language_info": {
   "codemirror_mode": {
    "name": "ipython",
    "version": 3
   },
   "file_extension": ".py",
   "mimetype": "text/x-python",
   "name": "python",
   "nbconvert_exporter": "python",
   "pygments_lexer": "ipython3",
   "version": "3.10.11"
  }
 },
 "nbformat": 4,
 "nbformat_minor": 1
}
