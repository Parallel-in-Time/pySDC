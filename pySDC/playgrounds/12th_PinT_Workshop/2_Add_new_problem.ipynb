{
 "cells": [
  {
   "cell_type": "markdown",
   "id": "5a2b4f17",
   "metadata": {},
   "source": [
    "Adding a new problem\n",
    "--------------------------\n",
    "\n",
    "While many problems are already implemented from a wide range of options: (non-)linear, ODEs, PDEs, ND, hyperbolic, parabolic, ..., you may wish to add your own.\n",
    "In particular if you have a problem from a specific domain, let us know and we help you bring this to the main repository!\n",
    "\n",
    "Anyways, we will just do the typical hello-world example of the heat equation: $$u_t = \\nu \\Delta u.$$\n",
    "This is a PDE, which makes it not the easiest problem to implement, but you will notice we have some utilities available to very quickly implement PDEs with finite differences in `N` dimensions.\n",
    "\n",
    "Let's go through all the things we will need and start with the definition of the problem class.\n",
    "We will inherit from a core problem class and already add the datatype for the solution and the right hand side as class attributes.\n",
    "Class attributes are shared across all instances of the class, but you access them as usual with ``self.dtype_u``, for instance.\n",
    "We choose ``mesh`` here, which is a wrapper for ``numpy.ndarray`` with some additional attributes that we need for pySDC, like a communicator."
   ]
  },
  {
   "cell_type": "code",
   "execution_count": 1,
   "id": "531a1b42",
   "metadata": {},
   "outputs": [],
   "source": [
    "import jdc  # required to split the class definition into multiple cells...\n",
    "\n",
    "import numpy as np\n",
    "import scipy.sparse as sp\n",
    "from scipy.sparse.linalg import spsolve\n",
    "\n",
    "from pySDC.core.Problem import ptype\n",
    "from pySDC.implementations.datatype_classes.mesh import mesh\n",
    "\n",
    "class HeatEquation(ptype):\n",
    "    \"\"\"\n",
    "    This is a very basic implementation of a heat equation with finite differences and periodic boundaries.\n",
    "    \"\"\"\n",
    "\n",
    "    # set datatype of solution and right hand side evaluations as class attributes\n",
    "    dtype_u = mesh\n",
    "    dtype_f = mesh"
   ]
  },
  {
   "cell_type": "markdown",
   "id": "24be9da1",
   "metadata": {},
   "source": [
    "Next, we write the `__init__` function which is called during object instantiation.\n",
    "This takes as arguments all the attributes that the problem should have."
   ]
  },
  {
   "cell_type": "code",
   "execution_count": 2,
   "id": "0249acae",
   "metadata": {},
   "outputs": [],
   "source": [
    "%%add_to HeatEquation\n",
    "\n",
    "def __init__(self, nvars=128, ndim=1, stencil_type='center', space_order=2, nu=1.0, freq=2):\n",
    "    \"\"\"\n",
    "    Initialization routine.\n",
    "    \n",
    "    Args:\n",
    "        nvars (int): Number of degrees of freedom in each dimension\n",
    "        ndim (int): Number of dimensions (1 or 2)\n",
    "        stencil_type (string): Type of finite difference stencil\n",
    "        space_order (int): Order of accuracy of the finite difference discrization\n",
    "        nu (float): Coefficient in front of the Laplacian\n",
    "        freq (int): Frequency of the initial conditions\n",
    "    \"\"\"\n",
    "    from pySDC.helpers.problem_helper import get_finite_difference_matrix\n",
    "    \n",
    "    # create a tuple that can be used for pySDC datatype instantiation.\n",
    "    # the format is (<shape>, <MPI communicator>, <datatype>)\n",
    "    init = (nvars if ndim == 1 else [nvars for i in range(ndim)], None, np.dtype('float64'))\n",
    "\n",
    "    # call the super init from the core problem module\n",
    "    super(HeatEquation, self).__init__(init=init)\n",
    "\n",
    "    # setup 1D spatial grid\n",
    "    dx = 1.0 / nvars\n",
    "    xvalues = np.array([i * dx for i in range(nvars)])\n",
    "\n",
    "    # build the finite difference matrix\n",
    "    self.A = get_finite_difference_matrix(\n",
    "        derivative=2,\n",
    "        order=space_order,\n",
    "        stencil_type=stencil_type,\n",
    "        dx=dx,\n",
    "        size=nvars,\n",
    "        dim=ndim,\n",
    "        bc='periodic',\n",
    "    )\n",
    "    self.A *= nu\n",
    "\n",
    "    # make the attributes accessible outside this function\n",
    "    self.xvalues = xvalues\n",
    "    self.dx = dx\n",
    "    self.Id = sp.eye(np.power(nvars, ndim), format='csc')\n",
    "    self._makeAttributeAndRegister(\n",
    "        'nvars', 'stencil_type', 'space_order', 'ndim', 'nu', 'freq', localVars=locals(), readOnly=True\n",
    "    )"
   ]
  },
  {
   "cell_type": "markdown",
   "id": "4a005dfe",
   "metadata": {},
   "source": [
    "Please note a few features in the above code.\n",
    "The function for generating finite difference matrices is pretty general because it will generate a stencil by cancelling terms in Taylor expansions based on the input, so you can generate a wide range of stencils.\n",
    "Options are order of derivative, order of accuracy, one-sided or centered stencils and the dimension by use of Kronecker products.\n",
    "\n",
    "At the end of the ``__init__`` function, you will find the function ``_makeAttributeAndRegister``. This function will make the values available as ``params``.\n",
    "So you can access them either as ``HeatEquation.nvars`` or ``HeatEquation.params.nvars`` for instance, but you are not allowed to change the parameters after the object instantiation is finished.\n",
    "\n",
    "What else do we need?\n",
    "It's really only two things: We need to evaluate the right hand side and we need to be able to perform implicit Euler steps. We define both in the following two functions:"
   ]
  },
  {
   "cell_type": "code",
   "execution_count": 3,
   "id": "31d1bc88",
   "metadata": {},
   "outputs": [],
   "source": [
    "%%add_to HeatEquation\n",
    "\n",
    "def eval_f(self, u, t):\n",
    "    \"\"\"\n",
    "    Routine to evaluate the RHS\n",
    "\n",
    "    Parameters\n",
    "    ----------\n",
    "    u : dtype_u\n",
    "        Current values.\n",
    "    t : float\n",
    "        Current time.\n",
    "\n",
    "    Returns\n",
    "    -------\n",
    "    f : dtype_f\n",
    "        The RHS values.\n",
    "    \"\"\"\n",
    "    f = self.f_init\n",
    "    f[:] = self.A.dot(u.flatten()).reshape(self.init[0])\n",
    "    return f\n",
    "\n",
    "def solve_system(self, rhs, factor, u0, t):\n",
    "    \"\"\"\n",
    "    Simple linear solver for (I-factor*A)u = rhs.\n",
    "\n",
    "    Parameters\n",
    "    ----------\n",
    "    rhs : dtype_f\n",
    "        Right-hand side for the linear system.\n",
    "    factor : float\n",
    "        Abbrev. for the local stepsize (or any other factor required).\n",
    "    u0 : dtype_u\n",
    "        Initial guess for the iterative solver.\n",
    "    t : float\n",
    "        Current time (e.g. for time-dependent BCs).\n",
    "\n",
    "    Returns\n",
    "    -------\n",
    "    sol : dtype_u\n",
    "        The solution of the linear solver.\n",
    "    \"\"\"\n",
    "    sol = self.u_init\n",
    "    sol[:] = spsolve(self.Id - factor * self.A, rhs.flatten()).reshape(self.init[0])\n",
    "    return sol"
   ]
  },
  {
   "cell_type": "markdown",
   "id": "d5b05603",
   "metadata": {},
   "source": [
    "We are just solving the linear system that arises from the FD discretization directly here, but you can use iterative solvers for large problems or whatever you want.\n",
    "\n",
    "It's also convenient to have a function that evaluates the exact solution.\n",
    "If you don't have an exact solution available, you can still put in the initial conditions, which are the exact solution at $t=0$.\n",
    "But for this simple problem, we have an exact solution available from $t\\geq0$ with the following function:"
   ]
  },
  {
   "cell_type": "code",
   "execution_count": 4,
   "id": "7792b0c6",
   "metadata": {},
   "outputs": [],
   "source": [
    "%%add_to HeatEquation\n",
    "\n",
    "def u_exact(self, t, **kwargs):\n",
    "        \"\"\"\n",
    "        Routine to compute the exact solution at time t. Notably, this can be used for initial conditions at t=0.\n",
    "\n",
    "        Args:\n",
    "            t (float): current time\n",
    "\n",
    "        Returns:\n",
    "            dtype_u: exact solution\n",
    "        \"\"\"\n",
    "        ndim, freq, nu, dx, sol = self.ndim, self.freq, self.nu, self.dx, self.u_init\n",
    "\n",
    "        if ndim == 1:\n",
    "            x = self.xvalues\n",
    "            rho = (2.0 - 2.0 * np.cos(np.pi * freq * dx)) / dx**2\n",
    "            if freq > 0:\n",
    "                sol[:] = np.sin(np.pi * freq * x) * np.exp(-t * nu * rho)\n",
    "        elif ndim == 2:\n",
    "            rho = (2.0 - 2.0 * np.cos(np.pi * freq * dx)) / dx**2 + (2.0 - 2.0 * np.cos(np.pi * freq * dx)) / dx**2\n",
    "            x, y = self.xvalues[None, :], self.xvalues[:, None]\n",
    "            sol[:] = np.sin(np.pi * freq * x) * np.sin(np.pi * freq * y) * np.exp(-t * nu * rho)\n",
    "\n",
    "        return sol"
   ]
  },
  {
   "cell_type": "markdown",
   "id": "b329af14",
   "metadata": {},
   "source": [
    "That's it!\n",
    "All we need to add a problem class is a function to evaluate the right hand side, solve implicit Euler steps and some initial conditions.\n",
    "\n",
    "Let's run this problem now just like we did in the last tutorial.\n",
    "We will define a function that let's us enter problem parameters and returns the solution after every time step, the initial conditions and the spatial grid:"
   ]
  },
  {
   "cell_type": "code",
   "execution_count": 5,
   "id": "836ec17e",
   "metadata": {},
   "outputs": [],
   "source": [
    "def run_heat(problem_params):\n",
    "    from pySDC.implementations.sweeper_classes.generic_implicit import generic_implicit\n",
    "    from pySDC.implementations.controller_classes.controller_nonMPI import controller_nonMPI\n",
    "    \n",
    "    from pySDC.helpers.stats_helper import get_sorted\n",
    "    from pySDC.implementations.hooks.log_solution import LogSolution\n",
    "    \n",
    "    level_params = {}\n",
    "    level_params['dt'] = 0.1\n",
    "    level_params['restol'] = -1\n",
    "    \n",
    "    step_params = {}\n",
    "    step_params['maxiter'] = 5\n",
    "    \n",
    "    sweeper_params = {}\n",
    "    sweeper_params['QI'] = 'LU'\n",
    "    sweeper_params['num_nodes'] = 3\n",
    "    sweeper_params['quad_type'] = 'RADAU-RIGHT'\n",
    "    sweeper_params['initial_guess'] = 'spread'\n",
    "    \n",
    "    controller_params = {}\n",
    "    controller_params['logger_level'] = 30\n",
    "    controller_params['hook_class'] = LogSolution\n",
    "    \n",
    "    description = {}\n",
    "    description['level_params'] = level_params\n",
    "    description['step_params'] = step_params\n",
    "    description['sweeper_params'] = sweeper_params\n",
    "    description['sweeper_class'] = generic_implicit\n",
    "    description['problem_params'] = problem_params\n",
    "    description['problem_class'] = HeatEquation\n",
    "    \n",
    "    controller = controller_nonMPI(num_procs=1, controller_params=controller_params, description=description)\n",
    "    \n",
    "    prob = controller.MS[0].levels[0].prob\n",
    "    u_init = prob.u_exact(t=0)\n",
    "    \n",
    "    u_end, stats = controller.run(u0=u_init, t0=0, Tend=0.3)\n",
    "    return get_sorted(stats, type='u'), u_init, prob.xvalues"
   ]
  },
  {
   "cell_type": "markdown",
   "id": "a7718d4e",
   "metadata": {},
   "source": [
    "Now let's run a 1D example:"
   ]
  },
  {
   "cell_type": "code",
   "execution_count": 6,
   "id": "439dcafc",
   "metadata": {},
   "outputs": [
    {
     "data": {
      "text/plain": [
       "Text(0.5, 0, '$x$')"
      ]
     },
     "execution_count": 6,
     "metadata": {},
     "output_type": "execute_result"
    },
    {
     "data": {
      "image/png": "[encoded data removed]",
      "text/plain": [
       "<Figure size 640x480 with 1 Axes>"
      ]
     },
     "metadata": {},
     "output_type": "display_data"
    }
   ],
   "source": [
    "import matplotlib.pyplot as plt\n",
    "\n",
    "problem_params = {}\n",
    "problem_params['nvars'] = 128\n",
    "problem_params['ndim'] = 1\n",
    "problem_params['stencil_type'] = 'center'\n",
    "problem_params['space_order'] = 4\n",
    "problem_params['nu'] = 4e-1\n",
    "problem_params['freq'] = 2\n",
    "\n",
    "u, u_init, x = run_heat(problem_params)\n",
    "\n",
    "ax = plt.subplot()\n",
    "\n",
    "ax.plot(x, u_init, label=r'$u_0$', ls='--')\n",
    "\n",
    "for me in u:\n",
    "    ax.plot(x, me[1], label=rf'$u(t={{{me[0]:.1f}}})$')\n",
    "    \n",
    "ax.legend(frameon=False)\n",
    "ax.set_xlabel(r'$x$')"
   ]
  },
  {
   "cell_type": "markdown",
   "id": "ce005397",
   "metadata": {},
   "source": [
    "We can easily do 2D as well.\n",
    "But we have to drop the resolution per dimension because the total resolution scales with $N^2$, of course.\n",
    "Also, we decrease the coefficient in front of the Laplacian because it makes it easier to see the evolution."
   ]
  },
  {
   "cell_type": "code",
   "execution_count": 7,
   "id": "cb43ae94",
   "metadata": {
    "scrolled": true
   },
   "outputs": [
    {
     "data": {
      "image/png": "[encoded data removed]",
      "text/plain": [
       "<Figure size 640x480 with 4 Axes>"
      ]
     },
     "metadata": {},
     "output_type": "display_data"
    }
   ],
   "source": [
    "problem_params['nvars'] = 32\n",
    "problem_params['ndim'] = 2\n",
    "problem_params['nu'] = 1e-1\n",
    "\n",
    "u, u_init, x = run_heat(problem_params)\n",
    "\n",
    "fig, axs = plt.subplots(2, 2)\n",
    "\n",
    "axs[0,0].imshow(u_init, vmin=0., vmax=0.8)\n",
    "\n",
    "for i in range(3):\n",
    "    axs.flatten()[i+1].set_title(fr'$t={{{u[i][0]:.1f}}}$')\n",
    "    axs.flatten()[i+1].imshow(u[i][1], vmin=0., vmax=0.8)\n",
    "\n",
    "fig.tight_layout()"
   ]
  },
  {
   "cell_type": "markdown",
   "id": "6194e1ac",
   "metadata": {},
   "source": [
    "I hope you agree that adding problems to pySDC is easy once you have a discrete version available.\n",
    "In particular, FD discretizations are very simple to do in pySDC (at least with periodic boundaries).\n",
    "Finite elements are also (partially) supported with FEniCS.\n",
    "\n",
    "Now you know how to add a new problem to pySDC, run it, and record the data you deem interesting.\n",
    "Congratulations on being a very proficient user of pySDC!\n",
    "\n",
    "Now, we will look into the developer side of pySDC and write a custom sweeper that will speed up the problem we where looking at in the first notebook.\n",
    "If you haven't started an ``ipcluster`` yet, please do so now!\n",
    "Make sure you do this in a shell with the ``pySDC_tutorial`` virtual environment."
   ]
  },
  {
   "cell_type": "code",
   "execution_count": null,
   "id": "9fcdf3ed",
   "metadata": {},
   "outputs": [],
   "source": []
  }
 ],
 "metadata": {
  "kernelspec": {
   "display_name": "pySDC_tutorial",
   "language": "python",
   "name": "pysdc_tutorial"
  },
  "language_info": {
   "codemirror_mode": {
    "name": "ipython",
    "version": 3
   },
   "file_extension": ".py",
   "mimetype": "text/x-python",
   "name": "python",
   "nbconvert_exporter": "python",
   "pygments_lexer": "ipython3",
   "version": "3.10.12"
  }
 },
 "nbformat": 4,
 "nbformat_minor": 5
}
