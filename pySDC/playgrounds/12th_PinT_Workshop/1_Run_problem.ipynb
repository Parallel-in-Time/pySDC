{
 "cells": [
  {
   "cell_type": "markdown",
   "metadata": {
    "pycharm": {
     "name": "#%% md\n"
    }
   },
   "source": [
    "An Allen-Cahn playground\n",
    "========================"
   ]
  },
  {
   "cell_type": "markdown",
   "metadata": {},
   "source": [
    "This notebook will walk you through the front end of pySDC.\n",
    "We will set up a problem that is already implemented with our custom parameters and we will configure the properties of SDC we want.\n",
    "Then, we will pass the configuration to the controller and run our problem.\n",
    "Before looking a bit more in the back end, we will shortly look at how to analyse and visualize the results."
   ]
  },
  {
   "cell_type": "markdown",
   "metadata": {
    "pycharm": {
     "name": "#%% md\n"
    }
   },
   "source": [
    "A first SDC run\n",
    "---------------"
   ]
  },
  {
   "cell_type": "markdown",
   "metadata": {
    "pycharm": {
     "name": "#%% md\n"
    }
   },
   "source": [
    "We will start by setting up our spatial problem:\n",
    "A 2D non-linear reaction-diffusion equation that can be used to model phase-field transitions.\n",
    "The equation reads\n",
    "$$u_t = \\Delta u + \\frac{1}{\\epsilon^2}u(1-u^\\nu),$$\n",
    "where we use finite differences for spatial discretization.\n",
    "\n",
    "The phases are modelled as values close to 1 and values close to 0 in the solution.\n",
    "As initial conditions, we choose a circle of the 1 phase embedded in the 0 phase, where the parameter $\\epsilon$ models the width of the transition.\n",
    "\n",
    "We also specify some tolerances.\n",
    "Because the problem is non-linear, we employ a Newton solver, which wants a tolerance, but we abort after 100 iterations in case the solver does not converge.\n",
    "In each Newton iteration, we are solving a linearized version of the problem, where a linear system of equations arises for us to solve.\n",
    "For this we use a [conjugate gradient](<https://docs.scipy.org/doc/scipy/reference/generated/scipy.sparse.linalg.cg.html>) implementation from scipy."
   ]
  },
  {
   "cell_type": "code",
   "execution_count": 1,
   "metadata": {
    "ExecuteTime": {
     "end_time": "2023-06-08T08:09:47.817544Z",
     "start_time": "2023-06-08T08:09:46.616308Z"
    },
    "pycharm": {
     "name": "#%%\n"
    }
   },
   "outputs": [],
   "source": [
    "from pySDC.implementations.problem_classes.AllenCahn_2D_FD import allencahn_fullyimplicit\n",
    "\n",
    "# initialize problem parameters\n",
    "problem_params = dict()\n",
    "problem_params['nu'] = 2\n",
    "problem_params['eps'] = 0.04\n",
    "problem_params['radius'] = 0.25\n",
    "problem_params['nvars'] = [(128, 128)]\n",
    "problem_params['newton_maxiter'] = 100\n",
    "problem_params['newton_tol'] = 1E-08\n",
    "problem_params['lin_tol'] = 1E-09\n",
    "problem_params['lin_maxiter'] = 100"
   ]
  },
  {
   "cell_type": "markdown",
   "metadata": {
    "pycharm": {
     "name": "#%% md\n"
    }
   },
   "source": [
    "Next, we configure the temporal setup for pySDC.\n",
    "The different parameters are spread between a variety of configuration dictionaries that may not seem straightforward at first sight.\n",
    "Please bear with us!\n",
    "\n",
    "We will divide the temporal domain in steps and solve them one at a time.\n",
    "We will treat SDC as an iterative method and only losely restrict the number of iterations per step.\n",
    "\n",
    "The tolerance for declaring convergence is, however, not a parameter of the step because pySDC supports multiple levels on each step which each can have a different tolerance.\n",
    "We will not bother with this today, but know that this is the reasoning behind all the crucial parameters being parameters of the level instead of the step.\n",
    "\n",
    "The sweeper is where the magic hapens.\n",
    "SDC solves fully implicit Runge-Kutta methods iteratively, by performing sweeps with a preconditioner.\n",
    "Unlike the collocation method, this is lower triangular, allowing us to solve each iteration with forward substitution.\n",
    "The sweeper coordinates this by telling the problem class where to evaluate the right hand side in order to assemble \"implicit Euler\" steps that are also solved in the problem class.\n",
    "We setup a particular collocation problem that we want to solve and a preconditioner that will be used in the iterations.\n",
    "As initial guess, we just spread the initial conditions to all collocation nodes."
   ]
  },
  {
   "cell_type": "code",
   "execution_count": 2,
   "metadata": {
    "ExecuteTime": {
     "end_time": "2023-06-08T08:09:49.898106Z",
     "start_time": "2023-06-08T08:09:49.332338Z"
    },
    "pycharm": {
     "name": "#%%\n"
    }
   },
   "outputs": [],
   "source": [
    "# initialize step parameters\n",
    "step_params = dict()\n",
    "step_params['maxiter'] = 50\n",
    "\n",
    "# initialize level parameters\n",
    "level_params = dict()\n",
    "level_params['restol'] = 1E-07\n",
    "level_params['dt'] = 1E-03 / 2\n",
    "level_params['nsweeps'] = 1\n",
    "\n",
    "# initialize sweeper parameters\n",
    "sweeper_params = dict()\n",
    "sweeper_params['quad_type'] = 'RADAU-RIGHT'\n",
    "sweeper_params['QI'] = ['LU']\n",
    "sweeper_params['num_nodes'] = 4\n",
    "sweeper_params['initial_guess'] = 'spread'\n",
    "\n",
    "# setup parameters \"in time\"\n",
    "t0 = 0\n",
    "Tend = 0.016"
   ]
  },
  {
   "cell_type": "markdown",
   "metadata": {
    "pycharm": {
     "name": "#%% md\n"
    }
   },
   "source": [
    "Finally, the controller.\n",
    "This gathers all configurations and actually runs the problem we have set up."
   ]
  },
  {
   "cell_type": "code",
   "execution_count": 3,
   "metadata": {
    "ExecuteTime": {
     "end_time": "2023-06-08T08:09:52.653307Z",
     "start_time": "2023-06-08T08:09:52.601482Z"
    },
    "pycharm": {
     "name": "#%%\n"
    }
   },
   "outputs": [
    {
     "name": "stdout",
     "output_type": "stream",
     "text": [
      "controller - INFO: Welcome to the one and only, really very astonishing and 87.3% bug free\n",
      "                                 _____ _____   _____ \n",
      "                                / ____|  __ \\ / ____|\n",
      "                    _ __  _   _| (___ | |  | | |     \n",
      "                   | '_ \\| | | |\\___ \\| |  | | |     \n",
      "                   | |_) | |_| |____) | |__| | |____ \n",
      "                   | .__/ \\__, |_____/|_____/ \\_____|\n",
      "                   | |     __/ |                     \n",
      "                   |_|    |___/                      \n",
      "                                                     \n",
      "controller - INFO: Setup overview (--> user-defined, -> dependency) -- BEGIN\n",
      "controller - INFO: ----------------------------------------------------------------------------------------------------\n",
      "\n",
      "Controller: <class 'pySDC.implementations.controller_classes.controller_nonMPI.controller_nonMPI'>\n",
      "    mssdc_jac = True\n",
      "    predict_type = None\n",
      "    all_to_done = False\n",
      "--> logger_level = 20\n",
      "    log_to_file = False\n",
      "    dump_setup = True\n",
      "    fname = run_pid50293.log\n",
      "    use_iteration_estimator = False\n",
      "--> hook_class = [<class 'pySDC.implementations.hooks.default_hook.DefaultHooks'>]\n",
      "\n",
      "Step: <class 'pySDC.core.Step.step'>\n",
      "--> maxiter = 50\n",
      "    Level: <class 'pySDC.core.Level.level'>\n",
      "        Level  0\n",
      "-->         dt = 0.0005\n",
      "            dt_initial = 0.0005\n",
      "-->         restol = 1e-07\n",
      "-->         nsweeps = 1\n",
      "            residual_type = full_abs\n",
      "-->         Problem: <class 'pySDC.implementations.problem_classes.AllenCahn_2D_FD.allencahn_fullyimplicit'>\n",
      "-->             eps = 0.04\n",
      "-->             newton_maxiter = 100\n",
      "-->             nvars = (128, 128)\n",
      "-->             nu = 2\n",
      "-->             lin_maxiter = 100\n",
      "-->             newton_tol = 1e-08\n",
      "-->             lin_tol = 1e-09\n",
      "                order = 2\n",
      "-->             radius = 0.25\n",
      "-->             Data type u: <class 'pySDC.implementations.datatype_classes.mesh.mesh'>\n",
      "-->             Data type f: <class 'pySDC.implementations.datatype_classes.mesh.mesh'>\n",
      "-->             Sweeper: <class 'pySDC.implementations.sweeper_classes.generic_implicit.generic_implicit'>\n",
      "                    do_coll_update = False\n",
      "-->                 initial_guess = spread\n",
      "                    skip_residual_computation = ()\n",
      "-->                 quad_type = RADAU-RIGHT\n",
      "-->                 QI = LU\n",
      "-->                 num_nodes = 4\n",
      "-->                 Collocation: <class 'pySDC.core.Collocation.CollBase'>\n",
      "\n",
      "Active convergence controllers:\n",
      "    |  # | order | convergence controller\n",
      "----+----+-------+---------------------------------------------------------------------------------------\n",
      "    |  0 |    95 | BasicRestartingNonMPI\n",
      " -> |  1 |   100 | SpreadStepSizesBlockwiseNonMPI\n",
      "    |  2 |   200 | CheckConvergence\n",
      "\n",
      "controller - INFO: ----------------------------------------------------------------------------------------------------\n",
      "controller - INFO: Setup overview (--> user-defined, -> dependency) -- END\n",
      "\n"
     ]
    }
   ],
   "source": [
    "from pySDC.implementations.controller_classes.controller_nonMPI import controller_nonMPI\n",
    "from pySDC.implementations.sweeper_classes.generic_implicit import generic_implicit\n",
    "\n",
    "# initialize controller parameters\n",
    "controller_params = dict()\n",
    "controller_params['logger_level'] = 20\n",
    "\n",
    "# fill description dictionary for easy step instantiation\n",
    "description = dict()\n",
    "description['problem_class'] = allencahn_fullyimplicit\n",
    "description['problem_params'] = problem_params\n",
    "description['sweeper_class'] = generic_implicit\n",
    "description['sweeper_params'] = sweeper_params\n",
    "description['level_params'] = level_params\n",
    "description['step_params'] = step_params\n",
    "\n",
    "# instantiate controller\n",
    "controller = controller_nonMPI(num_procs=1, controller_params=controller_params, description=description)"
   ]
  },
  {
   "cell_type": "markdown",
   "metadata": {
    "pycharm": {
     "name": "#%% md\n"
    }
   },
   "source": [
    "We're now setting up the initial conditions. Note that we could have done this earlier, but now the data structure is in place and we can rely on our problem class without having to deal with it directly:\n",
    "\n",
    "Notice for later that the controller has a list of steps which, in turn, have a list of levels.\n",
    "In our setup, the lists contain only a single element, but pySDC is capable of multi-all-the-things."
   ]
  },
  {
   "cell_type": "code",
   "execution_count": 4,
   "metadata": {
    "ExecuteTime": {
     "end_time": "2023-06-08T08:09:56.416885Z",
     "start_time": "2023-06-08T08:09:56.378139Z"
    },
    "pycharm": {
     "name": "#%%\n"
    }
   },
   "outputs": [],
   "source": [
    "prob = controller.MS[0].levels[0].prob\n",
    "uinit = prob.u_exact(t0)"
   ]
  },
  {
   "cell_type": "markdown",
   "metadata": {
    "pycharm": {
     "name": "#%% md\n"
    }
   },
   "source": [
    "Now everything is in place to run the simulation:"
   ]
  },
  {
   "cell_type": "code",
   "execution_count": 5,
   "metadata": {
    "ExecuteTime": {
     "end_time": "2023-06-08T08:10:08.559890Z",
     "start_time": "2023-06-08T08:09:59.138135Z"
    },
    "pycharm": {
     "name": "#%%\n"
    }
   },
   "outputs": [
    {
     "name": "stdout",
     "output_type": "stream",
     "text": [
      "hooks - INFO: Process  0 on time 0.000000 at stage         IT_FINE: Level: 0 -- Iteration:  1 -- Sweep:  1 -- residual: 4.94820659e-04\n",
      "hooks - INFO: Process  0 on time 0.000000 at stage         IT_FINE: Level: 0 -- Iteration:  2 -- Sweep:  1 -- residual: 8.91252872e-05\n",
      "hooks - INFO: Process  0 on time 0.000000 at stage         IT_FINE: Level: 0 -- Iteration:  3 -- Sweep:  1 -- residual: 1.55576083e-05\n",
      "hooks - INFO: Process  0 on time 0.000000 at stage         IT_FINE: Level: 0 -- Iteration:  4 -- Sweep:  1 -- residual: 1.75227517e-06\n",
      "hooks - INFO: Process  0 on time 0.000000 at stage         IT_FINE: Level: 0 -- Iteration:  5 -- Sweep:  1 -- residual: 1.31502093e-07\n",
      "hooks - INFO: Process  0 on time 0.000000 at stage         IT_FINE: Level: 0 -- Iteration:  6 -- Sweep:  1 -- residual: 1.75104826e-08\n",
      "hooks - INFO: Process  0 on time 0.000500 at stage         IT_FINE: Level: 0 -- Iteration:  1 -- Sweep:  1 -- residual: 8.17793385e-05\n",
      "hooks - INFO: Process  0 on time 0.000500 at stage         IT_FINE: Level: 0 -- Iteration:  2 -- Sweep:  1 -- residual: 7.08351486e-06\n",
      "hooks - INFO: Process  0 on time 0.000500 at stage         IT_FINE: Level: 0 -- Iteration:  3 -- Sweep:  1 -- residual: 9.90765725e-07\n",
      "hooks - INFO: Process  0 on time 0.000500 at stage         IT_FINE: Level: 0 -- Iteration:  4 -- Sweep:  1 -- residual: 1.45464038e-07\n",
      "hooks - INFO: Process  0 on time 0.000500 at stage         IT_FINE: Level: 0 -- Iteration:  5 -- Sweep:  1 -- residual: 2.21446710e-08\n",
      "hooks - INFO: Process  0 on time 0.001000 at stage         IT_FINE: Level: 0 -- Iteration:  1 -- Sweep:  1 -- residual: 1.21835048e-04\n",
      "hooks - INFO: Process  0 on time 0.001000 at stage         IT_FINE: Level: 0 -- Iteration:  2 -- Sweep:  1 -- residual: 8.82568058e-06\n",
      "hooks - INFO: Process  0 on time 0.001000 at stage         IT_FINE: Level: 0 -- Iteration:  3 -- Sweep:  1 -- residual: 1.00445415e-06\n",
      "hooks - INFO: Process  0 on time 0.001000 at stage         IT_FINE: Level: 0 -- Iteration:  4 -- Sweep:  1 -- residual: 1.30404211e-07\n",
      "hooks - INFO: Process  0 on time 0.001000 at stage         IT_FINE: Level: 0 -- Iteration:  5 -- Sweep:  1 -- residual: 1.88890579e-08\n",
      "hooks - INFO: Process  0 on time 0.001500 at stage         IT_FINE: Level: 0 -- Iteration:  1 -- Sweep:  1 -- residual: 1.54472903e-04\n",
      "hooks - INFO: Process  0 on time 0.001500 at stage         IT_FINE: Level: 0 -- Iteration:  2 -- Sweep:  1 -- residual: 1.05261033e-05\n",
      "hooks - INFO: Process  0 on time 0.001500 at stage         IT_FINE: Level: 0 -- Iteration:  3 -- Sweep:  1 -- residual: 1.10176520e-06\n",
      "hooks - INFO: Process  0 on time 0.001500 at stage         IT_FINE: Level: 0 -- Iteration:  4 -- Sweep:  1 -- residual: 1.36047802e-07\n",
      "hooks - INFO: Process  0 on time 0.001500 at stage         IT_FINE: Level: 0 -- Iteration:  5 -- Sweep:  1 -- residual: 1.91744203e-08\n",
      "hooks - INFO: Process  0 on time 0.002000 at stage         IT_FINE: Level: 0 -- Iteration:  1 -- Sweep:  1 -- residual: 1.76779464e-04\n",
      "hooks - INFO: Process  0 on time 0.002000 at stage         IT_FINE: Level: 0 -- Iteration:  2 -- Sweep:  1 -- residual: 1.17667612e-05\n",
      "hooks - INFO: Process  0 on time 0.002000 at stage         IT_FINE: Level: 0 -- Iteration:  3 -- Sweep:  1 -- residual: 1.17680953e-06\n",
      "hooks - INFO: Process  0 on time 0.002000 at stage         IT_FINE: Level: 0 -- Iteration:  4 -- Sweep:  1 -- residual: 1.41905495e-07\n",
      "hooks - INFO: Process  0 on time 0.002000 at stage         IT_FINE: Level: 0 -- Iteration:  5 -- Sweep:  1 -- residual: 1.96918267e-08\n",
      "hooks - INFO: Process  0 on time 0.002500 at stage         IT_FINE: Level: 0 -- Iteration:  1 -- Sweep:  1 -- residual: 1.92715265e-04\n",
      "hooks - INFO: Process  0 on time 0.002500 at stage         IT_FINE: Level: 0 -- Iteration:  2 -- Sweep:  1 -- residual: 1.26046775e-05\n",
      "hooks - INFO: Process  0 on time 0.002500 at stage         IT_FINE: Level: 0 -- Iteration:  3 -- Sweep:  1 -- residual: 1.23815003e-06\n",
      "hooks - INFO: Process  0 on time 0.002500 at stage         IT_FINE: Level: 0 -- Iteration:  4 -- Sweep:  1 -- residual: 1.46277916e-07\n",
      "hooks - INFO: Process  0 on time 0.002500 at stage         IT_FINE: Level: 0 -- Iteration:  5 -- Sweep:  1 -- residual: 2.02043301e-08\n",
      "hooks - INFO: Process  0 on time 0.003000 at stage         IT_FINE: Level: 0 -- Iteration:  1 -- Sweep:  1 -- residual: 2.04301943e-04\n",
      "hooks - INFO: Process  0 on time 0.003000 at stage         IT_FINE: Level: 0 -- Iteration:  2 -- Sweep:  1 -- residual: 1.32572823e-05\n",
      "hooks - INFO: Process  0 on time 0.003000 at stage         IT_FINE: Level: 0 -- Iteration:  3 -- Sweep:  1 -- residual: 1.28534776e-06\n",
      "hooks - INFO: Process  0 on time 0.003000 at stage         IT_FINE: Level: 0 -- Iteration:  4 -- Sweep:  1 -- residual: 1.50567006e-07\n",
      "hooks - INFO: Process  0 on time 0.003000 at stage         IT_FINE: Level: 0 -- Iteration:  5 -- Sweep:  1 -- residual: 2.06085448e-08\n",
      "hooks - INFO: Process  0 on time 0.003500 at stage         IT_FINE: Level: 0 -- Iteration:  1 -- Sweep:  1 -- residual: 2.13509647e-04\n",
      "hooks - INFO: Process  0 on time 0.003500 at stage         IT_FINE: Level: 0 -- Iteration:  2 -- Sweep:  1 -- residual: 1.37657147e-05\n",
      "hooks - INFO: Process  0 on time 0.003500 at stage         IT_FINE: Level: 0 -- Iteration:  3 -- Sweep:  1 -- residual: 1.32069538e-06\n",
      "hooks - INFO: Process  0 on time 0.003500 at stage         IT_FINE: Level: 0 -- Iteration:  4 -- Sweep:  1 -- residual: 1.54291762e-07\n",
      "hooks - INFO: Process  0 on time 0.003500 at stage         IT_FINE: Level: 0 -- Iteration:  5 -- Sweep:  1 -- residual: 2.10695436e-08\n",
      "hooks - INFO: Process  0 on time 0.004000 at stage         IT_FINE: Level: 0 -- Iteration:  1 -- Sweep:  1 -- residual: 2.21189260e-04\n",
      "hooks - INFO: Process  0 on time 0.004000 at stage         IT_FINE: Level: 0 -- Iteration:  2 -- Sweep:  1 -- residual: 1.41624563e-05\n",
      "hooks - INFO: Process  0 on time 0.004000 at stage         IT_FINE: Level: 0 -- Iteration:  3 -- Sweep:  1 -- residual: 1.35605159e-06\n",
      "hooks - INFO: Process  0 on time 0.004000 at stage         IT_FINE: Level: 0 -- Iteration:  4 -- Sweep:  1 -- residual: 1.57766939e-07\n",
      "hooks - INFO: Process  0 on time 0.004000 at stage         IT_FINE: Level: 0 -- Iteration:  5 -- Sweep:  1 -- residual: 2.15011369e-08\n",
      "hooks - INFO: Process  0 on time 0.004500 at stage         IT_FINE: Level: 0 -- Iteration:  1 -- Sweep:  1 -- residual: 2.27976041e-04\n",
      "hooks - INFO: Process  0 on time 0.004500 at stage         IT_FINE: Level: 0 -- Iteration:  2 -- Sweep:  1 -- residual: 1.45406323e-05\n",
      "hooks - INFO: Process  0 on time 0.004500 at stage         IT_FINE: Level: 0 -- Iteration:  3 -- Sweep:  1 -- residual: 1.38801144e-06\n",
      "hooks - INFO: Process  0 on time 0.004500 at stage         IT_FINE: Level: 0 -- Iteration:  4 -- Sweep:  1 -- residual: 1.60910056e-07\n",
      "hooks - INFO: Process  0 on time 0.004500 at stage         IT_FINE: Level: 0 -- Iteration:  5 -- Sweep:  1 -- residual: 2.19292578e-08\n",
      "hooks - INFO: Process  0 on time 0.005000 at stage         IT_FINE: Level: 0 -- Iteration:  1 -- Sweep:  1 -- residual: 2.34188953e-04\n",
      "hooks - INFO: Process  0 on time 0.005000 at stage         IT_FINE: Level: 0 -- Iteration:  2 -- Sweep:  1 -- residual: 1.48898968e-05\n",
      "hooks - INFO: Process  0 on time 0.005000 at stage         IT_FINE: Level: 0 -- Iteration:  3 -- Sweep:  1 -- residual: 1.41861938e-06\n",
      "hooks - INFO: Process  0 on time 0.005000 at stage         IT_FINE: Level: 0 -- Iteration:  4 -- Sweep:  1 -- residual: 1.64175687e-07\n",
      "hooks - INFO: Process  0 on time 0.005000 at stage         IT_FINE: Level: 0 -- Iteration:  5 -- Sweep:  1 -- residual: 2.23467909e-08\n",
      "hooks - INFO: Process  0 on time 0.005500 at stage         IT_FINE: Level: 0 -- Iteration:  1 -- Sweep:  1 -- residual: 2.40235978e-04\n",
      "hooks - INFO: Process  0 on time 0.005500 at stage         IT_FINE: Level: 0 -- Iteration:  2 -- Sweep:  1 -- residual: 1.52213793e-05\n",
      "hooks - INFO: Process  0 on time 0.005500 at stage         IT_FINE: Level: 0 -- Iteration:  3 -- Sweep:  1 -- residual: 1.44672787e-06\n",
      "hooks - INFO: Process  0 on time 0.005500 at stage         IT_FINE: Level: 0 -- Iteration:  4 -- Sweep:  1 -- residual: 1.67699310e-07\n",
      "hooks - INFO: Process  0 on time 0.005500 at stage         IT_FINE: Level: 0 -- Iteration:  5 -- Sweep:  1 -- residual: 2.27882754e-08\n"
     ]
    },
    {
     "name": "stdout",
     "output_type": "stream",
     "text": [
      "hooks - INFO: Process  0 on time 0.006000 at stage         IT_FINE: Level: 0 -- Iteration:  1 -- Sweep:  1 -- residual: 2.46351259e-04\n",
      "hooks - INFO: Process  0 on time 0.006000 at stage         IT_FINE: Level: 0 -- Iteration:  2 -- Sweep:  1 -- residual: 1.55302269e-05\n",
      "hooks - INFO: Process  0 on time 0.006000 at stage         IT_FINE: Level: 0 -- Iteration:  3 -- Sweep:  1 -- residual: 1.47779751e-06\n",
      "hooks - INFO: Process  0 on time 0.006000 at stage         IT_FINE: Level: 0 -- Iteration:  4 -- Sweep:  1 -- residual: 1.70711833e-07\n",
      "hooks - INFO: Process  0 on time 0.006000 at stage         IT_FINE: Level: 0 -- Iteration:  5 -- Sweep:  1 -- residual: 2.32703584e-08\n",
      "hooks - INFO: Process  0 on time 0.006500 at stage         IT_FINE: Level: 0 -- Iteration:  1 -- Sweep:  1 -- residual: 2.52381995e-04\n",
      "hooks - INFO: Process  0 on time 0.006500 at stage         IT_FINE: Level: 0 -- Iteration:  2 -- Sweep:  1 -- residual: 1.58774491e-05\n",
      "hooks - INFO: Process  0 on time 0.006500 at stage         IT_FINE: Level: 0 -- Iteration:  3 -- Sweep:  1 -- residual: 1.50957257e-06\n",
      "hooks - INFO: Process  0 on time 0.006500 at stage         IT_FINE: Level: 0 -- Iteration:  4 -- Sweep:  1 -- residual: 1.74507639e-07\n",
      "hooks - INFO: Process  0 on time 0.006500 at stage         IT_FINE: Level: 0 -- Iteration:  5 -- Sweep:  1 -- residual: 2.36988690e-08\n",
      "hooks - INFO: Process  0 on time 0.007000 at stage         IT_FINE: Level: 0 -- Iteration:  1 -- Sweep:  1 -- residual: 2.58739608e-04\n",
      "hooks - INFO: Process  0 on time 0.007000 at stage         IT_FINE: Level: 0 -- Iteration:  2 -- Sweep:  1 -- residual: 1.62228227e-05\n",
      "hooks - INFO: Process  0 on time 0.007000 at stage         IT_FINE: Level: 0 -- Iteration:  3 -- Sweep:  1 -- residual: 1.53944703e-06\n",
      "hooks - INFO: Process  0 on time 0.007000 at stage         IT_FINE: Level: 0 -- Iteration:  4 -- Sweep:  1 -- residual: 1.78188305e-07\n",
      "hooks - INFO: Process  0 on time 0.007000 at stage         IT_FINE: Level: 0 -- Iteration:  5 -- Sweep:  1 -- residual: 2.42267890e-08\n",
      "hooks - INFO: Process  0 on time 0.007500 at stage         IT_FINE: Level: 0 -- Iteration:  1 -- Sweep:  1 -- residual: 2.65279695e-04\n",
      "hooks - INFO: Process  0 on time 0.007500 at stage         IT_FINE: Level: 0 -- Iteration:  2 -- Sweep:  1 -- residual: 1.65562110e-05\n",
      "hooks - INFO: Process  0 on time 0.007500 at stage         IT_FINE: Level: 0 -- Iteration:  3 -- Sweep:  1 -- residual: 1.57306282e-06\n",
      "hooks - INFO: Process  0 on time 0.007500 at stage         IT_FINE: Level: 0 -- Iteration:  4 -- Sweep:  1 -- residual: 1.82051188e-07\n",
      "hooks - INFO: Process  0 on time 0.007500 at stage         IT_FINE: Level: 0 -- Iteration:  5 -- Sweep:  1 -- residual: 2.47474942e-08\n",
      "hooks - INFO: Process  0 on time 0.008000 at stage         IT_FINE: Level: 0 -- Iteration:  1 -- Sweep:  1 -- residual: 2.72099898e-04\n",
      "hooks - INFO: Process  0 on time 0.008000 at stage         IT_FINE: Level: 0 -- Iteration:  2 -- Sweep:  1 -- residual: 1.69184727e-05\n",
      "hooks - INFO: Process  0 on time 0.008000 at stage         IT_FINE: Level: 0 -- Iteration:  3 -- Sweep:  1 -- residual: 1.60808946e-06\n",
      "hooks - INFO: Process  0 on time 0.008000 at stage         IT_FINE: Level: 0 -- Iteration:  4 -- Sweep:  1 -- residual: 1.85690515e-07\n",
      "hooks - INFO: Process  0 on time 0.008000 at stage         IT_FINE: Level: 0 -- Iteration:  5 -- Sweep:  1 -- residual: 2.52699236e-08\n",
      "hooks - INFO: Process  0 on time 0.008500 at stage         IT_FINE: Level: 0 -- Iteration:  1 -- Sweep:  1 -- residual: 2.79101209e-04\n",
      "hooks - INFO: Process  0 on time 0.008500 at stage         IT_FINE: Level: 0 -- Iteration:  2 -- Sweep:  1 -- residual: 1.73071591e-05\n",
      "hooks - INFO: Process  0 on time 0.008500 at stage         IT_FINE: Level: 0 -- Iteration:  3 -- Sweep:  1 -- residual: 1.64244648e-06\n",
      "hooks - INFO: Process  0 on time 0.008500 at stage         IT_FINE: Level: 0 -- Iteration:  4 -- Sweep:  1 -- residual: 1.90082892e-07\n",
      "hooks - INFO: Process  0 on time 0.008500 at stage         IT_FINE: Level: 0 -- Iteration:  5 -- Sweep:  1 -- residual: 2.58072721e-08\n",
      "hooks - INFO: Process  0 on time 0.009000 at stage         IT_FINE: Level: 0 -- Iteration:  1 -- Sweep:  1 -- residual: 2.86639865e-04\n",
      "hooks - INFO: Process  0 on time 0.009000 at stage         IT_FINE: Level: 0 -- Iteration:  2 -- Sweep:  1 -- residual: 1.76862845e-05\n",
      "hooks - INFO: Process  0 on time 0.009000 at stage         IT_FINE: Level: 0 -- Iteration:  3 -- Sweep:  1 -- residual: 1.67984755e-06\n",
      "hooks - INFO: Process  0 on time 0.009000 at stage         IT_FINE: Level: 0 -- Iteration:  4 -- Sweep:  1 -- residual: 1.94469177e-07\n",
      "hooks - INFO: Process  0 on time 0.009000 at stage         IT_FINE: Level: 0 -- Iteration:  5 -- Sweep:  1 -- residual: 2.64293030e-08\n",
      "hooks - INFO: Process  0 on time 0.009500 at stage         IT_FINE: Level: 0 -- Iteration:  1 -- Sweep:  1 -- residual: 2.94559822e-04\n",
      "hooks - INFO: Process  0 on time 0.009500 at stage         IT_FINE: Level: 0 -- Iteration:  2 -- Sweep:  1 -- residual: 1.80999485e-05\n",
      "hooks - INFO: Process  0 on time 0.009500 at stage         IT_FINE: Level: 0 -- Iteration:  3 -- Sweep:  1 -- residual: 1.71905887e-06\n",
      "hooks - INFO: Process  0 on time 0.009500 at stage         IT_FINE: Level: 0 -- Iteration:  4 -- Sweep:  1 -- residual: 1.98749528e-07\n",
      "hooks - INFO: Process  0 on time 0.009500 at stage         IT_FINE: Level: 0 -- Iteration:  5 -- Sweep:  1 -- residual: 2.70559278e-08\n",
      "hooks - INFO: Process  0 on time 0.010000 at stage         IT_FINE: Level: 0 -- Iteration:  1 -- Sweep:  1 -- residual: 3.02618797e-04\n",
      "hooks - INFO: Process  0 on time 0.010000 at stage         IT_FINE: Level: 0 -- Iteration:  2 -- Sweep:  1 -- residual: 1.85392917e-05\n",
      "hooks - INFO: Process  0 on time 0.010000 at stage         IT_FINE: Level: 0 -- Iteration:  3 -- Sweep:  1 -- residual: 1.76074804e-06\n",
      "hooks - INFO: Process  0 on time 0.010000 at stage         IT_FINE: Level: 0 -- Iteration:  4 -- Sweep:  1 -- residual: 2.03520839e-07\n",
      "hooks - INFO: Process  0 on time 0.010000 at stage         IT_FINE: Level: 0 -- Iteration:  5 -- Sweep:  1 -- residual: 2.76464936e-08\n",
      "hooks - INFO: Process  0 on time 0.010500 at stage         IT_FINE: Level: 0 -- Iteration:  1 -- Sweep:  1 -- residual: 3.11524635e-04\n",
      "hooks - INFO: Process  0 on time 0.010500 at stage         IT_FINE: Level: 0 -- Iteration:  2 -- Sweep:  1 -- residual: 1.89786462e-05\n",
      "hooks - INFO: Process  0 on time 0.010500 at stage         IT_FINE: Level: 0 -- Iteration:  3 -- Sweep:  1 -- residual: 1.80167405e-06\n",
      "hooks - INFO: Process  0 on time 0.010500 at stage         IT_FINE: Level: 0 -- Iteration:  4 -- Sweep:  1 -- residual: 2.08645518e-07\n",
      "hooks - INFO: Process  0 on time 0.010500 at stage         IT_FINE: Level: 0 -- Iteration:  5 -- Sweep:  1 -- residual: 2.83638633e-08\n",
      "hooks - INFO: Process  0 on time 0.011000 at stage         IT_FINE: Level: 0 -- Iteration:  1 -- Sweep:  1 -- residual: 3.20842689e-04\n",
      "hooks - INFO: Process  0 on time 0.011000 at stage         IT_FINE: Level: 0 -- Iteration:  2 -- Sweep:  1 -- residual: 1.94514395e-05\n",
      "hooks - INFO: Process  0 on time 0.011000 at stage         IT_FINE: Level: 0 -- Iteration:  3 -- Sweep:  1 -- residual: 1.84742853e-06\n",
      "hooks - INFO: Process  0 on time 0.011000 at stage         IT_FINE: Level: 0 -- Iteration:  4 -- Sweep:  1 -- residual: 2.13638257e-07\n",
      "hooks - INFO: Process  0 on time 0.011000 at stage         IT_FINE: Level: 0 -- Iteration:  5 -- Sweep:  1 -- residual: 2.90838833e-08\n",
      "hooks - INFO: Process  0 on time 0.011500 at stage         IT_FINE: Level: 0 -- Iteration:  1 -- Sweep:  1 -- residual: 3.30431947e-04\n",
      "hooks - INFO: Process  0 on time 0.011500 at stage         IT_FINE: Level: 0 -- Iteration:  2 -- Sweep:  1 -- residual: 1.99581383e-05\n",
      "hooks - INFO: Process  0 on time 0.011500 at stage         IT_FINE: Level: 0 -- Iteration:  3 -- Sweep:  1 -- residual: 1.89596282e-06\n",
      "hooks - INFO: Process  0 on time 0.011500 at stage         IT_FINE: Level: 0 -- Iteration:  4 -- Sweep:  1 -- residual: 2.19090058e-07\n",
      "hooks - INFO: Process  0 on time 0.011500 at stage         IT_FINE: Level: 0 -- Iteration:  5 -- Sweep:  1 -- residual: 2.97733456e-08\n",
      "hooks - INFO: Process  0 on time 0.012000 at stage         IT_FINE: Level: 0 -- Iteration:  1 -- Sweep:  1 -- residual: 3.41022427e-04\n"
     ]
    },
    {
     "name": "stdout",
     "output_type": "stream",
     "text": [
      "hooks - INFO: Process  0 on time 0.012000 at stage         IT_FINE: Level: 0 -- Iteration:  2 -- Sweep:  1 -- residual: 2.04714111e-05\n",
      "hooks - INFO: Process  0 on time 0.012000 at stage         IT_FINE: Level: 0 -- Iteration:  3 -- Sweep:  1 -- residual: 1.94357168e-06\n",
      "hooks - INFO: Process  0 on time 0.012000 at stage         IT_FINE: Level: 0 -- Iteration:  4 -- Sweep:  1 -- residual: 2.25092307e-07\n",
      "hooks - INFO: Process  0 on time 0.012000 at stage         IT_FINE: Level: 0 -- Iteration:  5 -- Sweep:  1 -- residual: 3.06062198e-08\n",
      "hooks - INFO: Process  0 on time 0.012500 at stage         IT_FINE: Level: 0 -- Iteration:  1 -- Sweep:  1 -- residual: 3.52200148e-04\n",
      "hooks - INFO: Process  0 on time 0.012500 at stage         IT_FINE: Level: 0 -- Iteration:  2 -- Sweep:  1 -- residual: 2.10149485e-05\n",
      "hooks - INFO: Process  0 on time 0.012500 at stage         IT_FINE: Level: 0 -- Iteration:  3 -- Sweep:  1 -- residual: 1.99659605e-06\n",
      "hooks - INFO: Process  0 on time 0.012500 at stage         IT_FINE: Level: 0 -- Iteration:  4 -- Sweep:  1 -- residual: 2.30848601e-07\n",
      "hooks - INFO: Process  0 on time 0.012500 at stage         IT_FINE: Level: 0 -- Iteration:  5 -- Sweep:  1 -- residual: 3.14427554e-08\n",
      "hooks - INFO: Process  0 on time 0.013000 at stage         IT_FINE: Level: 0 -- Iteration:  1 -- Sweep:  1 -- residual: 3.63876149e-04\n",
      "hooks - INFO: Process  0 on time 0.013000 at stage         IT_FINE: Level: 0 -- Iteration:  2 -- Sweep:  1 -- residual: 2.16110120e-05\n",
      "hooks - INFO: Process  0 on time 0.013000 at stage         IT_FINE: Level: 0 -- Iteration:  3 -- Sweep:  1 -- residual: 2.05366437e-06\n",
      "hooks - INFO: Process  0 on time 0.013000 at stage         IT_FINE: Level: 0 -- Iteration:  4 -- Sweep:  1 -- residual: 2.37435410e-07\n",
      "hooks - INFO: Process  0 on time 0.013000 at stage         IT_FINE: Level: 0 -- Iteration:  5 -- Sweep:  1 -- residual: 3.22433234e-08\n",
      "hooks - INFO: Process  0 on time 0.013500 at stage         IT_FINE: Level: 0 -- Iteration:  1 -- Sweep:  1 -- residual: 3.76569938e-04\n",
      "hooks - INFO: Process  0 on time 0.013500 at stage         IT_FINE: Level: 0 -- Iteration:  2 -- Sweep:  1 -- residual: 2.22042595e-05\n",
      "hooks - INFO: Process  0 on time 0.013500 at stage         IT_FINE: Level: 0 -- Iteration:  3 -- Sweep:  1 -- residual: 2.11060408e-06\n",
      "hooks - INFO: Process  0 on time 0.013500 at stage         IT_FINE: Level: 0 -- Iteration:  4 -- Sweep:  1 -- residual: 2.44408555e-07\n",
      "hooks - INFO: Process  0 on time 0.013500 at stage         IT_FINE: Level: 0 -- Iteration:  5 -- Sweep:  1 -- residual: 3.32341234e-08\n",
      "hooks - INFO: Process  0 on time 0.014000 at stage         IT_FINE: Level: 0 -- Iteration:  1 -- Sweep:  1 -- residual: 3.90288046e-04\n",
      "hooks - INFO: Process  0 on time 0.014000 at stage         IT_FINE: Level: 0 -- Iteration:  2 -- Sweep:  1 -- residual: 2.28634819e-05\n",
      "hooks - INFO: Process  0 on time 0.014000 at stage         IT_FINE: Level: 0 -- Iteration:  3 -- Sweep:  1 -- residual: 2.17347252e-06\n",
      "hooks - INFO: Process  0 on time 0.014000 at stage         IT_FINE: Level: 0 -- Iteration:  4 -- Sweep:  1 -- residual: 2.51049108e-07\n",
      "hooks - INFO: Process  0 on time 0.014000 at stage         IT_FINE: Level: 0 -- Iteration:  5 -- Sweep:  1 -- residual: 3.42342388e-08\n",
      "hooks - INFO: Process  0 on time 0.014500 at stage         IT_FINE: Level: 0 -- Iteration:  1 -- Sweep:  1 -- residual: 4.04667799e-04\n",
      "hooks - INFO: Process  0 on time 0.014500 at stage         IT_FINE: Level: 0 -- Iteration:  2 -- Sweep:  1 -- residual: 2.35675800e-05\n",
      "hooks - INFO: Process  0 on time 0.014500 at stage         IT_FINE: Level: 0 -- Iteration:  3 -- Sweep:  1 -- residual: 2.23911567e-06\n",
      "hooks - INFO: Process  0 on time 0.014500 at stage         IT_FINE: Level: 0 -- Iteration:  4 -- Sweep:  1 -- residual: 2.59154909e-07\n",
      "hooks - INFO: Process  0 on time 0.014500 at stage         IT_FINE: Level: 0 -- Iteration:  5 -- Sweep:  1 -- residual: 3.52483167e-08\n",
      "hooks - INFO: Process  0 on time 0.015000 at stage         IT_FINE: Level: 0 -- Iteration:  1 -- Sweep:  1 -- residual: 4.20500400e-04\n",
      "hooks - INFO: Process  0 on time 0.015000 at stage         IT_FINE: Level: 0 -- Iteration:  2 -- Sweep:  1 -- residual: 2.42745703e-05\n",
      "hooks - INFO: Process  0 on time 0.015000 at stage         IT_FINE: Level: 0 -- Iteration:  3 -- Sweep:  1 -- residual: 2.30657466e-06\n",
      "hooks - INFO: Process  0 on time 0.015000 at stage         IT_FINE: Level: 0 -- Iteration:  4 -- Sweep:  1 -- residual: 2.67450340e-07\n",
      "hooks - INFO: Process  0 on time 0.015000 at stage         IT_FINE: Level: 0 -- Iteration:  5 -- Sweep:  1 -- residual: 3.63610798e-08\n",
      "hooks - INFO: Process  0 on time 0.015500 at stage         IT_FINE: Level: 0 -- Iteration:  1 -- Sweep:  1 -- residual: 4.37362732e-04\n",
      "hooks - INFO: Process  0 on time 0.015500 at stage         IT_FINE: Level: 0 -- Iteration:  2 -- Sweep:  1 -- residual: 2.50629604e-05\n",
      "hooks - INFO: Process  0 on time 0.015500 at stage         IT_FINE: Level: 0 -- Iteration:  3 -- Sweep:  1 -- residual: 2.38401823e-06\n",
      "hooks - INFO: Process  0 on time 0.015500 at stage         IT_FINE: Level: 0 -- Iteration:  4 -- Sweep:  1 -- residual: 2.75876948e-07\n",
      "hooks - INFO: Process  0 on time 0.015500 at stage         IT_FINE: Level: 0 -- Iteration:  5 -- Sweep:  1 -- residual: 3.75377848e-08\n"
     ]
    }
   ],
   "source": [
    "uend, stats = controller.run(u0=uinit, t0=t0, Tend=Tend)"
   ]
  },
  {
   "cell_type": "markdown",
   "metadata": {
    "pycharm": {
     "name": "#%% md\n"
    }
   },
   "source": [
    "What did it do? Let's have a look at the solution ``uend`` and compare it to the initial condition ``uinit`` to see if things moved:"
   ]
  },
  {
   "cell_type": "code",
   "execution_count": 6,
   "metadata": {
    "ExecuteTime": {
     "end_time": "2023-06-08T08:10:13.175587Z",
     "start_time": "2023-06-08T08:10:12.599877Z"
    },
    "pycharm": {
     "name": "#%%\n"
    }
   },
   "outputs": [
    {
     "data": {
      "text/plain": [
       "<matplotlib.image.AxesImage at 0x124d9a410>"
      ]
     },
     "execution_count": 6,
     "metadata": {},
     "output_type": "execute_result"
    },
    {
     "data": {
      "image/png": "[encoded data removed]",
      "text/plain": [
       "<Figure size 640x480 with 2 Axes>"
      ]
     },
     "metadata": {},
     "output_type": "display_data"
    }
   ],
   "source": [
    "import matplotlib.pylab as plt\n",
    "\n",
    "plt.subplot(1, 2, 1)\n",
    "plt.title(\"u(t0)\")\n",
    "plt.imshow(uinit,extent=[-0.5,0.5,-0.5,0.5])\n",
    "\n",
    "plt.subplot(1, 2, 2)\n",
    "plt.title(\"u(Tend)\")\n",
    "plt.imshow(uend,extent=[-0.5,0.5,-0.5,0.5])"
   ]
  },
  {
   "cell_type": "markdown",
   "metadata": {
    "pycharm": {
     "name": "#%% md\n"
    }
   },
   "source": [
    "We hopefully see that the circle of the 1 phase has shrunk over time as expected.\n",
    "\n",
    "Now let's have a look at the iteration counts. For this, the ``run`` method also returned a ``stats`` object. \n",
    "This is a dictionary where the keys are objects of a custom class and the items are the values we recorded.\n",
    "We best use the built-in functions to extract what we want from this.\n",
    "\n",
    "The `get_sorted` function will return a list of tuples which carry in the first entry the value by which we sorted and in the second entry the value of the `type` we wanted."
   ]
  },
  {
   "cell_type": "code",
   "execution_count": 7,
   "metadata": {
    "ExecuteTime": {
     "end_time": "2023-06-08T08:10:15.373506Z",
     "start_time": "2023-06-08T08:10:15.360557Z"
    },
    "pycharm": {
     "name": "#%%\n"
    }
   },
   "outputs": [],
   "source": [
    "from pySDC.helpers.stats_helper import get_sorted\n",
    "\n",
    "# convert filtered statistics to list of iterations count, sorted by time\n",
    "iter_counts = get_sorted(stats, type='niter', sortby='time')"
   ]
  },
  {
   "cell_type": "code",
   "execution_count": 8,
   "metadata": {
    "ExecuteTime": {
     "end_time": "2023-06-08T08:10:17.775718Z",
     "start_time": "2023-06-08T08:10:17.770951Z"
    },
    "pycharm": {
     "name": "#%%\n"
    }
   },
   "outputs": [
    {
     "name": "stdout",
     "output_type": "stream",
     "text": [
      "Mean number of iterations: 5.03\n",
      "Range of values for number of iterations: 1\n",
      "Position of max/min number of iterations: 0 / 1\n",
      "Iteration count nonlinear solver (sum/mean per call): 749 / 1.1630434782608696\n"
     ]
    }
   ],
   "source": [
    "import numpy as np\n",
    "\n",
    "# use list comprehension to extract only the values and not when they where recorded\n",
    "niters = np.array([item[1] for item in iter_counts])\n",
    "\n",
    "print(f'Mean number of iterations: {np.mean(niters):4.2f}')\n",
    "print(f'Range of values for number of iterations: {np.ptp(niters)}')\n",
    "print(f'Position of max/min number of iterations: {int(np.argmax(niters))} / {int(np.argmin(niters))}')\n",
    "print(f'Iteration count nonlinear solver (sum/mean per call): {prob.newton_itercount} / {prob.newton_itercount / max(prob.newton_ncalls, 1)}')"
   ]
  },
  {
   "cell_type": "markdown",
   "metadata": {
    "pycharm": {
     "name": "#%% md\n"
    }
   },
   "source": [
    "We also get the time-to-solution back:"
   ]
  },
  {
   "cell_type": "code",
   "execution_count": 9,
   "metadata": {
    "ExecuteTime": {
     "end_time": "2023-06-08T08:10:22.608771Z",
     "start_time": "2023-06-08T08:10:22.554396Z"
    },
    "pycharm": {
     "name": "#%%\n"
    }
   },
   "outputs": [
    {
     "name": "stdout",
     "output_type": "stream",
     "text": [
      "Time to solution: 6.2692 sec.\n"
     ]
    }
   ],
   "source": [
    "timing = get_sorted(stats, type='timing_run')\n",
    "\n",
    "print('Time to solution: %6.4f sec.' % timing[0][1])"
   ]
  },
  {
   "cell_type": "markdown",
   "metadata": {
    "pycharm": {
     "name": "#%% md\n"
    }
   },
   "source": [
    "More user output - using hooks\n",
    "------------------------------"
   ]
  },
  {
   "cell_type": "markdown",
   "metadata": {
    "pycharm": {
     "name": "#%% md\n"
    }
   },
   "source": [
    "The default output can be controlled using the ``logger_level`` in the ``controller_params``: ``30`` shows only warnings, ``20`` gives runtime information, ``15`` gives more detailed runtime information and ``10`` is for debugging. Note that when changing any of these parameters, it is required to set up the controller again, because only then the parameters will be correctly applied everywhere. We will do that later."
   ]
  },
  {
   "cell_type": "code",
   "execution_count": 10,
   "metadata": {
    "ExecuteTime": {
     "end_time": "2023-06-08T08:10:29.932614Z",
     "start_time": "2023-06-08T08:10:29.927620Z"
    },
    "pycharm": {
     "name": "#%%\n"
    }
   },
   "outputs": [],
   "source": [
    "controller_params['logger_level'] = 30"
   ]
  },
  {
   "cell_type": "markdown",
   "metadata": {
    "pycharm": {
     "name": "#%% md\n"
    }
   },
   "source": [
    "Without further specification, ``pySDC`` gathers information on iterations, residuals, runtimes and so on. In order to get problem-specific, custom data in there, hook-classes can be added to the controller, which contain functions that are called whenever certain parts of the algorithm are started or completed. A list of possible functions can be found in ``core/Hooks.py``, which is the class all custom hook-classes should inherit from. We show here an example, where after each step the current radius of the 1 phase is calculated:"
   ]
  },
  {
   "cell_type": "code",
   "execution_count": 11,
   "metadata": {
    "ExecuteTime": {
     "end_time": "2023-06-08T08:10:33.701827Z",
     "start_time": "2023-06-08T08:10:33.690987Z"
    },
    "pycharm": {
     "name": "#%%\n"
    }
   },
   "outputs": [],
   "source": [
    "from pySDC.core.Hooks import hooks\n",
    "\n",
    "class monitor(hooks):\n",
    "\n",
    "    def post_step(self, step, level_number):\n",
    "        \"\"\"\n",
    "        Record the radius.\n",
    "        \n",
    "        Args:\n",
    "            step (pySDC.Step.step): The current step\n",
    "            level_number (int): Index of the current level\n",
    "        \"\"\"\n",
    "        super().post_step(step, level_number)\n",
    "\n",
    "        # get current level\n",
    "        lvl = step.levels[level_number]\n",
    "\n",
    "        # compute radius\n",
    "        c = np.count_nonzero(lvl.uend >= 0.0)\n",
    "        radius = np.sqrt(c / np.pi) * lvl.prob.dx\n",
    "\n",
    "        # add the radius to the stats object with a key recording the current meta data\n",
    "        self.add_to_stats(process=step.status.slot, time=lvl.time + lvl.dt, level=level_number, iter=step.status.iter,\n",
    "                          sweep=lvl.status.sweep, type='computed_radius', value=radius)"
   ]
  },
  {
   "cell_type": "markdown",
   "metadata": {
    "pycharm": {
     "name": "#%% md\n"
    }
   },
   "source": [
    "Besides some computation, the key functionality is the call to ``self.add_to_stats`` which is the function to add information to the ``stats``-object. Using ``type``, this can later be accessed as we have seen above with ``timing_run`` and ``niter``. The name ``post_step`` of the class function indicates that this will be called after each time-step is completed."
   ]
  },
  {
   "cell_type": "markdown",
   "metadata": {
    "pycharm": {
     "name": "#%% md\n"
    }
   },
   "source": [
    "This class can now be added to the controller.\n",
    "Notice that we reinstatiate the controller as mentioned above such that the new parameters take effect."
   ]
  },
  {
   "cell_type": "code",
   "execution_count": 12,
   "metadata": {
    "ExecuteTime": {
     "end_time": "2023-06-08T08:10:41.454124Z",
     "start_time": "2023-06-08T08:10:41.433872Z"
    },
    "pycharm": {
     "name": "#%%\n"
    }
   },
   "outputs": [],
   "source": [
    "controller_params['hook_class'] = monitor\n",
    "controller = controller_nonMPI(num_procs=1, controller_params=controller_params, description=description)"
   ]
  },
  {
   "cell_type": "markdown",
   "metadata": {
    "pycharm": {
     "name": "#%% md\n"
    }
   },
   "source": [
    "If you want to record many different values, you can add them all to one hook or supply a list of hook classes to the controller.\n",
    "\n",
    "We now re-run the simulation, obtain the radius after each step and plot it:"
   ]
  },
  {
   "cell_type": "code",
   "execution_count": 13,
   "metadata": {
    "ExecuteTime": {
     "end_time": "2023-06-08T08:10:54.193332Z",
     "start_time": "2023-06-08T08:10:45.342455Z"
    },
    "pycharm": {
     "name": "#%%\n"
    }
   },
   "outputs": [],
   "source": [
    "uend, stats = controller.run(u0=uinit, t0=t0, Tend=Tend)"
   ]
  },
  {
   "cell_type": "code",
   "execution_count": 14,
   "metadata": {
    "ExecuteTime": {
     "end_time": "2023-06-08T08:10:56.147123Z",
     "start_time": "2023-06-08T08:10:56.068643Z"
    },
    "pycharm": {
     "name": "#%%\n"
    }
   },
   "outputs": [
    {
     "data": {
      "text/plain": [
       "Text(0, 0.5, '$r$')"
      ]
     },
     "execution_count": 14,
     "metadata": {},
     "output_type": "execute_result"
    },
    {
     "data": {
      "image/png": "[encoded data removed]",
      "text/plain": [
       "<Figure size 640x480 with 1 Axes>"
      ]
     },
     "metadata": {},
     "output_type": "display_data"
    }
   ],
   "source": [
    "radii = get_sorted(stats, type='computed_radius', sortby='time')\n",
    "\n",
    "ax = plt.subplot()\n",
    "ax.plot([t[0] for t in radii], [t[1] for t in radii])\n",
    "ax.set_xlabel('$t$')\n",
    "ax.set_ylabel('$r$')"
   ]
  },
  {
   "cell_type": "markdown",
   "metadata": {
    "pycharm": {
     "name": "#%% md\n"
    }
   },
   "source": [
    "And now you how to run and analyze problems with pySDC!\n",
    "As a user, your default entry are perhaps problem implementations.\n",
    "To see how this works, please move on the second notebook!"
   ]
  }
 ],
 "metadata": {
  "kernelspec": {
   "display_name": "pySDC_tutorial",
   "language": "python",
   "name": "pysdc_tutorial"
  },
  "language_info": {
   "codemirror_mode": {
    "name": "ipython",
    "version": 3
   },
   "file_extension": ".py",
   "mimetype": "text/x-python",
   "name": "python",
   "nbconvert_exporter": "python",
   "pygments_lexer": "ipython3",
   "version": "3.10.12"
  }
 },
 "nbformat": 4,
 "nbformat_minor": 1
}
