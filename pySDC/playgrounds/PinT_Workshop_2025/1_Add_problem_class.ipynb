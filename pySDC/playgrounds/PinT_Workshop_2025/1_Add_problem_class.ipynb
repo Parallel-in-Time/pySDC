{
 "cells": [
  {
   "cell_type": "markdown",
   "id": "ec87b1b6-dd1a-4add-a225-c0f50e0898d4",
   "metadata": {},
   "source": [
    "# Adding a problem to pySDC\n",
    "\n",
    "In this notebook, we will implement a simple advection-diffusion equation $$u_t = f(u) = \\nu u_{xx} + cu_x$$ with periodic boundary conditions using finite differences.\n",
    "Let's have a look at the math that we need to implement in order to integrate this with SDC.\n",
    "\n",
    "The SDC iteration is $$(1-\\Delta t \\tilde{q}_{m+1,m+1} f)(u_{m+1}^{k+1}) = u_0 + \\Delta t \\sum_{j=1}^m \\tilde{q}_{m+1, j} f(u_{j}^{k+1}) -\\Delta t \\sum_{j=1}^{m+1}\\tilde{q}_{m+1,j} f(u_{j}^{k}) + \\Delta t \\sum_{j=1}^M q_{m+1, j} (f)(u_{j}^k), \\quad m = 0, \\dots, M-1,$$ where $q_{ij}$ and $\\tilde{q}_{ij}$ are the entries of the quadrature matrix and preconditioner respectively.\n",
    "The right hand side is a weighted sum of evaluations of $f$ with solutions at various collocation nodes and iterations and the left hand side is essentially an implicit Euler step with step size modified by the preconditioner.\n",
    "Therefore, the only math we need to implement in the problem class is **evaluating $f$** and **solving implicit Euler steps**.\n",
    "\n",
    "Keep in mind that you can use an explicit preconditioner, in which case you don't even need the implicit Euler solves, but explicit SDC is rarely useful.\n",
    "If implementing an implicit Euler step for your problem is too difficult, consider splitting off difficult terms and integrating them explicitly or designing a novel SDC scheme.\n",
    "The iterative nature of SDC allows a lot of freedom which is one of the key advantages of SDC."
   ]
  },
  {
   "cell_type": "markdown",
   "id": "030046d9-7d59-4240-b115-0367dc45becd",
   "metadata": {},
   "source": [
    "## Evaluating $f$\n",
    "\n",
    "In finite difference discretizations, we compute derivatives by multiplying matrices with a vector of solution values at the grid points.\n",
    "In pySDC we have some infrastructure for generating finite difference matrices, making this very easy to implement.\n",
    "\n",
    "We generate one matrix for the advection part, i.e. the first derivative, and one matrix for the diffusion part (the second derivative).\n",
    "The $f$ evaluation is then a weighted sum of the matrices multiplied by the solution vector."
   ]
  },
  {
   "cell_type": "code",
   "execution_count": 1,
   "id": "a6a52388-db37-4bf3-a721-936013c87c2a",
   "metadata": {},
   "outputs": [],
   "source": [
    "import numpy as np\n",
    "from pySDC.helpers.problem_helper import get_finite_difference_matrix, get_1d_grid\n",
    "\n",
    "# problem parameters\n",
    "nu = 1e-3\n",
    "c = 1e-1\n",
    "N = 128\n",
    "\n",
    "# setup grid\n",
    "dx, grid = get_1d_grid(size=N, bc='periodic', left_boundary=0, right_boundary=2 * np.pi)\n",
    "\n",
    "# setup finite difference matrices\n",
    "fd_params = {'order': 4, 'stencil_type': 'center', 'dx': dx, 'size': N, 'dim': 1, 'bc': 'periodic'}\n",
    "advection, _ = get_finite_difference_matrix(derivative=1, **fd_params)\n",
    "diffusion, _ = get_finite_difference_matrix(derivative=2, **fd_params)\n",
    "\n",
    "\n",
    "def eval_f(u):\n",
    "    return (c * advection + nu * diffusion) @ u"
   ]
  },
  {
   "cell_type": "markdown",
   "id": "12f8ba5f-536b-4442-b290-97d1e3156b29",
   "metadata": {},
   "source": [
    "Before moving on, we briefly verify that we did the correct thing by comparing the numerical derivatives to exact ones for a simple sine wave:"
   ]
  },
  {
   "cell_type": "code",
   "execution_count": 2,
   "id": "0175c5c7-c6a1-4294-a05b-dbce06aab22d",
   "metadata": {},
   "outputs": [],
   "source": [
    "u = np.sin(grid)\n",
    "assert np.allclose(diffusion @ u, -np.sin(grid))  # check diffusion part\n",
    "assert np.allclose(advection @ u, np.cos(grid))  # check advection part\n",
    "assert np.allclose(eval_f(u), -nu * np.sin(grid) + c * np.cos(grid))  # check f evaluation"
   ]
  },
  {
   "cell_type": "markdown",
   "id": "cd1a83c9-4c8a-478c-b03d-62d15051158c",
   "metadata": {},
   "source": [
    "## Implicit Euler step\n",
    "\n",
    "In the implicit Euler step, we solve $(1-\\Delta t f)(u) = y$, where $y$ is some arbitrary right hand side. We use a simple direct solver and the matrices we used to evaluate $f$ here:"
   ]
  },
  {
   "cell_type": "code",
   "execution_count": 3,
   "id": "6255bfe5-ea1a-4935-806d-ced08889f8fc",
   "metadata": {},
   "outputs": [],
   "source": [
    "from scipy.sparse.linalg import spsolve\n",
    "from scipy.sparse import eye\n",
    "\n",
    "\n",
    "def implicit_euler(rhs, dt):\n",
    "    A = eye(N) - dt * (c * advection + nu * diffusion)\n",
    "    return spsolve(A, rhs)"
   ]
  },
  {
   "cell_type": "markdown",
   "id": "018b2fe3-063f-47da-8a8f-54cfe6448bd1",
   "metadata": {},
   "source": [
    "Let's once again verify the implementation. This time, we will compare to exact solutions for either the diffusion or the advection equation, which we obtain by setting the $c$ or $\\nu$ parameters to 0."
   ]
  },
  {
   "cell_type": "code",
   "execution_count": 4,
   "id": "b64b8a1c-0dba-4deb-bfef-ddf694a400e0",
   "metadata": {},
   "outputs": [],
   "source": [
    "u = np.sin(grid)\n",
    "dt = 1e-2\n",
    "\n",
    "# check advection\n",
    "nu = 0\n",
    "c = 1e-1\n",
    "assert np.allclose(implicit_euler(u, dt), np.sin(grid + c * dt))\n",
    "\n",
    "# check diffusion\n",
    "nu = 1e-1\n",
    "c = 0\n",
    "assert np.allclose(implicit_euler(u, dt), np.sin(grid) * np.exp(-nu * dt))"
   ]
  },
  {
   "cell_type": "markdown",
   "id": "1a429069-cada-46e2-9a6b-c2560cfdcfd2",
   "metadata": {},
   "source": [
    "## Implementing this class in pySDC\n",
    "\n",
    "So far, we have looked at what math you need to implement in order to do SDC with your problem, now we will set up a class with the same functionality that we can then hand to pySDC to actually run SDC.\n",
    "\n",
    "Here, it is important to use the interface defined in the sweeper classes, which take care of the actual time integration.\n",
    "Also, we need to add some infrastructure for generating empty data containers, and we add some work counters for analysis later on.\n",
    "But you will find that the implementation in pySDC is not significantly more complicated or convoluted than what we did before."
   ]
  },
  {
   "cell_type": "code",
   "execution_count": 5,
   "id": "2c2c43e2-d0a9-417b-8ccb-ee14cbabdd39",
   "metadata": {},
   "outputs": [],
   "source": [
    "from pySDC.core.problem import Problem, WorkCounter\n",
    "from pySDC.implementations.datatype_classes.mesh import mesh\n",
    "import scipy.sparse as sp\n",
    "import numpy as np\n",
    "\n",
    "\n",
    "class AdvectionDiffusion(Problem):\n",
    "    dtype_u = mesh  # wraps numpy ndarray\n",
    "    dtype_f = mesh\n",
    "\n",
    "    def __init__(self, N, c, nu):\n",
    "        init = (N, None, np.dtype('float64'))  # describes how to initialize data\n",
    "        super().__init__(init=init)\n",
    "\n",
    "        # setup grid\n",
    "        dx, self.grid = get_1d_grid(size=N, bc='periodic', left_boundary=0, right_boundary=2 * np.pi)\n",
    "\n",
    "        # setup finite difference matrices\n",
    "        fd_params = {'order': 4, 'stencil_type': 'center', 'dx': dx, 'size': N, 'dim': 1, 'bc': 'periodic'}\n",
    "        advection, _ = get_finite_difference_matrix(derivative=1, **fd_params)\n",
    "        diffusion, _ = get_finite_difference_matrix(derivative=2, **fd_params)\n",
    "\n",
    "        # setup matrices used in eval_f and implicit solves\n",
    "        self.A = c * advection + nu * diffusion\n",
    "        self.Id = sp.eye(N)\n",
    "\n",
    "        # store attributes and register them as parameters\n",
    "        self._makeAttributeAndRegister('N', 'c', 'nu', localVars=locals(), readOnly=True)\n",
    "\n",
    "        # set up counters\n",
    "        self.work_counters['eval_f'] = WorkCounter()\n",
    "\n",
    "    def eval_f(self, u, t):\n",
    "        self.work_counters['eval_f']()  # increment counter\n",
    "        me = self.f_init  # get empty data container\n",
    "        me[...] = self.A @ u\n",
    "        return me\n",
    "\n",
    "    # the implicit Euler step is called solve_system here because it could be sth. else in a different SDC scheme\n",
    "    # u0 is the initial guess for the solver\n",
    "    def solve_system(self, rhs, dt, u0, t):\n",
    "        me = self.u_init\n",
    "\n",
    "        # prepare a new work counter for this factor / step size. Seems weird now, but bear with me.\n",
    "        key = f'gmres-{dt:.2e}'\n",
    "        self.work_counters[f'gmres-{dt:.2e}'] = self.work_counters.get(key, WorkCounter())\n",
    "\n",
    "        me[...], _ = sp.linalg.gmres(\n",
    "            self.Id - dt * self.A, rhs, x0=u0, callback=self.work_counters[key], rtol=1e-10, callback_type='pr_norm'\n",
    "        )\n",
    "        return me\n",
    "\n",
    "    def u0(self):\n",
    "        me = self.u_init\n",
    "        me[...] = np.sin(self.grid)\n",
    "        return me"
   ]
  },
  {
   "cell_type": "markdown",
   "id": "67758807-7f0c-4972-9dd8-e03cebc27b10",
   "metadata": {},
   "source": [
    "Let's do the same tests once more.\n",
    "Note that the pySDC `mesh` datatype has a different `abs` function than `numpy.ndarray`."
   ]
  },
  {
   "cell_type": "code",
   "execution_count": 6,
   "id": "98e6c97a-8fd1-4947-8981-d31f7b6e7a0b",
   "metadata": {},
   "outputs": [],
   "source": [
    "prob = AdvectionDiffusion(128, 1e-1, 1e-3)\n",
    "u = prob.u0()\n",
    "assert np.allclose(prob.eval_f(u, 0), -prob.nu * np.sin(prob.grid) + prob.c * np.cos(prob.grid))\n",
    "\n",
    "dt = 1e-2\n",
    "advection_prob = AdvectionDiffusion(N=128, c=1e-1, nu=0)\n",
    "u = advection_prob.u0()\n",
    "assert abs(advection_prob.solve_system(u, dt, u, 0) - np.sin(advection_prob.grid + advection_prob.c * dt)) < 1e-6\n",
    "\n",
    "diffusion_prob = AdvectionDiffusion(N=128, c=0, nu=1e-1)\n",
    "u = diffusion_prob.u0()\n",
    "assert (\n",
    "    abs(diffusion_prob.solve_system(u, dt, u, 0) - np.sin(diffusion_prob.grid) * np.exp(-diffusion_prob.nu * dt)) < 1e-6\n",
    ")"
   ]
  },
  {
   "cell_type": "markdown",
   "id": "d332961c-f6ce-40fe-92ee-bc37e651d731",
   "metadata": {},
   "source": [
    "Looks good!\n",
    "Now let's set up pySDC to integrate this problem with SDC.\n",
    "\n",
    "## Running with pySDC\n",
    "\n",
    "We will do small scale time-parallelism by choosing a diagonal preconditioner called [MIN-SR-S](https://arxiv.org/abs/2403.18641).\n",
    "Since we are running this in a notebook, we will resort to counting iterations rather than measuring run time and use serial implementations of everything.\n",
    "SDC has a vast parameter space and we need to supply loads of parameters here.\n",
    "Don't worry too much about them for now."
   ]
  },
  {
   "cell_type": "code",
   "execution_count": 7,
   "id": "a0820a19-f5d4-4295-8e35-8b22c555e369",
   "metadata": {},
   "outputs": [
    {
     "name": "stdout",
     "output_type": "stream",
     "text": [
      "controller - INFO: Welcome to the one and only, really very astonishing and 87.3% bug free\n",
      "                                 _____ _____   _____ \n",
      "                                / ____|  __ \\ / ____|\n",
      "                    _ __  _   _| (___ | |  | | |     \n",
      "                   | '_ \\| | | |\\___ \\| |  | | |     \n",
      "                   | |_) | |_| |____) | |__| | |____ \n",
      "                   | .__/ \\__, |_____/|_____/ \\_____|\n",
      "                   | |     __/ |                     \n",
      "                   |_|    |___/                      \n",
      "                                                     \n",
      "controller - INFO: Setup overview (--> user-defined, -> dependency) -- BEGIN\n",
      "controller - INFO: ----------------------------------------------------------------------------------------------------\n",
      "\n",
      "Controller: <class 'pySDC.implementations.controller_classes.controller_nonMPI.controller_nonMPI'>\n",
      "    all_to_done = False\n",
      "    dump_setup = True\n",
      "    fname = run_pid94051.log\n",
      "--> hook_class = [<class 'pySDC.implementations.hooks.default_hook.DefaultHooks'>, <class 'pySDC.implementations.hooks.log_timings.CPUTimings'>, <class 'pySDC.implementations.hooks.log_solution.LogSolution'>, <class 'pySDC.implementations.hooks.log_work.LogWork'>]\n",
      "    log_to_file = False\n",
      "--> logger_level = 15\n",
      "    mssdc_jac = True\n",
      "    predict_type = None\n",
      "    use_iteration_estimator = False\n",
      "\n",
      "Step: <class 'pySDC.core.step.Step'>\n",
      "--> maxiter = 9\n",
      "    Number of steps: None\n",
      "    Level: <class 'pySDC.core.level.Level'>\n",
      "        Level  0\n",
      "-->         dt = 0.1\n",
      "            dt_initial = 0.1\n",
      "            nsweeps = 1\n",
      "            residual_type = full_abs\n",
      "-->         restol = 1e-08\n",
      "-->         Problem: <class '__main__.AdvectionDiffusion'>\n",
      "-->             N = 128\n",
      "-->             c = 0.8\n",
      "-->             nu = 0.1\n",
      "-->             Data type u: <class 'pySDC.implementations.datatype_classes.mesh.mesh'>\n",
      "-->             Data type f: <class 'pySDC.implementations.datatype_classes.mesh.mesh'>\n",
      "-->             Sweeper: <class 'pySDC.implementations.sweeper_classes.generic_implicit.generic_implicit'>\n",
      "-->                 QI = MIN-SR-S\n",
      "                    do_coll_update = False\n",
      "                    initial_guess = spread\n",
      "-->                 num_nodes = 3\n",
      "-->                 quad_type = RADAU-RIGHT\n",
      "                    skip_residual_computation = ()\n",
      "-->                 Collocation: <class 'pySDC.core.collocation.CollBase'>\n",
      "\n",
      "Active convergence controllers:\n",
      "    |  # | order | convergence controller\n",
      "----+----+-------+---------------------------------------------------------------------------------------\n",
      "    |  0 |    95 | BasicRestartingNonMPI\n",
      " -> |  1 |   100 | SpreadStepSizesBlockwiseNonMPI\n",
      "    |  2 |   200 | CheckConvergence\n",
      "\n",
      "controller - INFO: ----------------------------------------------------------------------------------------------------\n",
      "controller - INFO: Setup overview (--> user-defined, -> dependency) -- END\n",
      "\n"
     ]
    }
   ],
   "source": [
    "from pySDC.implementations.sweeper_classes.generic_implicit import generic_implicit\n",
    "from pySDC.implementations.controller_classes.controller_nonMPI import controller_nonMPI\n",
    "from pySDC.implementations.hooks.log_solution import LogSolution\n",
    "from pySDC.implementations.hooks.log_work import LogWork\n",
    "\n",
    "# level and step parameters contain general parameters such as how many SDC iterations will be done\n",
    "level_params = {}\n",
    "level_params['dt'] = 1e-1\n",
    "level_params['restol'] = 1e-8\n",
    "\n",
    "step_params = {}\n",
    "step_params['maxiter'] = 9\n",
    "\n",
    "# the sweeper parameters describe the collocation problem and the preconditioner\n",
    "sweeper_params = {}\n",
    "sweeper_params['quad_type'] = 'RADAU-RIGHT'\n",
    "sweeper_params['num_nodes'] = 3\n",
    "sweeper_params['QI'] = 'MIN-SR-S'\n",
    "\n",
    "problem_params = {\n",
    "    'N': 128,\n",
    "    'c': 8e-1,\n",
    "    'nu': 1e-1,\n",
    "}\n",
    "\n",
    "# gather all parameters in one dictionary and add problem and sweeper class\n",
    "description = {}\n",
    "description['problem_class'] = AdvectionDiffusion\n",
    "description['problem_params'] = problem_params\n",
    "description['sweeper_class'] = generic_implicit\n",
    "description['sweeper_params'] = sweeper_params\n",
    "description['level_params'] = level_params\n",
    "description['step_params'] = step_params\n",
    "\n",
    "# more parameters for the controller\n",
    "controller_params = {}\n",
    "controller_params['logger_level'] = 15\n",
    "controller_params['hook_class'] = [LogSolution, LogWork]\n",
    "\n",
    "# setup controller\n",
    "controller = controller_nonMPI(controller_params=controller_params, description=description, num_procs=1)"
   ]
  },
  {
   "cell_type": "markdown",
   "id": "32bf2d4d-9741-42ad-890d-7c3213a171ac",
   "metadata": {},
   "source": [
    "Above, we see all the configuration that we have passed to the controller.\n",
    "`-->` indicates that we have manually set this parameter, while other parameters are left at their default value.\n",
    "\n",
    "Now that we have a pySDC controller, we set up some initial conditions and run"
   ]
  },
  {
   "cell_type": "code",
   "execution_count": 8,
   "id": "adcfe6fb-4703-42bc-9fbe-6c9460a324b0",
   "metadata": {},
   "outputs": [
    {
     "name": "stdout",
     "output_type": "stream",
     "text": [
      "hooks - INFO: Process  0 on time 0.000000 at stage         IT_FINE: Level: 0 -- Iteration:  1 -- Sweep:  1 -- residual: 1.31471144e-04\n",
      "hooks - INFO: Process  0 on time 0.000000 at stage         IT_FINE: Level: 0 -- Iteration:  2 -- Sweep:  1 -- residual: 6.32549457e-06\n",
      "hooks - INFO: Process  0 on time 0.000000 at stage         IT_FINE: Level: 0 -- Iteration:  3 -- Sweep:  1 -- residual: 1.48579940e-07\n",
      "hooks - INFO: Process  0 on time 0.000000 at stage         IT_FINE: Level: 0 -- Iteration:  4 -- Sweep:  1 -- residual: 3.29160453e-09\n",
      "hooks - INFO: Process  0 on time 0.100000 at stage         IT_FINE: Level: 0 -- Iteration:  1 -- Sweep:  1 -- residual: 1.30153942e-04\n",
      "hooks - INFO: Process  0 on time 0.100000 at stage         IT_FINE: Level: 0 -- Iteration:  2 -- Sweep:  1 -- residual: 6.26183780e-06\n",
      "hooks - INFO: Process  0 on time 0.100000 at stage         IT_FINE: Level: 0 -- Iteration:  3 -- Sweep:  1 -- residual: 1.47216986e-07\n",
      "hooks - INFO: Process  0 on time 0.100000 at stage         IT_FINE: Level: 0 -- Iteration:  4 -- Sweep:  1 -- residual: 3.81488605e-09\n",
      "hooks - INFO: Process  0 on time 0.200000 at stage         IT_FINE: Level: 0 -- Iteration:  1 -- Sweep:  1 -- residual: 1.28848786e-04\n",
      "hooks - INFO: Process  0 on time 0.200000 at stage         IT_FINE: Level: 0 -- Iteration:  2 -- Sweep:  1 -- residual: 6.20062048e-06\n",
      "hooks - INFO: Process  0 on time 0.200000 at stage         IT_FINE: Level: 0 -- Iteration:  3 -- Sweep:  1 -- residual: 1.45786837e-07\n",
      "hooks - INFO: Process  0 on time 0.200000 at stage         IT_FINE: Level: 0 -- Iteration:  4 -- Sweep:  1 -- residual: 3.83750116e-09\n",
      "hooks - INFO: Process  0 on time 0.300000 at stage         IT_FINE: Level: 0 -- Iteration:  1 -- Sweep:  1 -- residual: 1.27587502e-04\n",
      "hooks - INFO: Process  0 on time 0.300000 at stage         IT_FINE: Level: 0 -- Iteration:  2 -- Sweep:  1 -- residual: 6.13820935e-06\n",
      "hooks - INFO: Process  0 on time 0.300000 at stage         IT_FINE: Level: 0 -- Iteration:  3 -- Sweep:  1 -- residual: 1.44303910e-07\n",
      "hooks - INFO: Process  0 on time 0.300000 at stage         IT_FINE: Level: 0 -- Iteration:  4 -- Sweep:  1 -- residual: 3.70578766e-09\n",
      "hooks - INFO: Process  0 on time 0.400000 at stage         IT_FINE: Level: 0 -- Iteration:  1 -- Sweep:  1 -- residual: 1.26296458e-04\n",
      "hooks - INFO: Process  0 on time 0.400000 at stage         IT_FINE: Level: 0 -- Iteration:  2 -- Sweep:  1 -- residual: 6.07719616e-06\n",
      "hooks - INFO: Process  0 on time 0.400000 at stage         IT_FINE: Level: 0 -- Iteration:  3 -- Sweep:  1 -- residual: 1.42785892e-07\n",
      "hooks - INFO: Process  0 on time 0.400000 at stage         IT_FINE: Level: 0 -- Iteration:  4 -- Sweep:  1 -- residual: 3.43194700e-09\n",
      "hooks - INFO: Process  0 on time 0.500000 at stage         IT_FINE: Level: 0 -- Iteration:  1 -- Sweep:  1 -- residual: 1.25051223e-04\n",
      "hooks - INFO: Process  0 on time 0.500000 at stage         IT_FINE: Level: 0 -- Iteration:  2 -- Sweep:  1 -- residual: 6.01731027e-06\n",
      "hooks - INFO: Process  0 on time 0.500000 at stage         IT_FINE: Level: 0 -- Iteration:  3 -- Sweep:  1 -- residual: 1.41932824e-07\n",
      "hooks - INFO: Process  0 on time 0.500000 at stage         IT_FINE: Level: 0 -- Iteration:  4 -- Sweep:  1 -- residual: 3.30244970e-09\n",
      "hooks - INFO: Process  0 on time 0.600000 at stage         IT_FINE: Level: 0 -- Iteration:  1 -- Sweep:  1 -- residual: 1.23815080e-04\n",
      "hooks - INFO: Process  0 on time 0.600000 at stage         IT_FINE: Level: 0 -- Iteration:  2 -- Sweep:  1 -- residual: 5.95614823e-06\n",
      "hooks - INFO: Process  0 on time 0.600000 at stage         IT_FINE: Level: 0 -- Iteration:  3 -- Sweep:  1 -- residual: 1.40058028e-07\n",
      "hooks - INFO: Process  0 on time 0.600000 at stage         IT_FINE: Level: 0 -- Iteration:  4 -- Sweep:  1 -- residual: 3.36373869e-09\n",
      "hooks - INFO: Process  0 on time 0.700000 at stage         IT_FINE: Level: 0 -- Iteration:  1 -- Sweep:  1 -- residual: 1.22549979e-04\n",
      "hooks - INFO: Process  0 on time 0.700000 at stage         IT_FINE: Level: 0 -- Iteration:  2 -- Sweep:  1 -- residual: 5.89795794e-06\n",
      "hooks - INFO: Process  0 on time 0.700000 at stage         IT_FINE: Level: 0 -- Iteration:  3 -- Sweep:  1 -- residual: 1.38562885e-07\n",
      "hooks - INFO: Process  0 on time 0.700000 at stage         IT_FINE: Level: 0 -- Iteration:  4 -- Sweep:  1 -- residual: 3.25299655e-09\n",
      "hooks - INFO: Process  0 on time 0.800000 at stage         IT_FINE: Level: 0 -- Iteration:  1 -- Sweep:  1 -- residual: 1.21361853e-04\n",
      "hooks - INFO: Process  0 on time 0.800000 at stage         IT_FINE: Level: 0 -- Iteration:  2 -- Sweep:  1 -- residual: 5.83931787e-06\n",
      "hooks - INFO: Process  0 on time 0.800000 at stage         IT_FINE: Level: 0 -- Iteration:  3 -- Sweep:  1 -- residual: 1.37323737e-07\n",
      "hooks - INFO: Process  0 on time 0.800000 at stage         IT_FINE: Level: 0 -- Iteration:  4 -- Sweep:  1 -- residual: 3.30331557e-09\n",
      "hooks - INFO: Process  0 on time 0.900000 at stage         IT_FINE: Level: 0 -- Iteration:  1 -- Sweep:  1 -- residual: 1.20149976e-04\n",
      "hooks - INFO: Process  0 on time 0.900000 at stage         IT_FINE: Level: 0 -- Iteration:  2 -- Sweep:  1 -- residual: 5.78007793e-06\n",
      "hooks - INFO: Process  0 on time 0.900000 at stage         IT_FINE: Level: 0 -- Iteration:  3 -- Sweep:  1 -- residual: 1.36492229e-07\n",
      "hooks - INFO: Process  0 on time 0.900000 at stage         IT_FINE: Level: 0 -- Iteration:  4 -- Sweep:  1 -- residual: 3.15861094e-09\n",
      "hooks - INFO: Finished run after 8.51e-02s\n"
     ]
    }
   ],
   "source": [
    "# get initial conditions\n",
    "P = controller.MS[0].levels[0].prob\n",
    "uinit = P.u0()\n",
    "\n",
    "uend, stats = controller.run(u0=uinit, t0=0, Tend=1)"
   ]
  },
  {
   "cell_type": "markdown",
   "id": "72e0c958-f092-472f-9076-1a6b30c3ae0b",
   "metadata": {},
   "source": [
    "Above we see very high-level information about what has happened.\n",
    "We can monitor the decrease of the residual of the collocation problem and see that in all steps it was below our desired tolerance after 4 SDC iterations.\n",
    "\n",
    "## Analysing a pySDC run\n",
    "\n",
    "The controller returned two things: The solution at the end of the run and a dictionary containing a lot of statistics.\n",
    "Let's first inspect what sort of data we have available in `stats`."
   ]
  },
  {
   "cell_type": "code",
   "execution_count": 9,
   "id": "245b0daa-1774-4eef-9bd9-8b4fda035f0b",
   "metadata": {},
   "outputs": [
    {
     "name": "stdout",
     "output_type": "stream",
     "text": [
      "['residual_post_sweep', 'residual_post_iteration', 'niter', 'residual_post_step', '_recomputed', 'timing_setup', 'timing_comm', 'timing_sweep', 'timing_iteration', 'timing_step', 'timing_run', 'u', 'work_eval_f', 'work_gmres-1.04e-02', 'work_gmres-3.33e-02', 'work_gmres-4.81e-02', 'restart']\n"
     ]
    }
   ],
   "source": [
    "from pySDC.helpers.stats_helper import get_list_of_types\n",
    "\n",
    "print(get_list_of_types(stats))"
   ]
  },
  {
   "cell_type": "markdown",
   "id": "73a96404-7e08-4ab8-b1ed-a052a53fe991",
   "metadata": {},
   "source": [
    "Things like residuals and timings are automatically recorded, but others are recorded because we supplied certain hooks.\n",
    "In this case, we specified to log the solution and the work.\n",
    "The results are called `u`, `work_gmres-[...]`, and `work_eval_f` here.\n",
    "The latter are generated from the work counters that we set up in the problem class.\n",
    "\n",
    "Let's start by looking at how the solution has evolved.\n",
    "We use the `get_sorted` function to sort the solution values by time.\n",
    "This function returns a list in which the values are tuples of the key we sorted by and the value itself."
   ]
  },
  {
   "cell_type": "code",
   "execution_count": 10,
   "id": "2b78c149-6ed7-4d58-af0d-f0fe11479cfe",
   "metadata": {},
   "outputs": [
    {
     "data": {
      "image/png": "[encoded data removed]",
      "text/plain": [
       "<Figure size 640x480 with 1 Axes>"
      ]
     },
     "metadata": {},
     "output_type": "display_data"
    }
   ],
   "source": [
    "from pySDC.helpers.stats_helper import get_sorted\n",
    "import matplotlib.pyplot as plt\n",
    "\n",
    "u = get_sorted(stats, type='u', sortby='time')\n",
    "for i, ls in zip([0, 3, 6, 9], ['-', '--', '-.', ':']):\n",
    "    plt.plot(P.grid, u[i][1], label=f't={u[i][0]:.1f}', ls=ls)\n",
    "plt.legend(frameon=False)\n",
    "plt.xlabel('$x$')\n",
    "plt.ylabel('$u$')\n",
    "plt.show()"
   ]
  },
  {
   "cell_type": "markdown",
   "id": "a82806ce-5882-42a6-836e-f2bc05e2dce0",
   "metadata": {},
   "source": [
    "As time progresses, the solution moves to the left and decays, just like we expected.\n",
    "\n",
    "So, let's look at something more interesting: What is the speedup that we got from the diagonal preconditioner?\n",
    "Diagonal preconditioners allow to distribute the implicit Euler steps and right hand side evaluations, which make up the bulk of computational cost, among as many tasks as we have nodes, which is 3 in our case.\n",
    "So, neglecting communication cost, we get a speedup of 3, right?\n",
    "Well, no.\n",
    "We use an iterative solver for the linear systems in `solve_system`, which may need a different number of iterations depending on the step size for the implicit Euler step.\n",
    "Eariler, we strangely set up individual counters for each step size, but now we can use this to estimate speedup."
   ]
  },
  {
   "cell_type": "code",
   "execution_count": 11,
   "id": "496e43ea-7421-4835-8ff1-d13883c9b9a9",
   "metadata": {},
   "outputs": [
    {
     "name": "stdout",
     "output_type": "stream",
     "text": [
      "Performed 45% of GMRES iterations on task 2. This translates to speedup of 2.25 and 75% parallel efficiency in the implicit solves.\n"
     ]
    },
    {
     "data": {
      "image/png": "[encoded data removed]",
      "text/plain": [
       "<Figure size 640x480 with 1 Axes>"
      ]
     },
     "metadata": {},
     "output_type": "display_data"
    }
   ],
   "source": [
    "# get values on the diagonal of the preconditioner\n",
    "sweeper = controller.MS[0].levels[0].sweep\n",
    "diag_vals = [sweeper.QI[i + 1, i + 1] for i in range(sweeper.coll.num_nodes)]\n",
    "\n",
    "# get the keys for gmres iterations at various step sizes from this\n",
    "work_keys = [f'work_gmres-{sweeper.level.dt * me:.2e}' for me in diag_vals]\n",
    "\n",
    "# compute the total number of gmres iterations per task\n",
    "gmres_iter_per_task = [sum(me[1] for me in get_sorted(stats, type=key)) for key in work_keys]\n",
    "total_gmres_iterations = sum(gmres_iter_per_task)\n",
    "\n",
    "# compute speedup in implicit solves\n",
    "max_rel_gmres_per_task = max(gmres_iter_per_task) / total_gmres_iterations\n",
    "speedup = 1 / max_rel_gmres_per_task\n",
    "parallel_efficiency = speedup / sweeper.coll.num_nodes\n",
    "\n",
    "# visualize and print the results\n",
    "import matplotlib.pyplot as plt\n",
    "\n",
    "plt.bar(np.arange(sweeper.coll.num_nodes), gmres_iter_per_task)\n",
    "plt.ylabel('GMRES iterations')\n",
    "plt.xlabel('Collocation node / task')\n",
    "\n",
    "print(\n",
    "    f'Performed {max_rel_gmres_per_task*100:.0f}% of GMRES iterations on task {np.argmax(gmres_iter_per_task)}. This translates to speedup of {speedup:.2f} and {parallel_efficiency*100:.0f}% parallel efficiency in the implicit solves.'\n",
    ")"
   ]
  },
  {
   "cell_type": "markdown",
   "id": "9ad06cef-6c26-40ed-9676-3d3f6197efa3",
   "metadata": {},
   "source": [
    "We see that we have some load balancing issues here that prevent perfect scaling even without considering communication.\n",
    "The $f$ evaluations, on the other hand, cost the same regardless of the node and don't suffer from load balancing issues.\n",
    "What is then the expected speedup?\n",
    "At this point, we should switch to the MPI sweeper and measure run time, which is a much more solid measure of speedup, but we are not going to do this in this notebook.\n",
    "However, counting things is still crucial to understanding what's going on and to developments.\n",
    "For instance, we could now add some inexactness and restrict the number of GMRES iterations per SDC iteration to some low value.\n",
    "Then maybe we need more SDC iterations, but don't have load balancing issues.\n",
    "Is it a good idea for this problem?\n",
    "Who knows.\n",
    "Finding out such things is precisely what pySDC is made for.\n",
    "You can run it in a notebook and on your laptop, but you can also run it on HPC machines.\n",
    "\n",
    "Hopefully, at this point, you are convinced that it is somewhat easy to implement problems into pySDC and to do some analysis on the data.\n",
    "Of course, this problem was easy to implement because of its simple nature and other problems can get arbitrarily difficult to implement.\n",
    "But, if you have the problem implemented somewhere, it should be reasonable to transfer.\n",
    "In particular, libraries like [Firedrake](https://github.com/firedrakeproject/firedrake), [Fenics](https://fenicsproject.org), and [Dedalus](https://dedalus-project.org) make it easy to set up complex problems with finite element or spectral discretizations.\n",
    "Next we will look at how to use pySDC together with Firedrake and even how to use pySDC as a time stepper within the geophysical fluid dynamics code [Gusto](https://www.firedrakeproject.org/gusto/)."
   ]
  }
 ],
 "metadata": {
  "kernelspec": {
   "display_name": "pySDC_tutorial",
   "language": "python",
   "name": "pysdc_tutorial"
  },
  "language_info": {
   "codemirror_mode": {
    "name": "ipython",
    "version": 3
   },
   "file_extension": ".py",
   "mimetype": "text/x-python",
   "name": "python",
   "nbconvert_exporter": "python",
   "pygments_lexer": "ipython3",
   "version": "3.13.5"
  }
 },
 "nbformat": 4,
 "nbformat_minor": 5
}
