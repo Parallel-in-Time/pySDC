{
 "cells": [
  {
   "cell_type": "markdown",
   "id": "83a73b39-a2a8-43d3-826b-15262963ce10",
   "metadata": {},
   "source": [
    "# Using pySDC as a time stepper within a simulation code\n",
    "pySDC was designed to be used as a time stepper within a simulation code, but nothing is stopping us from doing so.\n",
    "This has been done with the geophical fluid dynamics library [Gusto](https://www.firedrakeproject.org/gusto/) and we will outline the steps that we needed to get this to work.\n",
    "\n",
    "\n",
    "## What is Gusto and how do I install it?\n",
    "Gusto builds on [Firedrake](https://www.firedrakeproject.org) and builds dynamical cores as used in numerical weather prediction and climate modeling using compatible finite elements.\n",
    "Gusto gives you quick access to elaborate models and test cases to play around with.\n",
    "So let's do some test cases with pySDC!\n",
    "\n",
    "For installing Gusto, see their [documentation](https://www.firedrakeproject.org/gusto/about_gusto.html#getting-started), which will forward you to the Firedrake installation instructions and once you have that, Gusto is very easy to add.\n",
    "\n",
    "## Basic steps for using pySDC within other codes\n",
    "To run pySDC, you instantiate a controller.\n",
    "Once you have that, you can give it a starting solution and a time to integrate to and it will return the solution at the end.\n",
    "So, you need to implement the following:\n",
    " - Datatype with pySDC interface that connects to simulation code\n",
    " - Extract function for evaluating the right hand side given any solution from the simulation code\n",
    " - Extract function for Euler step given any right hand side and step size from the simulation code\n",
    " - Add interface in the simulation code for passing starting solution to pySDC and retrieving solution at the end of the step\n",
    "\n",
    "Gusto uses Firedrake for spatial discretization, so we can just use the coupling that we developed in step 2 of this tutorial for the shared dataype.\n",
    "This tutorial will be about "
   ]
  }
 ],
 "metadata": {
  "kernelspec": {
   "display_name": "pySDC_firedrake",
   "language": "python",
   "name": "pysdc_firedrake"
  },
  "language_info": {
   "codemirror_mode": {
    "name": "ipython",
    "version": 3
   },
   "file_extension": ".py",
   "mimetype": "text/x-python",
   "name": "python",
   "nbconvert_exporter": "python",
   "pygments_lexer": "ipython3",
   "version": "3.13.5"
  }
 },
 "nbformat": 4,
 "nbformat_minor": 5
}
