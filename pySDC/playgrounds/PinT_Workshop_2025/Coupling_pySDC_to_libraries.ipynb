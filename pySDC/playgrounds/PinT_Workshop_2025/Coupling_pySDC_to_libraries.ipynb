{
 "cells": [
  {
   "cell_type": "markdown",
   "id": "f4eecf63-f897-4d06-9f18-0105c0103052",
   "metadata": {},
   "source": [
    "# Coupling pySDC to libraries for spatial discretization\n",
    "pySDC is a library for time integration.\n",
    "But we need something to integrate in time...\n",
    "We can make life hard and code up some problem discretization from scratch yet again, or we use our time more efficiently by building on other peoples work.\n",
    "This tutorial will show how to do the latter by coupling pySDC to Firedrake.\n",
    "Coupling other libraries requires the same steps taken here.\n",
    "If you are working with compiled code, keep in mind that Python is designed to work with compiled code and you can interface with well established frameworks such as [pybind11](https://github.com/pybind/pybind11) or [F2PY](https://numpy.org/doc/stable/f2py/index.html).\n",
    "\n",
    "## What is Firedrake?\n",
    "[Firedrake](https://www.firedrakeproject.org) is an elaborate framework for discretizing PDEs using the finite element method (FEM), sharing many characteristics with FEniCS.\n",
    "In very basic terms, Firedrake allows you to write code very close to mathematical equations, which describes a PDE in weak form.\n",
    "Then you hand this description to a solver in Firedrake and wait for the result - no headaches necessary!\n",
    "This is an immensely powerful tool for setting up complicated problems on complicated meshes while relying on a lot of existing automation rather than coding everything yourself.\n",
    "For a few basic examples and explanations see again the [Firedrake documentation](https://www.firedrakeproject.org/documentation.html).\n",
    "\n",
    "\n",
    "## Installing Firedrake\n",
    "Installing Firedrake can be non-trivial, but it keeps improving.\n",
    "Please consult the respective [documentation](https://www.firedrakeproject.org/install.html#id9).\n",
    "If you get stuck, open a discussion on the [GitHub page](https://github.com/firedrakeproject/firedrake/discussions), where the Firedrake developers are responsive and helpful.\n",
    "\n",
    "To run this notebook, you need make a kernel with your Firedrake installation.\n",
    "Activate a virtual environment with Firedrake installed, then install pySDC and jupyter stuff with\n",
    "```\n",
    "pip install -e <path-to-pySDC>\n",
    "pip install ipykernel\n",
    "pip install jupyter\n",
    "```\n",
    "\n",
    "Afterwards, generate the kernel and start the notebook:\n",
    "```\n",
    "python -m ipykernel install --user --name=pySDC_Firedrake\n",
    "python -m jupyter lab\n",
    "```\n",
    "\n",
    "## Coupling pySDC to Firedrake\n",
    "pySDC is already coupled to Firedrake, so don't worry.\n",
    "However, we will briefly go through the existing coupling here to illustrate how to couple pySDC to any library.\n",
    "pySDC is generally written to be agnostic to the datatype, but coupling requires coding up a new datatype which respects only a few properties, has a rule for generating empty data containers, and which can take care of communication.\n",
    "\n",
    "With `u`, `v` data as used in the library you want to couple to and `a` a float, the following must hold:\n",
    " - `abs(u)` must return a float with the norm across the entire spatial domain\n",
    " - `a*u + v - v*u` must to be implemented and the result must be of the same type as `u`.\n",
    "  \n",
    "For communication, the following functions familiar from MPI need to implemented in the datatypes:\n",
    " - `bcast`: Broadcast data\n",
    " - `Isend`: Non-blocking send of the data\n",
    " - `Irecv`: Non-blocking receive of the data\n",
    "\n",
    "Communication is only needed if you intend to actually run pySDC in parallel with a diagonal sweeper or PFASST.\n",
    "You can always not implement any communication and run the parallel algorithms in serial.\n",
    "\n",
    "So, coupling pySDC to a library typically means writing a wrapper for the data or subclassing the datatype and adding only the above mentioned functionality.\n",
    "\n",
    "In the case of Firedrake, we write a wrapper for `Firedrake.Function` which we call `firedrake_mesh` here.\n",
    "We start with the `__init__` function, which is called during object instantiation.\n",
    "In the problem classes, we will define a function that we can use to instantiate a respective `firedrake_mesh`.\n",
    "Here, we will make use of `__mro__`, which returns the [method resolution order](https://docs.python.org/3/howto/mro.html) of the object we call this on, which tells us the tree of inheritance of the object.\n",
    "The inheritance relationship we are looking for here depends on some intricacies of Firedrake that you needn't worry about now."
   ]
  },
  {
   "cell_type": "code",
   "execution_count": 1,
   "id": "14891203-77f9-4696-8247-6a03646a7e79",
   "metadata": {},
   "outputs": [],
   "source": [
    "import jdc  # required to split the class definition into multiple cells...\n",
    "\n",
    "import firedrake as fd\n",
    "\n",
    "from pySDC.core.errors import DataError\n",
    "from pySDC.helpers.firedrake_ensemble_communicator import FiredrakeEnsembleCommunicator\n",
    "\n",
    "\n",
    "class firedrake_mesh(object):\n",
    "    \"\"\"\n",
    "    Wrapper for firedrake function data.\n",
    "\n",
    "    Attributes:\n",
    "        functionspace (firedrake.Function): firedrake data\n",
    "    \"\"\"\n",
    "\n",
    "    def __init__(self, init, val=0.0):\n",
    "        if fd.functionspaceimpl.WithGeometry in type(init).__mro__:\n",
    "            self.functionspace = fd.Function(init)\n",
    "            self.functionspace.assign(val)\n",
    "        elif fd.Function in type(init).__mro__:\n",
    "            self.functionspace = fd.Function(init)\n",
    "        elif type(init) == firedrake_mesh:\n",
    "            self.functionspace = init.functionspace.copy(deepcopy=True)\n",
    "        else:\n",
    "            raise DataError('something went wrong during %s initialization' % type(init))\n",
    "   "
   ]
  },
  {
   "cell_type": "markdown",
   "id": "ca9e4115-b5b1-45fd-9e15-2a39847ad5e9",
   "metadata": {},
   "source": [
    "Next, we make this a wrapper for `firedrake.Function` via the `__getattr__` method.\n",
    "If you call `a.key` on an object `a` and `a` does not have an attribute or function `key`, this `a.__getattr__(key)` will be called, which makes it easy to pass on requests."
   ]
  },
  {
   "cell_type": "code",
   "execution_count": 2,
   "id": "6f80840c-deb0-4697-a88e-892d64703b77",
   "metadata": {},
   "outputs": [],
   "source": [
    "%%add_to firedrake_mesh\n",
    "\n",
    "def __getattr__(self, key):\n",
    "    return getattr(self.functionspace, key)"
   ]
  },
  {
   "cell_type": "markdown",
   "id": "8b953a63-a1ec-4f9a-95c4-1a780bb10d0e",
   "metadata": {},
   "source": [
    "Next up, we define addition, subtraction and right muplication for the new datatype:"
   ]
  },
  {
   "cell_type": "code",
   "execution_count": 3,
   "id": "34504b69-f62a-4a2f-8503-360a1b43e28f",
   "metadata": {},
   "outputs": [],
   "source": [
    "%%add_to firedrake_mesh\n",
    "\n",
    "def __add__(self, other):\n",
    "    if isinstance(other, type(self)):\n",
    "        me = firedrake_mesh(other)\n",
    "        me.functionspace.assign(self.functionspace + other.functionspace)\n",
    "        return me\n",
    "    else:\n",
    "        raise DataError(\"Type error: cannot add %s to %s\" % (type(other), type(self)))\n",
    "\n",
    "def __sub__(self, other):\n",
    "    if isinstance(other, type(self)):\n",
    "        me = firedrake_mesh(other)\n",
    "        me.functionspace.assign(self.functionspace - other.functionspace)\n",
    "        return me\n",
    "    else:\n",
    "        raise DataError(\"Type error: cannot add %s to %s\" % (type(other), type(self)))\n",
    "\n",
    "def __rmul__(self, other):\n",
    "    \"\"\"\n",
    "    Overloading the right multiply by scalar factor\n",
    "\n",
    "    Args:\n",
    "        other (float): factor\n",
    "    Raises:\n",
    "        DataError: if other is not a float\n",
    "    Returns:\n",
    "        fenics_mesh: copy of original values scaled by factor\n",
    "    \"\"\"\n",
    "\n",
    "    try:\n",
    "        me = firedrake_mesh(self)\n",
    "        me.functionspace.assign(other * self.functionspace)\n",
    "        return me\n",
    "    except TypeError as e:\n",
    "        raise DataError(\"Type error: cannot multiply %s to %s\" % (type(other), type(self))) from e"
   ]
  },
  {
   "cell_type": "markdown",
   "id": "11b7fe3d-c75a-40bd-8cac-f205214f4f06",
   "metadata": {},
   "source": [
    "Now, we take care of the norm, which is as simple as calling the Firedrake function that we want:"
   ]
  },
  {
   "cell_type": "code",
   "execution_count": 4,
   "id": "5300c596-e468-4261-b2ae-59170d88d2b5",
   "metadata": {},
   "outputs": [],
   "source": [
    "%%add_to firedrake_mesh\n",
    "\n",
    "def __abs__(self):\n",
    "    \"\"\"\n",
    "    Overloading the abs operator for mesh types\n",
    "\n",
    "    Returns:\n",
    "        float: L2 norm\n",
    "    \"\"\"\n",
    "\n",
    "    return fd.norm(self.functionspace, 'L2')"
   ]
  },
  {
   "cell_type": "markdown",
   "id": "0b721cbc-5fa0-4ff8-abe1-ed69dc126956",
   "metadata": {},
   "source": [
    "Finally: Communication.\n",
    "Firedrake has \"ensemble communicators\", which were built by Josh for space-time parallelism.\n",
    "In pySDC, we have written a wrapper for that that makes a few things easier, but essentially, communication is again handled with Firedrake functions."
   ]
  },
  {
   "cell_type": "code",
   "execution_count": 5,
   "id": "83e92525-5443-4eda-844e-b350f5d7b3b6",
   "metadata": {},
   "outputs": [],
   "source": [
    "%%add_to firedrake_mesh\n",
    "\n",
    "def isend(self, dest=None, tag=None, comm=None):\n",
    "    \"\"\"\n",
    "    Routine for sending data forward in time (non-blocking)\n",
    "\n",
    "    Args:\n",
    "        dest (int): target rank\n",
    "        tag (int): communication tag\n",
    "        comm: communicator\n",
    "\n",
    "    Returns:\n",
    "        request handle\n",
    "    \"\"\"\n",
    "    assert (\n",
    "        type(comm) == FiredrakeEnsembleCommunicator\n",
    "    ), f'Need to give a FiredrakeEnsembleCommunicator here, not {type(comm)}'\n",
    "    return comm.Isend(self.functionspace, dest=dest, tag=tag)\n",
    "\n",
    "def irecv(self, source=None, tag=None, comm=None):\n",
    "    \"\"\"\n",
    "    Routine for receiving in time\n",
    "\n",
    "    Args:\n",
    "        source (int): source rank\n",
    "        tag (int): communication tag\n",
    "        comm: communicator\n",
    "\n",
    "    Returns:\n",
    "        None\n",
    "    \"\"\"\n",
    "    assert (\n",
    "        type(comm) == FiredrakeEnsembleCommunicator\n",
    "    ), f'Need to give a FiredrakeEnsembleCommunicator here, not {type(comm)}'\n",
    "    return comm.Irecv(self.functionspace, source=source, tag=tag)\n",
    "\n",
    "def bcast(self, root=None, comm=None):\n",
    "    \"\"\"\n",
    "    Routine for broadcasting values\n",
    "\n",
    "    Args:\n",
    "        root (int): process with value to broadcast\n",
    "        comm: communicator\n",
    "\n",
    "    Returns:\n",
    "        broadcasted values\n",
    "    \"\"\"\n",
    "    assert (\n",
    "        type(comm) == FiredrakeEnsembleCommunicator\n",
    "    ), f'Need to give a FiredrakeEnsembleCommunicator here, not {type(comm)}'\n",
    "    comm.Bcast(self.functionspace, root=root)\n",
    "    return self"
   ]
  },
  {
   "cell_type": "markdown",
   "id": "6b1c45ac-11f6-4743-a95d-c491351f70a4",
   "metadata": {},
   "source": [
    "As you can see, we didn't do a whole lot.\n",
    "Adding a coupling is just about bridging the gap between the pySDC interface and the library interface, not about implementing any new functionality.\n",
    "You will need intimate knowledge of the library you are coupling to, you may need to do some workarounds that are not optimal performance wise, but it is no Hexenwerk (rocket science in German).\n",
    "You definitely needn't know a lot about pySDC."
   ]
  },
  {
   "cell_type": "markdown",
   "id": "a12cdbb5-e5c7-4584-8b57-2320d56845c6",
   "metadata": {},
   "source": [
    "## Using Firedrake to discretize the heat equation in pySDC\n",
    "\n",
    "We will now implement a simple 1d heat equation $u_t=\\nu\\Delta u$.\n",
    "First, we start writing a class and set the new Firedrake datatype via the class attributes `dtype_u` and `dtype_f`.\n",
    "We set up some infrastructure such as a dictionary for storing Firedrake solvers, which are expensive to assemble and cheaper to reuse, input and output buffers for the solvers, and the mesh and function space."
   ]
  },
  {
   "cell_type": "code",
   "execution_count": 6,
   "id": "f1c869f1-a95e-4134-9afa-6e5954f57675",
   "metadata": {},
   "outputs": [],
   "source": [
    "from pySDC.core.problem import Problem, WorkCounter\n",
    "import numpy as np\n",
    "\n",
    "class HeatEquation(Problem):\n",
    "    dtype_u = firedrake_mesh\n",
    "    dtype_f = firedrake_mesh\n",
    "    \n",
    "    def __init__(self, n, nu, order, comm):\n",
    "        # prepare Firedrake mesh and function space\n",
    "        self.mesh = fd.UnitIntervalMesh(n, comm=comm)\n",
    "        self.V = fd.FunctionSpace(self.mesh, \"CG\", order)\n",
    "\n",
    "        # prepare pySDC problem class infrastructure by passing the function space to super init\n",
    "        super().__init__(self.V)\n",
    "        self._makeAttributeAndRegister(\n",
    "            'n', 'nu', 'order', 'comm', localVars=locals(), readOnly=True\n",
    "        )\n",
    " \n",
    "        # prepare caches and IO variables for solvers\n",
    "        self.solvers = {}\n",
    "        self.tmp_in = fd.Function(self.V)\n",
    "        self.tmp_out = fd.Function(self.V)\n",
    "        \n",
    "        self.work_counters['solver_setup'] = WorkCounter()\n",
    "        self.work_counters['solves'] = WorkCounter()\n",
    "        self.work_counters['rhs'] = WorkCounter()"
   ]
  },
  {
   "cell_type": "markdown",
   "id": "e28a159c-68e3-4409-a205-7c7a1b0de2a7",
   "metadata": {
    "jp-MarkdownHeadingCollapsed": true
   },
   "source": [
    "Next up, we define a function for evaluating the right hand side.\n",
    "In FEM, we are solving for weak solutions and solve a linear variational problem for evaluating the Laplacian.\n",
    "We start with $f(u) = \\nu\\Delta u$ and multiply by trial functions $v$ to obtain $f(u)v = \\nu(\\Delta u) v$.\n",
    "Then we integrate by parts and obtain $\\int_V f(u)v dx = \\int_V \\nu (\\Delta u) v dx=-\\int_V \\nabla u \\nabla v dx$, due to vanishing surface integral terms.\n",
    "This we put on the right hand side of the linear variational problem and the left hand side is just the mass matrix.\n",
    "\n",
    "In the following implementation, we assemble a Firedrake solver once and then just reuse it in future calls to `eval_f`.\n",
    "Note that the implementation is very similar to the equations.\n",
    "$\\nabla$ is `firedrake.nabla_grad` and $\\int_V [\\dots]dx$ is `firedrake.dx`, for instance."
   ]
  },
  {
   "cell_type": "code",
   "execution_count": 7,
   "id": "3b482054-c7bc-4e64-853c-f9ae8a2d6225",
   "metadata": {},
   "outputs": [],
   "source": [
    "%%add_to HeatEquation\n",
    "\n",
    "def eval_f(self, u, t):\n",
    "    # construct and cache a solver for evaluating the Laplacian\n",
    "    if not hasattr(self, '__solv_eval_f'):\n",
    "        v = fd.TestFunction(self.V)\n",
    "        u_trial = fd.TrialFunction(self.V)\n",
    "\n",
    "        a = u_trial * v * fd.dx\n",
    "        L = -fd.inner(self.nu * fd.nabla_grad(self.tmp_in), fd.nabla_grad(v)) * fd.dx\n",
    "\n",
    "        bcs = [fd.bcs.DirichletBC(self.V, fd.Constant(0), area) for area in [1, 2]]\n",
    "\n",
    "        prob = fd.LinearVariationalProblem(a, L, self.tmp_out, bcs=bcs)\n",
    "        self.__solv_eval_f = fd.LinearVariationalSolver(prob)\n",
    "\n",
    "    # copy the solution we want to evaluate at into the input buffer\n",
    "    self.tmp_in.assign(u.functionspace)\n",
    "\n",
    "    # perform the solve using the cached solver\n",
    "    self.__solv_eval_f.solve()\n",
    "\n",
    "    # instantiate an empty data container\n",
    "    me = self.dtype_f(self.init)\n",
    "\n",
    "    # copy the result of the solver from the output buffer to the variable this function returns\n",
    "    me.assign(self.tmp_out)\n",
    "\n",
    "    self.work_counters['rhs']()\n",
    "\n",
    "    return me"
   ]
  },
  {
   "cell_type": "markdown",
   "id": "e3ceb832-c703-4cbd-b330-277bf4288d16",
   "metadata": {},
   "source": [
    "Next, we implement the implicit Euler step, which proceeds very similar to evaluating the right hand side, but with a different variational problem.\n",
    "Now, multiplying by the test functions $v$ and integrating by parts gives $\\int_V uv + \\Delta t \\nu \\nabla u \\nabla v dx$ for the left hand side.\n",
    "On the right hand side, we put $\\int_V yv$\n",
    "Again, we cache the solvers.\n",
    "This time, we store a new one for each `dt`."
   ]
  },
  {
   "cell_type": "code",
   "execution_count": 8,
   "id": "c1260aae-1972-4ffc-be30-c4079ec507f2",
   "metadata": {},
   "outputs": [],
   "source": [
    "%%add_to HeatEquation\n",
    "\n",
    "def solve_system(self, rhs, dt, *args, **kwargs):\n",
    "    r\"\"\"\n",
    "    Solver for :math:`(M - dt * nu * Lap) u = rhs`.\n",
    "    \"\"\"\n",
    "\n",
    "    # construct and cache a solver for the current dt (preconditioner entry times step size)\n",
    "    if dt not in self.solvers.keys():\n",
    "\n",
    "        u = fd.TrialFunction(self.V)\n",
    "        v = fd.TestFunction(self.V)\n",
    "\n",
    "        a = u * v * fd.dx + fd.Constant(dt) * fd.inner(self.nu * fd.nabla_grad(u), fd.nabla_grad(v)) * fd.dx\n",
    "        L = fd.inner(self.tmp_in, v) * fd.dx\n",
    "\n",
    "        bcs = [fd.bcs.DirichletBC(self.V, fd.Constant(0), area) for area in [1, 2]]\n",
    "\n",
    "        prob = fd.LinearVariationalProblem(a, L, self.tmp_out, bcs=bcs)\n",
    "        self.solvers[dt] = fd.LinearVariationalSolver(prob)\n",
    "\n",
    "        self.work_counters['solver_setup']()\n",
    "\n",
    "    # copy solver rhs to the input buffer. Copying also to the output buffer uses it as initial guess\n",
    "    self.tmp_in.assign(rhs.functionspace)\n",
    "    self.tmp_out.assign(rhs.functionspace)\n",
    "\n",
    "    # call the cached solver\n",
    "    self.solvers[dt].solve()\n",
    "\n",
    "    # copy from output buffer to return variable\n",
    "    me = self.dtype_u(self.init)\n",
    "    me.assign(self.tmp_out)\n",
    "\n",
    "    self.work_counters['solves']()\n",
    "    return me"
   ]
  },
  {
   "cell_type": "markdown",
   "id": "1ab69bfd-f462-4fc1-8be5-9d096ce56866",
   "metadata": {},
   "source": [
    "Finally, we add a function for getting the grid and for getting the exact solution"
   ]
  },
  {
   "cell_type": "code",
   "execution_count": 9,
   "id": "2848d099-8805-4211-a9ba-ee02a61c3243",
   "metadata": {},
   "outputs": [],
   "source": [
    "%%add_to HeatEquation\n",
    "\n",
    "def x(self):\n",
    "    return fd.SpatialCoordinate(self.mesh)\n",
    "\n",
    "def u_exact(self, t):\n",
    "    me = self.u_init\n",
    "    me.interpolate(np.exp(-self.nu* np.pi**2*t) * fd.sin(np.pi * self.x()[0]))\n",
    "    return me"
   ]
  },
  {
   "cell_type": "markdown",
   "id": "444274ef-2c2e-4b08-8ec8-c5d662fe2c9c",
   "metadata": {},
   "source": [
    "Time to test the implementation!\n",
    "First, we compare the right hand side evaluation with the exact solution and then the implicit Euler step."
   ]
  },
  {
   "cell_type": "code",
   "execution_count": 10,
   "id": "192b20b5-eaa7-43de-b376-1d87a3755b1c",
   "metadata": {},
   "outputs": [],
   "source": [
    "from mpi4py import MPI\n",
    "prob = HeatEquation(n=128, nu=1e-2, order=4, comm=MPI.COMM_WORLD)\n",
    "\n",
    "u0 = prob.u_exact(0)\n",
    "\n",
    "f_expect = -prob.nu * np.pi**2 * u0\n",
    "f = prob.eval_f(u0, 0)\n",
    "assert abs(f-f_expect) < 1e-8\n",
    "\n",
    "dt = 1e-2\n",
    "assert abs(prob.solve_system(u0, dt) - prob.u_exact(dt)) < 1e-6"
   ]
  },
  {
   "cell_type": "markdown",
   "id": "ce613a2e-5206-4f81-9b05-b0eef3f32ba5",
   "metadata": {},
   "source": [
    "## Running pySDC with Firedrake problem classes\n",
    "\n",
    "Once we set up the problem class, using it in pySDC is very easy.\n",
    "We now set up a bunch of parameters and run a short simulation:"
   ]
  },
  {
   "cell_type": "code",
   "execution_count": 11,
   "id": "90ed2503-1ae7-49cc-8284-367303befc69",
   "metadata": {},
   "outputs": [
    {
     "name": "stdout",
     "output_type": "stream",
     "text": [
      "controller - INFO: Welcome to the one and only, really very astonishing and 87.3% bug free\n",
      "                                 _____ _____   _____ \n",
      "                                / ____|  __ \\ / ____|\n",
      "                    _ __  _   _| (___ | |  | | |     \n",
      "                   | '_ \\| | | |\\___ \\| |  | | |     \n",
      "                   | |_) | |_| |____) | |__| | |____ \n",
      "                   | .__/ \\__, |_____/|_____/ \\_____|\n",
      "                   | |     __/ |                     \n",
      "                   |_|    |___/                      \n",
      "                                                     \n",
      "controller - INFO: Setup overview (--> user-defined, -> dependency) -- BEGIN\n",
      "controller - INFO: ----------------------------------------------------------------------------------------------------\n",
      "\n",
      "Controller: <class 'pySDC.implementations.controller_classes.controller_nonMPI.controller_nonMPI'>\n",
      "    all_to_done = False\n",
      "    dump_setup = True\n",
      "    fname = run_pid28168.log\n",
      "--> hook_class = [<class 'pySDC.implementations.hooks.default_hook.DefaultHooks'>, <class 'pySDC.implementations.hooks.log_timings.CPUTimings'>, <class 'pySDC.implementations.hooks.log_errors.LogGlobalErrorPostIter'>]\n",
      "    log_to_file = False\n",
      "--> logger_level = 15\n",
      "    mssdc_jac = True\n",
      "    predict_type = None\n",
      "    use_iteration_estimator = False\n",
      "\n",
      "Step: <class 'pySDC.core.step.Step'>\n",
      "--> maxiter = 9\n",
      "    Number of steps: None\n",
      "    Level: <class 'pySDC.core.level.Level'>\n",
      "        Level  0\n",
      "-->         dt = 1\n",
      "            dt_initial = 1.0\n",
      "            nsweeps = 1\n",
      "            residual_type = full_abs\n",
      "-->         restol = 1e-07\n",
      "-->         Problem: <class '__main__.HeatEquation'>\n",
      "-->             comm = <mpi4py.MPI.Intracomm object at 0x1088bea00>\n",
      "-->             n = 128\n",
      "-->             nu = 0.1\n",
      "-->             order = 4\n",
      "-->             Data type u: <class '__main__.firedrake_mesh'>\n",
      "-->             Data type f: <class '__main__.firedrake_mesh'>\n",
      "-->             Sweeper: <class 'pySDC.implementations.sweeper_classes.generic_implicit.generic_implicit'>\n",
      "-->                 QI = MIN-SR-S\n",
      "                    do_coll_update = False\n",
      "                    initial_guess = spread\n",
      "-->                 num_nodes = 3\n",
      "-->                 quad_type = RADAU-RIGHT\n",
      "                    skip_residual_computation = ()\n",
      "-->                 Collocation: <class 'pySDC.core.collocation.CollBase'>\n",
      "\n",
      "Active convergence controllers:\n",
      "    |  # | order | convergence controller\n",
      "----+----+-------+---------------------------------------------------------------------------------------\n",
      "    |  0 |    95 | BasicRestartingNonMPI\n",
      " -> |  1 |   100 | SpreadStepSizesBlockwiseNonMPI\n",
      "    |  2 |   200 | CheckConvergence\n",
      "\n",
      "controller - INFO: ----------------------------------------------------------------------------------------------------\n",
      "controller - INFO: Setup overview (--> user-defined, -> dependency) -- END\n",
      "\n",
      "hooks - INFO: Process  0 on time 0.000000 at stage         IT_FINE: Level: 0 -- Iteration:  1 -- Sweep:  1 -- residual: 3.49644770e-02\n",
      "hooks - INFO: Process  0 on time 0.000000 at stage         IT_FINE: Level: 0 -- Iteration:  2 -- Sweep:  1 -- residual: 7.30643742e-03\n",
      "hooks - INFO: Process  0 on time 0.000000 at stage         IT_FINE: Level: 0 -- Iteration:  3 -- Sweep:  1 -- residual: 1.18535196e-03\n",
      "hooks - INFO: Process  0 on time 0.000000 at stage         IT_FINE: Level: 0 -- Iteration:  4 -- Sweep:  1 -- residual: 1.81139704e-04\n",
      "hooks - INFO: Process  0 on time 0.000000 at stage         IT_FINE: Level: 0 -- Iteration:  5 -- Sweep:  1 -- residual: 2.72106805e-05\n",
      "hooks - INFO: Process  0 on time 0.000000 at stage         IT_FINE: Level: 0 -- Iteration:  6 -- Sweep:  1 -- residual: 4.06654595e-06\n",
      "hooks - INFO: Process  0 on time 0.000000 at stage         IT_FINE: Level: 0 -- Iteration:  7 -- Sweep:  1 -- residual: 6.06775666e-07\n",
      "hooks - INFO: Process  0 on time 0.000000 at stage         IT_FINE: Level: 0 -- Iteration:  8 -- Sweep:  1 -- residual: 9.04943340e-08\n",
      "hooks - INFO: Process  0 on time 1.000000 at stage         IT_FINE: Level: 0 -- Iteration:  1 -- Sweep:  1 -- residual: 1.30330088e-02\n",
      "hooks - INFO: Process  0 on time 1.000000 at stage         IT_FINE: Level: 0 -- Iteration:  2 -- Sweep:  1 -- residual: 2.72347455e-03\n",
      "hooks - INFO: Process  0 on time 1.000000 at stage         IT_FINE: Level: 0 -- Iteration:  3 -- Sweep:  1 -- residual: 4.41839941e-04\n",
      "hooks - INFO: Process  0 on time 1.000000 at stage         IT_FINE: Level: 0 -- Iteration:  4 -- Sweep:  1 -- residual: 6.75198248e-05\n",
      "hooks - INFO: Process  0 on time 1.000000 at stage         IT_FINE: Level: 0 -- Iteration:  5 -- Sweep:  1 -- residual: 1.01427812e-05\n",
      "hooks - INFO: Process  0 on time 1.000000 at stage         IT_FINE: Level: 0 -- Iteration:  6 -- Sweep:  1 -- residual: 1.51580500e-06\n",
      "hooks - INFO: Process  0 on time 1.000000 at stage         IT_FINE: Level: 0 -- Iteration:  7 -- Sweep:  1 -- residual: 2.26175630e-07\n",
      "hooks - INFO: Process  0 on time 1.000000 at stage         IT_FINE: Level: 0 -- Iteration:  8 -- Sweep:  1 -- residual: 3.37317631e-08\n",
      "hooks - INFO: Finished run after 9.90e-01s\n"
     ]
    }
   ],
   "source": [
    "from pySDC.implementations.sweeper_classes.generic_implicit import generic_implicit\n",
    "from pySDC.implementations.controller_classes.controller_nonMPI import controller_nonMPI\n",
    "from pySDC.implementations.hooks.log_errors import LogGlobalErrorPostIter\n",
    "\n",
    "# level and step parameters contain gemeral parameters such as how many SDC iterations will be done\n",
    "level_params = {}\n",
    "level_params['dt'] = 1\n",
    "level_params['restol'] = 1e-7\n",
    "\n",
    "step_params = {}\n",
    "step_params['maxiter'] = 9\n",
    "\n",
    "# the sweeper parameters describe the collocation problem and the preconditioner\n",
    "sweeper_params = {}\n",
    "sweeper_params['quad_type'] = 'RADAU-RIGHT'\n",
    "sweeper_params['num_nodes'] = 3\n",
    "sweeper_params['QI'] = 'MIN-SR-S'\n",
    "\n",
    "problem_params = {'n': 128, 'nu':1e-1, 'order': 4, 'comm': MPI.COMM_WORLD}\n",
    "\n",
    "# gather all parameters in one dictionary and add problem and sweeper class\n",
    "description = {}\n",
    "description['problem_class'] = HeatEquation\n",
    "description['problem_params'] = problem_params\n",
    "description['sweeper_class'] = generic_implicit\n",
    "description['sweeper_params'] = sweeper_params\n",
    "description['level_params'] = level_params\n",
    "description['step_params'] = step_params\n",
    "\n",
    "# more parameters for the controller\n",
    "controller_params = {}\n",
    "controller_params['logger_level'] = 15\n",
    "controller_params['hook_class'] = LogGlobalErrorPostIter\n",
    "\n",
    "# setup controller\n",
    "controller = controller_nonMPI(controller_params=controller_params, description=description, num_procs=1)\n",
    "\n",
    "# get initial coniditions\n",
    "P = controller.MS[0].levels[0].prob\n",
    "uinit = P.u_exact(0)\n",
    "\n",
    "uend, stats = controller.run(u0=uinit, t0=0, Tend=2)"
   ]
  },
  {
   "cell_type": "markdown",
   "id": "d770ecc8-fae3-40c2-bf41-49b5cc99998e",
   "metadata": {},
   "source": [
    "Ok. Great.\n",
    "Let's investigate further how error and residual behave between iterations.\n",
    "First, let's again see what kind of statistics we recorded.\n",
    "Note we used the `LogGlobalErrorPostIter` hook, which uses the `u_exact` function to compute the error."
   ]
  },
  {
   "cell_type": "code",
   "execution_count": 12,
   "id": "84a4887d-e697-4d1e-9495-f201fda8c5c1",
   "metadata": {},
   "outputs": [
    {
     "name": "stdout",
     "output_type": "stream",
     "text": [
      "['residual_post_sweep', 'residual_post_iteration', 'niter', 'residual_post_step', '_recomputed', 'timing_setup', 'timing_comm', 'timing_sweep', 'timing_iteration', 'timing_step', 'timing_run', 'e_global_post_iteration', 'e_global_rel_post_iteration', 'restart']\n"
     ]
    }
   ],
   "source": [
    "from pySDC.helpers.stats_helper import get_list_of_types\n",
    "print(get_list_of_types(stats))"
   ]
  },
  {
   "cell_type": "markdown",
   "id": "de02dd33-2f36-49e7-a1d6-a86977529a3e",
   "metadata": {},
   "source": [
    "Alright. Now we first use the function `get_sorted` to extract only the values from the first time step and sort them by iteration.\n",
    "Note that the residual is logged at the beginning of the step and the error at the end.\n",
    "So to get the values from the same step, we filter for `t=0` for residual and `t=1` for error."
   ]
  },
  {
   "cell_type": "code",
   "execution_count": 14,
   "id": "63d7750f-2403-4a51-9129-714dcd8752ec",
   "metadata": {},
   "outputs": [
    {
     "data": {
      "image/png": "[encoded data removed]",
      "text/plain": [
       "<Figure size 640x480 with 1 Axes>"
      ]
     },
     "metadata": {},
     "output_type": "display_data"
    }
   ],
   "source": [
    "from pySDC.helpers.stats_helper import get_sorted\n",
    "error_first_step_storted = get_sorted(stats, sortby='iter', type='e_global_post_iteration', time=1)\n",
    "residual_first_step_storted = get_sorted(stats, sortby='iter', type='residual_post_iteration', time=0)\n",
    "\n",
    "import matplotlib.pyplot as plt\n",
    "plt.plot([me[0] for me in error_first_step_storted], [me[1] for me in error_first_step_storted], label='error')\n",
    "plt.plot([me[0] for me in residual_first_step_storted], [me[1] for me in residual_first_step_storted], label='residual')\n",
    "plt.yscale('log')\n",
    "plt.legend(frameon=False)\n",
    "plt.show()"
   ]
  },
  {
   "cell_type": "markdown",
   "id": "185f4de0-7bbd-4b7a-92b2-1371ff66ebcd",
   "metadata": {},
   "source": [
    "Ups! The residual continues to go down, but the error does not.\n",
    "Seems we solved the collocation problem unnecessary accurately.\n",
    "The collocation problem is the discretization in time.\n",
    "Try increasing the number of collocation nodes to 5 or reducing the step size to reduce the error further.\n",
    "Once more we see that pySDC allows to collect vast amounts of data and perform detailed analysis.\n",
    "\n",
    "Finally, let's check about the caching of solvers.\n",
    "Looking at the timings, we should see that the first step takes much longer than subsequent ones."
   ]
  },
  {
   "cell_type": "code",
   "execution_count": 18,
   "id": "31d019c6-1b5d-45d3-a0a2-329feef3bf60",
   "metadata": {},
   "outputs": [
    {
     "name": "stdout",
     "output_type": "stream",
     "text": [
      "Took 6.49e-01s for the first step and 3.407e-01s for the second step\n"
     ]
    }
   ],
   "source": [
    "timings = get_sorted(stats, type='timing_step')\n",
    "print(f'Took {timings[0][1]:.2e}s for the first step and {timings[1][1]:.3e}s for the second step')"
   ]
  },
  {
   "cell_type": "markdown",
   "id": "7bc27a1f-87a5-456d-b07f-d1cff17f554a",
   "metadata": {},
   "source": [
    "## Summary\n",
    "In this notebook you saw how to couple pySDC with another library, in this case Firedrake.\n",
    "The main part of this is to write a datatype that connects the interfaces of pySDC and the library.\n",
    "Then, we implemented the heat equation to be integrated in time with pySDC and discretized in space with Firedrake.\n",
    "The problem classes add a little pySDC-specific infrastructure, but how difficult they are only as difficult to write as it is to use the library you are coupling to.\n",
    "Once the data type and problem implementations are done, you can readily plug this in to pySDC and enjoy access to all sorts of SDC-related things."
   ]
  }
 ],
 "metadata": {
  "kernelspec": {
   "display_name": "pySDC_firedrake",
   "language": "python",
   "name": "pysdc_firedrake"
  },
  "language_info": {
   "codemirror_mode": {
    "name": "ipython",
    "version": 3
   },
   "file_extension": ".py",
   "mimetype": "text/x-python",
   "name": "python",
   "nbconvert_exporter": "python",
   "pygments_lexer": "ipython3",
   "version": "3.13.5"
  }
 },
 "nbformat": 4,
 "nbformat_minor": 5
}
