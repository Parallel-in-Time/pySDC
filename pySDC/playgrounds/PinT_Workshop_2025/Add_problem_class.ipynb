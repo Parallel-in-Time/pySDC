{
 "cells": [
  {
   "cell_type": "markdown",
   "id": "ec87b1b6-dd1a-4add-a225-c0f50e0898d4",
   "metadata": {},
   "source": [
    "# Adding a problem to pySDC\n",
    "\n",
    "In this notebook, we will implement a simple advection-diffusion equation $$u_t = f(u) = \\nu u_{xx} + cu_x$$ with periodic boundary conditions using finite differences.\n",
    "Let's have a look at the math that we need to implement in order to integrate this with SDC.\n",
    "\n",
    "The SDC iteration is $$(1-\\Delta t \\tilde{q}_{m+1,m+1} f)(u_{m+1}^{k+1}) = u_0 + \\Delta t \\sum_{j=1}^m \\tilde{q}_{m+1, j} f(u_{j}^{k+1}) -\\Delta t \\sum_{j=1}^{m+1}\\tilde{q}_{m+1,j} f(u_{j}^{k}) + \\Delta t \\sum_{j=1}^M q_{m+1, j} (f)(u_{j}^k), \\quad m = 0, \\dots, M-1,$$ where $q_{ij}$ and $\\tilde{q}_{ij}$ are the entries of the quadrature matrix and preconditioner respectively.\n",
    "The right hand side is a weighted sum of evaluations of $f$ with solutions at various collocation nodes and iterations and the left hand side is essentially an implicit Euler step with step size modified by the preconditioner.\n",
    "Therefore, the only math we need to implement in the problem class is **evaluating $f$** and **solving implicit Euler steps**.\n",
    "\n",
    "Keep in mind that you can use an explicit preconditioner, in which case you don't even need the implicit Euler solves, but explicit SDC is rarely useful.\n",
    "If implementing an implicit Euler step for your problem is too difficult, consider splitting off difficult terms and integrating them explicitly or designing a novel SDC scheme.\n",
    "The iterative nature of SDC allows a lot of freedom which is one of the key advantages of SDC."
   ]
  },
  {
   "cell_type": "markdown",
   "id": "030046d9-7d59-4240-b115-0367dc45becd",
   "metadata": {},
   "source": [
    "## Evaluating $f$\n",
    "\n",
    "In finite difference discretizations, we compute derivatives by multiplying matrices with a vector of solution values at the grid points.\n",
    "In pySDC we have some infrastructure for generating finite difference matrices, making this very easy to implement.\n",
    "\n",
    "We generate one matrix for the advection part, i.e. we discretize the first derivative, and one matrix for the diffusion part via the second derivative.\n",
    "The $f$ evaluation is then a weighted sum of the matrices multiplied by the solution vector."
   ]
  },
  {
   "cell_type": "code",
   "execution_count": 1,
   "id": "a6a52388-db37-4bf3-a721-936013c87c2a",
   "metadata": {},
   "outputs": [],
   "source": [
    "import numpy as np\n",
    "from pySDC.helpers.problem_helper import get_finite_difference_matrix, get_1d_grid\n",
    "\n",
    "# problem parameters\n",
    "nu = 1e-3\n",
    "c = 1e-1\n",
    "N = 128\n",
    "\n",
    "# setup grid\n",
    "dx, grid = get_1d_grid(size=N, bc='periodic', left_boundary=0, right_boundary=2*np.pi)\n",
    "\n",
    "# setup finite difference matrices\n",
    "fd_params = {'order': 4, 'stencil_type': 'center', 'dx': dx, 'size': N, 'dim': 1, 'bc': 'periodic'}\n",
    "advection, _ = get_finite_difference_matrix(derivative=1, **fd_params)\n",
    "diffusion, _ = get_finite_difference_matrix(derivative=2, **fd_params)\n",
    "\n",
    "def eval_f(u):\n",
    "    return (c*advection + nu*diffusion) @ u"
   ]
  },
  {
   "cell_type": "markdown",
   "id": "12f8ba5f-536b-4442-b290-97d1e3156b29",
   "metadata": {},
   "source": [
    "Before moving on, we briefly verify that we did the correct thing by comparing the numerical derivatives to exact ones for a simple sine wave:"
   ]
  },
  {
   "cell_type": "code",
   "execution_count": 2,
   "id": "0175c5c7-c6a1-4294-a05b-dbce06aab22d",
   "metadata": {},
   "outputs": [],
   "source": [
    "u = np.sin(grid)\n",
    "assert np.allclose(diffusion@u, -np.sin(grid))  # check diffusion part\n",
    "assert np.allclose(advection@u, np.cos(grid))  # check advection part\n",
    "assert np.allclose(eval_f(u), -nu*np.sin(grid)+c*np.cos(grid))  # check f evaluation"
   ]
  },
  {
   "cell_type": "markdown",
   "id": "cd1a83c9-4c8a-478c-b03d-62d15051158c",
   "metadata": {},
   "source": [
    "## Implicit Euler step\n",
    "\n",
    "In the implicit Euler step, we solve $(1-\\Delta t f)(u) = y$, where $y$ is some arbitrary right hand side. We use a simple direct solver and the matrices we used to evaluate $f$ here:"
   ]
  },
  {
   "cell_type": "code",
   "execution_count": 3,
   "id": "6255bfe5-ea1a-4935-806d-ced08889f8fc",
   "metadata": {},
   "outputs": [],
   "source": [
    "from scipy.sparse.linalg import spsolve\n",
    "from scipy.sparse import eye\n",
    "\n",
    "def implicit_euler(rhs, dt):\n",
    "    A = eye(N) - dt*(c*advection + nu*diffusion)\n",
    "    return spsolve(A, rhs)"
   ]
  },
  {
   "cell_type": "markdown",
   "id": "018b2fe3-063f-47da-8a8f-54cfe6448bd1",
   "metadata": {},
   "source": [
    "Let's once again verify the implementation. This time, we will compare to exact solutions for either the diffusion or the advection equation, which we obtain by setting the $c$ or $\\nu$ parameters to 0."
   ]
  },
  {
   "cell_type": "code",
   "execution_count": 4,
   "id": "b64b8a1c-0dba-4deb-bfef-ddf694a400e0",
   "metadata": {},
   "outputs": [],
   "source": [
    "u = np.sin(grid)\n",
    "dt = 1e-2\n",
    "\n",
    "# check advection\n",
    "nu = 0\n",
    "c = 1e-1\n",
    "assert np.allclose(implicit_euler(u, dt), np.sin(grid+c*dt))\n",
    "\n",
    "# check diffusion\n",
    "nu = 1e-1\n",
    "c = 0\n",
    "assert np.allclose(implicit_euler(u, dt), np.sin(grid)*np.exp(-nu*dt))"
   ]
  },
  {
   "cell_type": "markdown",
   "id": "1a429069-cada-46e2-9a6b-c2560cfdcfd2",
   "metadata": {},
   "source": [
    "## Implementing this class in pySDC\n",
    "\n",
    "So far, we have looked at what math you need to implement in order to do SDC with your problem, now we will set up a class with the same functionality that we can then hand to pySDC to actually run SDC."
   ]
  },
  {
   "cell_type": "code",
   "execution_count": 5,
   "id": "2c2c43e2-d0a9-417b-8ccb-ee14cbabdd39",
   "metadata": {},
   "outputs": [],
   "source": [
    "from pySDC.core.problem import Problem, WorkCounter\n",
    "from pySDC.implementations.datatype_classes.mesh import mesh\n",
    "import scipy.sparse as sp\n",
    "import numpy as np\n",
    "\n",
    "class AdvectionDiffusion(Problem):\n",
    "    dtype_u = mesh  # wraps numpy ndarray\n",
    "    dtype_f = mesh\n",
    "    \n",
    "    def __init__(self, N, c, nu):\n",
    "        init = (N, None, np.dtype('float64'))  # describes how to initialize data\n",
    "        super().__init__(init=init)\n",
    "        \n",
    "        # setup grid\n",
    "        dx, self.grid = get_1d_grid(size=N, bc='periodic', left_boundary=0, right_boundary=2*np.pi)\n",
    "\n",
    "        # setup finite difference matrices\n",
    "        fd_params = {'order': 4, 'stencil_type': 'center', 'dx': dx, 'size': N, 'dim': 1, 'bc': 'periodic'}\n",
    "        advection, _ = get_finite_difference_matrix(derivative=1, **fd_params)\n",
    "        diffusion, _ = get_finite_difference_matrix(derivative=2, **fd_params)\n",
    "\n",
    "        # setup matrices used in eval_f and implicit_euler\n",
    "        self.A = c * advection + nu * diffusion\n",
    "        self.Id = sp.eye(N)\n",
    "\n",
    "        # store attribute and register them as parameters\n",
    "        self._makeAttributeAndRegister('N', 'c', 'nu', localVars=locals(), readOnly=True)\n",
    "        self.work_counters['gmres'] = WorkCounter()\n",
    "\n",
    "    def eval_f(self, u, t):\n",
    "        me = self.f_init\n",
    "        me[...] = self.A @ u\n",
    "        return me\n",
    "\n",
    "    # the implicit Euler step is called solve_system here, because it can be sth. else in a different SDC scheme\n",
    "    def solve_system(self, rhs, factor, u0, t):\n",
    "        me = self.u_init\n",
    "        me[...], _ = sp.linalg.gmres(self.Id - factor*self.A, rhs, x0=u0, callback=self.work_counters['gmres'], rtol=1e-10, callback_type='pr_norm')\n",
    "        return me\n",
    "\n",
    "    def u0(self):\n",
    "        me = self.u_init\n",
    "        me[...] = np.sin(self.grid)\n",
    "        return me"
   ]
  },
  {
   "cell_type": "markdown",
   "id": "67758807-7f0c-4972-9dd8-e03cebc27b10",
   "metadata": {},
   "source": [
    "Let's do the same tests once more:"
   ]
  },
  {
   "cell_type": "code",
   "execution_count": 6,
   "id": "98e6c97a-8fd1-4947-8981-d31f7b6e7a0b",
   "metadata": {},
   "outputs": [],
   "source": [
    "prob = AdvectionDiffusion(128, 1e-1, 1e-3)\n",
    "u = prob.u0()\n",
    "assert np.allclose(prob.eval_f(u, 0), -prob.nu*np.sin(prob.grid)+prob.c*np.cos(prob.grid))\n",
    "\n",
    "dt = 1e-2\n",
    "advection_prob = AdvectionDiffusion(N=128, c=1e-1, nu=0)\n",
    "u = advection_prob.u0()\n",
    "assert abs(advection_prob.solve_system(u, dt, u, 0)- np.sin(advection_prob.grid+advection_prob.c*dt)) < 1e-6\n",
    "\n",
    "diffusion_prob = AdvectionDiffusion(N=128, c=0, nu=1e-1)\n",
    "u = diffusion_prob.u0()\n",
    "assert abs(diffusion_prob.solve_system(u, dt, u, 0)- np.sin(diffusion_prob.grid)*np.exp(-diffusion_prob.nu*dt)) < 1e-6"
   ]
  }
 ],
 "metadata": {
  "kernelspec": {
   "display_name": "pySDC_jupyter",
   "language": "python",
   "name": "pysdc_jupyter"
  },
  "language_info": {
   "codemirror_mode": {
    "name": "ipython",
    "version": 3
   },
   "file_extension": ".py",
   "mimetype": "text/x-python",
   "name": "python",
   "nbconvert_exporter": "python",
   "pygments_lexer": "ipython3",
   "version": "3.13.3"
  }
 },
 "nbformat": 4,
 "nbformat_minor": 5
}
